{
  "nbformat": 4,
  "nbformat_minor": 0,
  "metadata": {
    "colab": {
      "provenance": []
    },
    "kernelspec": {
      "name": "python3",
      "display_name": "Python 3"
    },
    "language_info": {
      "name": "python"
    }
  },
  "cells": [
    {
      "cell_type": "code",
      "execution_count": null,
      "metadata": {
        "id": "UPB9Ahvz97rO"
      },
      "outputs": [],
      "source": [
        "Bill No : 100000000101\n",
        "------------------------------\n",
        "Tea     12    5\n",
        "Water   20    1\n",
        "------------------------------\n",
        "Total Amount : 80"
      ]
    },
    {
      "cell_type": "code",
      "source": [
        "\n",
        "import time\n",
        "\n",
        "bill_no = 100000000100\n",
        "\n",
        "while True:\n",
        "\n",
        "  on_off = input(\"Machine On or OFF (Y/N) : \").upper()\n",
        "\n",
        "  if on_off == \"Y\":\n",
        "\n",
        "    tea = coffee = water = banmaska = 0\n",
        "    time.sleep(3)\n",
        "\n",
        "    user = input(\"Do You Want To Order : (Y/N)\").upper()\n",
        "\n",
        "    if user == \"Y\":\n",
        "\n",
        "      tea = int(input(\"Tea \\t 12 \\t \"))\n",
        "      coffee = int(input(\"Coffee \\t 25 \\t \"))\n",
        "      water = int(input(\"Water \\t 20 \\t \"))\n",
        "      banmaska = int(input(\"Banmaska \\t 25 \\t \"))\n",
        "\n",
        "\n",
        "      # Bill Priting\n",
        "      bill_no += 1\n",
        "\n",
        "      time.sleep(3)\n",
        "      print(\"\\n\\nBill No :/t \", bill_no)\n",
        "      print(\"----------------------------------\")\n",
        "\n",
        "      if tea > 0:\n",
        "        print(\"Tea \\t\\t 12 \\t \", tea, (tea*12))\n",
        "\n",
        "      if coffee > 0:\n",
        "        print(\"Coffee \\t\\t 25 \\t \", coffee,( coffee*25))\n",
        "\n",
        "      if water > 0:\n",
        "        print(\"Water \\t\\t 20 \\t \", water, (water*20))\n",
        "\n",
        "      if banmaska > 0:\n",
        "        print(\"Banmaska \\t 25 \\t \", banmaska, (banmaska*25))\n",
        "\n",
        "      print(\"----------------------------------\")\n",
        "\n",
        "      total_bill = (tea*12) + (coffee*25) + (water*20)+ (banmaska*25)\n",
        "      print(\"Total Payable Amount : \\t\", total_bill ,\"\\n\\n\")\n",
        "\n",
        "\n",
        "    elif user == \"N\":\n",
        "      print(\"\\nThanks For Visiting \\n\")\n",
        "\n",
        "    else:\n",
        "      print(\"\\nProvide Correct Data \\n\")\n",
        "\n",
        "  elif on_off == \"N\".upper():\n",
        "    print(\"\\n ----------- Switch OFF ----------- \\n\")\n",
        "    break\n",
        "\n",
        "  else:\n",
        "    pass\n"
      ],
      "metadata": {
        "colab": {
          "base_uri": "https://localhost:8080/"
        },
        "id": "dOOj4WfV_u0f",
        "outputId": "3da5f002-4e9e-417b-9acc-35e63bd0849b"
      },
      "execution_count": null,
      "outputs": [
        {
          "output_type": "stream",
          "name": "stdout",
          "text": [
            "Machine On or OFF (Y/N) : y\n",
            "Do You Want To Order : (Y/N)y\n",
            "Tea \t 12 \t 10\n",
            "Coffee \t 25 \t 10\n",
            "Water \t 20 \t 5\n",
            "Banmaska \t 25 \t 10\n",
            "\n",
            "\n",
            "Bill No :/t  100000000101\n",
            "----------------------------------\n",
            "Tea \t\t 12 \t  10 120\n",
            "Coffee \t\t 25 \t  10 250\n",
            "Water \t\t 20 \t  5 100\n",
            "Banmaska \t 25 \t  10 250\n",
            "----------------------------------\n",
            "Total Payable Amount : \t 720 \n",
            "\n",
            "\n",
            "Machine On or OFF (Y/N) : y\n",
            "Do You Want To Order : (Y/N)y\n",
            "Tea \t 12 \t 2\n",
            "Coffee \t 25 \t 2\n",
            "Water \t 20 \t 0\n",
            "Banmaska \t 25 \t 0\n",
            "\n",
            "\n",
            "Bill No :/t  100000000102\n",
            "----------------------------------\n",
            "Tea \t\t 12 \t  2 24\n",
            "Coffee \t\t 25 \t  2 50\n",
            "----------------------------------\n",
            "Total Payable Amount : \t 74 \n",
            "\n",
            "\n",
            "Machine On or OFF (Y/N) : gfxgf\n",
            "Machine On or OFF (Y/N) : n\n",
            "\n",
            " ----------- Switch OFF ----------- \n",
            "\n"
          ]
        }
      ]
    },
    {
      "cell_type": "code",
      "source": [
        "# Logic Building"
      ],
      "metadata": {
        "id": "GMj-OtvrE_46"
      },
      "execution_count": null,
      "outputs": []
    },
    {
      "cell_type": "code",
      "source": [
        "\n",
        "'''\n",
        "10 -> 4\n",
        "20 -> 1 '''\n",
        "\n",
        "# condition --> without using count() function\n",
        "\n",
        "l = [10, 10, 10, 20, 40, 90, 2, 30, 10]\n",
        "uni_list = set()\n",
        "\n",
        "for x in range(len(l)):   # set = (10, 20, ....)\n",
        "\n",
        "  if l[x] not in uni_list:\n",
        "    counter = 0\n",
        "\n",
        "    for y in range(len(l)):\n",
        "      if l[x] == l[y]:\n",
        "        counter += 1\n",
        "\n",
        "    print(l[x], \" -> \", counter)\n",
        "    uni_list.add(l[x])\n"
      ],
      "metadata": {
        "colab": {
          "base_uri": "https://localhost:8080/"
        },
        "id": "s52UAxTpHRl_",
        "outputId": "3f87948b-a202-4f64-f83e-4b0c8c5b6843"
      },
      "execution_count": null,
      "outputs": [
        {
          "output_type": "stream",
          "name": "stdout",
          "text": [
            "10  ->  4\n",
            "20  ->  1\n",
            "40  ->  1\n",
            "90  ->  1\n",
            "2  ->  1\n",
            "30  ->  1\n"
          ]
        }
      ]
    },
    {
      "cell_type": "code",
      "source": [
        "# declare a list -->\n",
        "# l1 = [10, 20, 90]\n",
        "# l2 = [0, 3, 100]\n",
        "\n",
        "'''\n",
        "1 --> [10, 20, 90, 0, 3, 100]\n",
        "2 --> [0, 3, 10, 20, 90, 100]\n",
        "'''\n",
        "\n",
        "l1 = [10, 20, 90]\n",
        "l2 = [0, 3, 100]\n",
        "\n",
        "print(l1 + l2)\n",
        "l1.extend(l2)   # [10, 20, 90, 0, 3, 100]\n"
      ],
      "metadata": {
        "colab": {
          "base_uri": "https://localhost:8080/"
        },
        "id": "9UfvbaiBHkm9",
        "outputId": "415c8100-0535-4b35-8de9-d959c4b7b771"
      },
      "execution_count": null,
      "outputs": [
        {
          "output_type": "stream",
          "name": "stdout",
          "text": [
            "[10, 20, 90, 0, 3, 100]\n"
          ]
        }
      ]
    },
    {
      "cell_type": "code",
      "source": [
        "l1 = [10, 20, 90]\n",
        "l2 = [0, 3, 100]\n",
        "print(sorted(l1+l2))"
      ],
      "metadata": {
        "colab": {
          "base_uri": "https://localhost:8080/"
        },
        "id": "k5P6ZWDPK4X-",
        "outputId": "f82ba070-4560-480d-b537-19041ffd8d49"
      },
      "execution_count": null,
      "outputs": [
        {
          "output_type": "stream",
          "name": "stdout",
          "text": [
            "[0, 3, 10, 20, 90, 100]\n"
          ]
        }
      ]
    },
    {
      "cell_type": "code",
      "source": [
        "# declare a empty list\n",
        "# insert element till first blanck is given\n",
        "# and print original list and\n",
        "#  output list --> [[even], [odd]]\n",
        "# Sample input --> [10, 2, 3, 4, 5, 6, 7]\n",
        "# Expected output --> [[10, 2, 4, 5], [3, 5, 7]]\n",
        "\n",
        "\n",
        "user_list = []\n",
        "l2 = [[], []]\n",
        "\n",
        "while True:\n",
        "  user_data = input(\"Enter Number -> \")\n",
        "\n",
        "  if user_data == \"\":\n",
        "    break\n",
        "  else:\n",
        "    user_list.append(int(user_data))\n",
        "\n",
        "for num in user_list:\n",
        "  if num % 2 == 0:\n",
        "    l2[0].append(num)\n",
        "  else:\n",
        "     l2[1].append(num)\n",
        "\n",
        "\n",
        "print(user_list)\n",
        "print(l2)\n"
      ],
      "metadata": {
        "colab": {
          "base_uri": "https://localhost:8080/"
        },
        "id": "xBiZm4UjH66F",
        "outputId": "9bc38091-252a-4f48-905f-4710ea118264"
      },
      "execution_count": null,
      "outputs": [
        {
          "output_type": "stream",
          "name": "stdout",
          "text": [
            "Enter Number -> 10\n",
            "Enter Number -> 1\n",
            "Enter Number -> 2\n",
            "Enter Number -> 3\n",
            "Enter Number -> 4\n",
            "Enter Number -> 5\n",
            "Enter Number -> 6\n",
            "Enter Number -> 7\n",
            "Enter Number -> 8\n",
            "Enter Number -> \n",
            "[10, 1, 2, 3, 4, 5, 6, 7, 8]\n",
            "[[10, 2, 4, 6, 8], [1, 3, 5, 7]]\n"
          ]
        }
      ]
    },
    {
      "cell_type": "code",
      "source": [
        "# [[even], [odd]]\n",
        "# [even]\n",
        "# [odd]\n",
        "\n",
        "for list in l2:\n",
        "  print(list)"
      ],
      "metadata": {
        "colab": {
          "base_uri": "https://localhost:8080/"
        },
        "id": "jwRAb3vLPJs0",
        "outputId": "feb9e54e-f13f-4e98-8929-2ed99fd84812"
      },
      "execution_count": null,
      "outputs": [
        {
          "output_type": "stream",
          "name": "stdout",
          "text": [
            "[10, 2, 4, 6, 8]\n",
            "[1, 3, 5, 7]\n"
          ]
        }
      ]
    },
    {
      "cell_type": "code",
      "source": [
        "# Remove duplicate elements from list\n",
        "# Sample Input -> l = [10, 10, 10, 20, 10, 20, 20, 30, 10]\n",
        "# Expected Output -> [10, 20, 30]  -> {10, 20, 30}\n",
        "\n",
        "l = [10, 10, 10, 20, 10, 20, 20, 30, 10]\n",
        "outPut = []\n",
        "\n",
        "for x in l:\n",
        "  if x not in outPut:\n",
        "    outPut.append(x)\n",
        "print(outPut)\n"
      ],
      "metadata": {
        "colab": {
          "base_uri": "https://localhost:8080/"
        },
        "id": "RL8OWJjbNn_N",
        "outputId": "3cc39bdf-9d55-487c-dc04-be17629a3bd4"
      },
      "execution_count": null,
      "outputs": [
        {
          "output_type": "stream",
          "name": "stdout",
          "text": [
            "[10, 20, 30]\n"
          ]
        }
      ]
    },
    {
      "cell_type": "code",
      "source": [
        "l = [10, 10, 10, 20, 10, 20, 20, 30, 10]\n",
        "outPut = []\n",
        "s = set()\n",
        "\n",
        "for x in l:\n",
        "  if x not in s:\n",
        "    s.add(x)\n",
        "\n",
        "print(s)\n",
        "\n"
      ],
      "metadata": {
        "colab": {
          "base_uri": "https://localhost:8080/"
        },
        "id": "7EsCpfTQYC0p",
        "outputId": "88472ddf-bc90-4c85-e184-84f47e810cd6"
      },
      "execution_count": null,
      "outputs": [
        {
          "output_type": "stream",
          "name": "stdout",
          "text": [
            "{10, 20, 30}\n"
          ]
        }
      ]
    },
    {
      "cell_type": "code",
      "source": [
        "# Sample Input --> [10, 20, 30, 40]   -> 5, 10, 15, 20\n",
        "#                  [10, 20, 30, 40]\n",
        "# Expected output --> [15, 30, 45, 60]\n",
        "\n",
        "l1 = [10, 20, 30, 40]\n",
        "l2 = [10, 20, 30, 40]\n",
        "for x in range(len(l1)):\n",
        "  # print(l1[x] + l2[x] // 2)\n",
        "  l1[x] = l1[x] + l2[x] // 2\n",
        "print(l1)"
      ],
      "metadata": {
        "colab": {
          "base_uri": "https://localhost:8080/"
        },
        "id": "6SiYVJyeOODO",
        "outputId": "df4502dc-ed9c-41a7-8df5-4196903acd19"
      },
      "execution_count": null,
      "outputs": [
        {
          "output_type": "stream",
          "name": "stdout",
          "text": [
            "[15, 30, 45, 60]\n"
          ]
        }
      ]
    },
    {
      "cell_type": "code",
      "source": [
        "# sample Input -->  [10, 10, 10, 20, 40, 90, 2, 30, 10], remove -> 10\n",
        "# Expected output -> [20, 40, 90, 2, 30]\n",
        "\n",
        "l = [10, 10, 10, 20, 40, 90, 2, 30, 10]\n",
        "user = int(input(\"Enter Element : \"))\n",
        "\n",
        "while True:\n",
        "  if l.count(user) == 0:\n",
        "    break\n",
        "  # print(l)\n",
        "  l.remove(user)\n",
        "\n",
        "l"
      ],
      "metadata": {
        "id": "BX0eUiqBOrrD",
        "colab": {
          "base_uri": "https://localhost:8080/"
        },
        "outputId": "f7c305df-4e2f-44b9-dca8-8414d645bcf4"
      },
      "execution_count": null,
      "outputs": [
        {
          "name": "stdout",
          "output_type": "stream",
          "text": [
            "Enter Element : 10\n"
          ]
        },
        {
          "output_type": "execute_result",
          "data": {
            "text/plain": [
              "[20, 40, 90, 2, 30]"
            ]
          },
          "metadata": {},
          "execution_count": 6
        }
      ]
    },
    {
      "cell_type": "code",
      "source": [
        "# String is palindrome or not\n",
        "# sample inpute --> 123\n",
        "# expected output ---> not palindrome\n",
        "\n",
        "# sample inpute --> 12321\n",
        "# expected output ---> num is palindrome\n",
        "\n",
        "user = input(\"Enter Element : \")\n",
        "\n",
        "rev = user[::-1]\n",
        "\n",
        "if rev == user:\n",
        "  print(\"Yes Palindrome\")\n",
        "else:\n",
        "  print(\"Not a  Palindrome\")"
      ],
      "metadata": {
        "id": "mc9Ss8nSPUgA",
        "colab": {
          "base_uri": "https://localhost:8080/"
        },
        "outputId": "4114be92-701e-489e-a2b0-9a9ac7e2ad8f"
      },
      "execution_count": null,
      "outputs": [
        {
          "output_type": "stream",
          "name": "stdout",
          "text": [
            "Enter Element : 12321\n",
            "Yes Palindrome\n"
          ]
        }
      ]
    },
    {
      "cell_type": "code",
      "source": [
        "import math\n",
        "\n",
        "a = 10\n",
        "print(math.pow(a, 2))"
      ],
      "metadata": {
        "id": "AZEVbfGhPpQ4",
        "colab": {
          "base_uri": "https://localhost:8080/"
        },
        "outputId": "16e0b24d-75d8-42a2-9dc5-350d8c932942"
      },
      "execution_count": null,
      "outputs": [
        {
          "output_type": "stream",
          "name": "stdout",
          "text": [
            "100.0\n"
          ]
        }
      ]
    },
    {
      "cell_type": "code",
      "source": [
        "import math as m\n",
        "\n",
        "a = 10\n",
        "print(m.pow(a, 2))"
      ],
      "metadata": {
        "colab": {
          "base_uri": "https://localhost:8080/"
        },
        "id": "72GBcYmnviJC",
        "outputId": "6c9c4736-d03b-42ef-fab9-b2e4bd595bad"
      },
      "execution_count": null,
      "outputs": [
        {
          "output_type": "stream",
          "name": "stdout",
          "text": [
            "100.0\n"
          ]
        }
      ]
    },
    {
      "cell_type": "code",
      "source": [
        "from math import pow\n",
        "\n",
        "a = 10\n",
        "print(math.pow(a, 2))"
      ],
      "metadata": {
        "colab": {
          "base_uri": "https://localhost:8080/"
        },
        "id": "pOv0--ghvp1I",
        "outputId": "9e9e1f7d-a0ff-4ebd-c28c-14f4f257532a"
      },
      "execution_count": null,
      "outputs": [
        {
          "output_type": "stream",
          "name": "stdout",
          "text": [
            "100.0\n"
          ]
        }
      ]
    },
    {
      "cell_type": "code",
      "source": [
        "a = math.floor(100.50)\n",
        "print(a)"
      ],
      "metadata": {
        "colab": {
          "base_uri": "https://localhost:8080/"
        },
        "id": "O51xwb6uvvnC",
        "outputId": "49587bdf-3577-4555-8a69-6161621157a5"
      },
      "execution_count": null,
      "outputs": [
        {
          "output_type": "stream",
          "name": "stdout",
          "text": [
            "100\n"
          ]
        }
      ]
    },
    {
      "cell_type": "code",
      "source": [
        "print(math.ceil(100.50))"
      ],
      "metadata": {
        "colab": {
          "base_uri": "https://localhost:8080/"
        },
        "id": "hTf5wwSzwKnm",
        "outputId": "4b124387-ef9e-4b06-962c-a7ee01bf0d76"
      },
      "execution_count": null,
      "outputs": [
        {
          "output_type": "stream",
          "name": "stdout",
          "text": [
            "101\n"
          ]
        }
      ]
    },
    {
      "cell_type": "code",
      "source": [
        "import random\n",
        "\n",
        "a = random.randint(1, 100)\n",
        "print(a)"
      ],
      "metadata": {
        "colab": {
          "base_uri": "https://localhost:8080/"
        },
        "id": "qjBCw9Agwczb",
        "outputId": "aa8d6f8c-10f2-49ff-f204-3c1a51213456"
      },
      "execution_count": null,
      "outputs": [
        {
          "output_type": "stream",
          "name": "stdout",
          "text": [
            "70\n"
          ]
        }
      ]
    },
    {
      "cell_type": "code",
      "source": [
        "print( random.randint(1, 900))"
      ],
      "metadata": {
        "colab": {
          "base_uri": "https://localhost:8080/"
        },
        "id": "3nKY710mxE-P",
        "outputId": "3a152ca0-1991-4144-a644-181d93bab375"
      },
      "execution_count": null,
      "outputs": [
        {
          "output_type": "stream",
          "name": "stdout",
          "text": [
            "100\n"
          ]
        }
      ]
    },
    {
      "cell_type": "code",
      "source": [
        "print( random.randint(0, 9), random.randint(0, 9), random.randint(0, 9), random.randint(0, 9))"
      ],
      "metadata": {
        "colab": {
          "base_uri": "https://localhost:8080/"
        },
        "id": "_-HPnV9_xG48",
        "outputId": "8831199a-0e83-4e33-a8cb-07536fc741ea"
      },
      "execution_count": null,
      "outputs": [
        {
          "output_type": "stream",
          "name": "stdout",
          "text": [
            "9 1 0 4\n"
          ]
        }
      ]
    },
    {
      "cell_type": "code",
      "source": [
        "for num in range(1, 5):\n",
        "  print(random.randint(0, 9), end = \" \")"
      ],
      "metadata": {
        "colab": {
          "base_uri": "https://localhost:8080/"
        },
        "id": "bzppcXlzxZzQ",
        "outputId": "e02a2b88-f3ae-460e-9e3e-8e48044d7396"
      },
      "execution_count": null,
      "outputs": [
        {
          "output_type": "stream",
          "name": "stdout",
          "text": [
            "4 5 4 7 "
          ]
        }
      ]
    },
    {
      "cell_type": "code",
      "source": [
        "import random\n",
        "l = ['a', 'b', 'c', 'd']\n",
        "random.shuffle(l)\n"
      ],
      "metadata": {
        "id": "QRJX41naxuUv"
      },
      "execution_count": null,
      "outputs": []
    },
    {
      "cell_type": "code",
      "source": [
        "l"
      ],
      "metadata": {
        "colab": {
          "base_uri": "https://localhost:8080/"
        },
        "id": "3fmlN5U7yenC",
        "outputId": "9b9dc8dc-4368-4e94-8078-2c86dcb09e68"
      },
      "execution_count": null,
      "outputs": [
        {
          "output_type": "execute_result",
          "data": {
            "text/plain": [
              "['a', 'b', 'c', 'd']"
            ]
          },
          "metadata": {},
          "execution_count": 37
        }
      ]
    },
    {
      "cell_type": "code",
      "source": [
        "# Project -> Number guessing\n",
        "import random\n",
        "\n",
        "machine = random.randint(1, 10)\n",
        "user = int(input(\"Guess A Number : \"))\n",
        "while True:\n",
        "\n",
        "  print(machine)\n",
        "  if user == machine:\n",
        "    print(\"You Won...👏👏👏👏👏\")\n",
        "    break\n",
        "  else:\n",
        "    print(\"Try Again....\")\n",
        "    user = int(input(\"Guess A Number : \"))"
      ],
      "metadata": {
        "colab": {
          "base_uri": "https://localhost:8080/"
        },
        "id": "xukG3kAGyqCc",
        "outputId": "115b4cd7-46c1-41a0-a5a3-285e55779081"
      },
      "execution_count": null,
      "outputs": [
        {
          "output_type": "stream",
          "name": "stdout",
          "text": [
            "Guess A Number : 5\n",
            "7\n",
            "Try Again....\n",
            "Guess A Number : 7\n",
            "7\n",
            "You Won...👏👏👏👏👏\n"
          ]
        }
      ]
    },
    {
      "cell_type": "code",
      "source": [
        "# 1 - 100\n",
        "# computer --> 30\n",
        "# user --> 50 --> print --> guess lower\n",
        "# user --> 25 --> print --> guess higher\n",
        "# user --> 28 --> print --> guess higher\n",
        "# user --> 30 --> you won\n",
        "\n",
        "\n",
        "import random\n",
        "\n",
        "machine = random.randint(1, 100)\n",
        "while True:\n",
        "\n",
        "  user = int(input(\"Guess Number -> \"))\n",
        "  if user == machine:\n",
        "    print(\"You Won...👏👏👏👏👏\")\n",
        "    break\n",
        "  elif user > machine:\n",
        "    print(\"guess lower...\")\n",
        "  elif user < machine:\n",
        "    print(\"guess higher...\")\n",
        "\n"
      ],
      "metadata": {
        "colab": {
          "base_uri": "https://localhost:8080/"
        },
        "id": "tNRZeDsrzt9Q",
        "outputId": "d55e64e7-e323-4ecb-cb78-f1bcf4180010"
      },
      "execution_count": null,
      "outputs": [
        {
          "output_type": "stream",
          "name": "stdout",
          "text": [
            "Guess Number -> 50\n",
            "guess higher...\n",
            "Guess Number -> 75\n",
            "guess higher...\n",
            "Guess Number -> 85\n",
            "guess lower...\n",
            "Guess Number -> 80\n",
            "guess higher...\n",
            "Guess Number -> 83\n",
            "guess lower...\n",
            "Guess Number -> 82\n",
            "You Won...👏👏👏👏👏\n"
          ]
        }
      ]
    },
    {
      "cell_type": "code",
      "source": [
        "# 1 - 100\n",
        "# computer --> 30\n",
        "# user --> 50 --> print --> guess lower\n",
        "# user --> 25 --> print --> guess higher\n",
        "# user --> 28 --> print --> guess higher\n",
        "# user --> 30 --> you won\n",
        "\n",
        "\n",
        "import random\n",
        "\n",
        "machine = random.randint(1, 100)\n",
        "attempts = 0\n",
        "\n",
        "while True:\n",
        "\n",
        "  user = int(input(\"Guess Number -> \"))\n",
        "  if user == machine:\n",
        "    print(\"You Won...👏👏👏👏👏\")\n",
        "    attempts += 1\n",
        "    break\n",
        "  elif user > machine:\n",
        "    print(\"guess lower...\")\n",
        "    attempts += 1\n",
        "  elif user < machine:\n",
        "    print(\"guess higher...\")\n",
        "    attempts += 1\n",
        "\n",
        "print(\"You Attempt : \", attempts)\n",
        "\n"
      ],
      "metadata": {
        "colab": {
          "base_uri": "https://localhost:8080/"
        },
        "id": "Ak5vm33r3f9I",
        "outputId": "df3405c8-1628-4e89-d6e4-71741cf35e6b"
      },
      "execution_count": null,
      "outputs": [
        {
          "output_type": "stream",
          "name": "stdout",
          "text": [
            "Guess Number -> 50\n",
            "guess higher...\n",
            "Guess Number -> 75\n",
            "guess lower...\n",
            "Guess Number -> 65\n",
            "guess lower...\n",
            "Guess Number -> 60\n",
            "guess lower...\n",
            "Guess Number -> 55\n",
            "guess higher...\n",
            "Guess Number -> 57\n",
            "guess higher...\n",
            "Guess Number -> 58\n",
            "You Won...👏👏👏👏👏\n",
            "You Attempt :  7\n"
          ]
        }
      ]
    },
    {
      "cell_type": "code",
      "source": [
        "1. Registration\n",
        "2. List / Display Data\n",
        "3. Update\n",
        "4. Search\n",
        "5. Exit\n",
        "\n",
        "registration_no = 10000000101\n",
        "\n",
        "1 --> Registration -->\n",
        "            - name\n",
        "            - gender\n",
        "            - contact\n",
        "\n",
        "\n",
        "2. Display --> display all regitered students\n",
        "\n",
        "3. Update -->\n",
        "      - registration_no\n",
        "              - name\n",
        "              - gender\n",
        "              - contact\n",
        "\n",
        "4. Search -->\n",
        "      - registration_no\n",
        "             -> student fount\n",
        "             -> student not fount\n",
        "\n",
        "5. Exit -->\n",
        "      shut down system"
      ],
      "metadata": {
        "id": "fG2TUOcM4rwZ"
      },
      "execution_count": null,
      "outputs": []
    },
    {
      "cell_type": "code",
      "source": [
        "registration_no = 10000000100\n",
        "\n",
        "\n",
        "student_data = {}\n",
        "\n",
        "while True:\n",
        "\n",
        "  user = int(input('''\\t   1. Registration\n",
        "           2. Show All Data\n",
        "           3. Update\n",
        "           4. Search\n",
        "           5. Exit\n",
        "       '''))\n",
        "\n",
        "\n",
        "  if user == 1:\n",
        "\n",
        "    name, gender, phone = input(\"Enter Your Name : \"), input(\"Enter Your Gender : \"), input(\"Enter Your Contact : \")\n",
        "    registration_no += 1\n",
        "    register = registration_no\n",
        "\n",
        "    student_data[register] = [name, gender, phone]  # key -> registration no, value --> list\n",
        "\n",
        "    print(\"----------------------------------------------------------------\")\n",
        "    print(f'''\n",
        "    Registration Successfully....\n",
        "    Your Register Number is : {register} \\n''')\n",
        "    print(\"----------------------------------------------------------------\")\n",
        "    # print(\"Registration Successfully and Your Register Number is : \", {register})\n",
        "\n",
        "  elif user == 2:\n",
        "    print('Register Students')\n",
        "    print(\"-----------------------------------------\")\n",
        "    print(\"\\n Registration No \\t Name \\t\\t Gender \\t Contact\")\n",
        "\n",
        "    for record in student_data.keys():\n",
        "      record_list = student_data[record]\n",
        "      print(f\"{record} \\t\\t {record_list[0]} \\t {record_list[1]} \\t  {record_list[2]}\")\n",
        "    print(\"-----------------------------------------\")\n",
        "\n",
        "  elif user == 3:\n",
        "    reg = int(input(\"Enter Your Registration No : \"))\n",
        "\n",
        "    if reg in student_data:\n",
        "      print(f\"Student Exists --> {reg}\" )\n",
        "\n",
        "      record_list = student_data[reg]\n",
        "\n",
        "      choise = int(input('''\n",
        "      1. Name\n",
        "      2. Gender\n",
        "      3. Contact\n",
        "              '''))\n",
        "\n",
        "      if choise == 1:\n",
        "        record_list[0] = input(\"Enter Your Name : \")\n",
        "      elif choise == 2:\n",
        "        record_list[1] = input(\"Enter Your Gender : \")\n",
        "\n",
        "      elif choise == 3:\n",
        "        record_list[2] = input(\"Enter Your Contact : \")\n",
        "\n",
        "        student_data[reg] = record_list\n",
        "    else:\n",
        "      print(\"Student Not Found\")\n",
        "\n",
        "\n",
        "  elif user == 4:\n",
        "\n",
        "    reg = int(input(\"Enter Your Registration No : \"))\n",
        "\n",
        "    if reg in student_data:\n",
        "      print(\"Student Exists --> \", student_data[reg])\n",
        "    else:\n",
        "      print(\"Student Not Fount...\")\n",
        "\n",
        "  elif user == 5:\n",
        "    print(\"🙏🙏🙏🙏 Thanks To used My Student Application 🙏🙏🙏🙏\")\n",
        "    break\n",
        "\n",
        "  else:\n",
        "    print(\"Please Provide Correct Option\")\n"
      ],
      "metadata": {
        "colab": {
          "base_uri": "https://localhost:8080/"
        },
        "id": "UeUIeTSM-r1u",
        "outputId": "c0efc8d0-eb1a-4445-918e-0d74fe0984a2"
      },
      "execution_count": null,
      "outputs": [
        {
          "output_type": "stream",
          "name": "stdout",
          "text": [
            "\t   1. Registration\n",
            "           2. Show All Data\n",
            "           3. Update\n",
            "           4. Search\n",
            "           5. Exit\n",
            "       1\n",
            "Enter Your Name : Dhanraj\n",
            "Enter Your Gender : Male\n",
            "Enter Your Contact : 222222\n",
            "----------------------------------------------------------------\n",
            " \n",
            "    Registration Successfully.... \n",
            "    Your Register Number is : 10000000101 \n",
            "\n",
            "----------------------------------------------------------------\n",
            "\t   1. Registration\n",
            "           2. Show All Data\n",
            "           3. Update\n",
            "           4. Search\n",
            "           5. Exit\n",
            "       1\n",
            "Enter Your Name : Rashamika\n",
            "Enter Your Gender : Female\n",
            "Enter Your Contact : 323333333\n",
            "----------------------------------------------------------------\n",
            " \n",
            "    Registration Successfully.... \n",
            "    Your Register Number is : 10000000102 \n",
            "\n",
            "----------------------------------------------------------------\n",
            "\t   1. Registration\n",
            "           2. Show All Data\n",
            "           3. Update\n",
            "           4. Search\n",
            "           5. Exit\n",
            "       1\n",
            "Enter Your Name : Vijay\n",
            "Enter Your Gender : Femal\n",
            "Enter Your Contact : 323232\n",
            "----------------------------------------------------------------\n",
            " \n",
            "    Registration Successfully.... \n",
            "    Your Register Number is : 10000000103 \n",
            "\n",
            "----------------------------------------------------------------\n",
            "\t   1. Registration\n",
            "           2. Show All Data\n",
            "           3. Update\n",
            "           4. Search\n",
            "           5. Exit\n",
            "       1\n",
            "Enter Your Name : 9Tara\n",
            "Enter Your Gender : femal\n",
            "Enter Your Contact : 343454534\n",
            "----------------------------------------------------------------\n",
            " \n",
            "    Registration Successfully.... \n",
            "    Your Register Number is : 10000000104 \n",
            "\n",
            "----------------------------------------------------------------\n",
            "\t   1. Registration\n",
            "           2. Show All Data\n",
            "           3. Update\n",
            "           4. Search\n",
            "           5. Exit\n",
            "       2\n",
            "Register Students\n",
            "-----------------------------------------\n",
            "\n",
            " Registration No \t Name \t\t Gender \t Contact\n",
            "10000000101 \t\t Dhanraj \t Male \t  222222\n",
            "10000000102 \t\t Rashamika \t Female \t  323333333\n",
            "10000000103 \t\t Vijay \t Femal \t  323232\n",
            "10000000104 \t\t 9Tara \t femal \t  343454534\n",
            "-----------------------------------------\n",
            "\t   1. Registration\n",
            "           2. Show All Data\n",
            "           3. Update\n",
            "           4. Search\n",
            "           5. Exit\n",
            "       3\n",
            "Enter Your Registration No : 10000000103 \n",
            "Student Exists --> 10000000103\n",
            "\n",
            "      1. Name\n",
            "      2. Gender\n",
            "      3. Contact\n",
            "              2\n",
            "Enter Your Gender : Male\n",
            "\t   1. Registration\n",
            "           2. Show All Data\n",
            "           3. Update\n",
            "           4. Search\n",
            "           5. Exit\n",
            "       2\n",
            "Register Students\n",
            "-----------------------------------------\n",
            "\n",
            " Registration No \t Name \t\t Gender \t Contact\n",
            "10000000101 \t\t Dhanraj \t Male \t  222222\n",
            "10000000102 \t\t Rashamika \t Female \t  323333333\n",
            "10000000103 \t\t Vijay \t Male \t  323232\n",
            "10000000104 \t\t 9Tara \t femal \t  343454534\n",
            "-----------------------------------------\n",
            "\t   1. Registration\n",
            "           2. Show All Data\n",
            "           3. Update\n",
            "           4. Search\n",
            "           5. Exit\n",
            "       3\n",
            "Enter Your Registration No : 10000000104\n",
            "Student Exists --> 10000000104\n",
            "\n",
            "      1. Name\n",
            "      2. Gender\n",
            "      3. Contact\n",
            "              2\n",
            "Enter Your Gender : Female\n",
            "\t   1. Registration\n",
            "           2. Show All Data\n",
            "           3. Update\n",
            "           4. Search\n",
            "           5. Exit\n",
            "       4\n",
            "Enter Your Registration No : 10000000104\n",
            "Student Exists -->  ['9Tara', 'Female', '343454534']\n",
            "\t   1. Registration\n",
            "           2. Show All Data\n",
            "           3. Update\n",
            "           4. Search\n",
            "           5. Exit\n",
            "       4\n",
            "Enter Your Registration No : 10000000109\n",
            "Student Not Fount...\n",
            "\t   1. Registration\n",
            "           2. Show All Data\n",
            "           3. Update\n",
            "           4. Search\n",
            "           5. Exit\n",
            "       5\n",
            "🙏🙏🙏🙏 Thanks To used My Student Application 🙏🙏🙏🙏\n"
          ]
        }
      ]
    },
    {
      "cell_type": "code",
      "source": [],
      "metadata": {
        "id": "qtkbyxlZ-xwq"
      },
      "execution_count": null,
      "outputs": []
    }
  ]
}