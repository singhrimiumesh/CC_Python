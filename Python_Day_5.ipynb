{
  "nbformat": 4,
  "nbformat_minor": 0,
  "metadata": {
    "colab": {
      "provenance": [],
      "include_colab_link": true
    },
    "kernelspec": {
      "name": "python3",
      "display_name": "Python 3"
    },
    "language_info": {
      "name": "python"
    }
  },
  "cells": [
    {
      "cell_type": "markdown",
      "metadata": {
        "id": "view-in-github",
        "colab_type": "text"
      },
      "source": [
        "<a href=\"https://colab.research.google.com/github/singhrimiumesh/CC_Python/blob/main/Python_Day_5.ipynb\" target=\"_parent\"><img src=\"https://colab.research.google.com/assets/colab-badge.svg\" alt=\"Open In Colab\"/></a>"
      ]
    },
    {
      "cell_type": "code",
      "execution_count": null,
      "metadata": {
        "id": "P-WIZIQyEJlC"
      },
      "outputs": [],
      "source": [
        "# OOP\n",
        "\n",
        "# -> Class --> class name should be start with capital\n",
        "# function name should be start with samll letter\n",
        "\n",
        "class Human:\n",
        "  pass\n",
        "\n",
        "def Human():\n",
        "  return 10\n",
        "\n",
        "obj = Human()"
      ]
    },
    {
      "cell_type": "code",
      "source": [
        "# class ->\n",
        "\n",
        "class Human:\n",
        "  # name = \"Python\"  # --> instance variable\n",
        "  def birth(self):\n",
        "    self.name = input(\"Enter your name : \")\n",
        "    print(id(self))\n",
        "\n",
        "  def email(self):\n",
        "    self.email = input(\"Enter your name : \")\n",
        "    print(id(self))\n",
        "\n"
      ],
      "metadata": {
        "id": "My63zjRIMC-H"
      },
      "execution_count": null,
      "outputs": []
    },
    {
      "cell_type": "code",
      "source": [
        "h1 = Human()"
      ],
      "metadata": {
        "id": "o9M8QEPPPDAq"
      },
      "execution_count": null,
      "outputs": []
    },
    {
      "cell_type": "code",
      "source": [
        "h1.name"
      ],
      "metadata": {
        "colab": {
          "base_uri": "https://localhost:8080/",
          "height": 141
        },
        "id": "o409Q_kZPK7-",
        "outputId": "007f24d1-5102-4a97-ed93-edba56efb98b"
      },
      "execution_count": null,
      "outputs": [
        {
          "output_type": "error",
          "ename": "AttributeError",
          "evalue": "'Human' object has no attribute 'name'",
          "traceback": [
            "\u001b[0;31m---------------------------------------------------------------------------\u001b[0m",
            "\u001b[0;31mAttributeError\u001b[0m                            Traceback (most recent call last)",
            "\u001b[0;32m<ipython-input-11-2ac924d65b82>\u001b[0m in \u001b[0;36m<cell line: 1>\u001b[0;34m()\u001b[0m\n\u001b[0;32m----> 1\u001b[0;31m \u001b[0mh1\u001b[0m\u001b[0;34m.\u001b[0m\u001b[0mname\u001b[0m\u001b[0;34m\u001b[0m\u001b[0;34m\u001b[0m\u001b[0m\n\u001b[0m",
            "\u001b[0;31mAttributeError\u001b[0m: 'Human' object has no attribute 'name'"
          ]
        }
      ]
    },
    {
      "cell_type": "code",
      "source": [
        "h1.birth()"
      ],
      "metadata": {
        "colab": {
          "base_uri": "https://localhost:8080/"
        },
        "id": "8SNP4hvkPb_o",
        "outputId": "26d1757e-cd6a-4292-8a6f-ef522e4b5678"
      },
      "execution_count": null,
      "outputs": [
        {
          "output_type": "stream",
          "name": "stdout",
          "text": [
            "Enter your name : Dhanraj\n",
            "136721134643104\n"
          ]
        }
      ]
    },
    {
      "cell_type": "code",
      "source": [
        "h1.email()"
      ],
      "metadata": {
        "colab": {
          "base_uri": "https://localhost:8080/"
        },
        "id": "DgIobW5fP144",
        "outputId": "ffa039b7-de52-4960-8778-c1cd0bdf9088"
      },
      "execution_count": null,
      "outputs": [
        {
          "output_type": "stream",
          "name": "stdout",
          "text": [
            "Enter your name : dh@gmail.com\n",
            "136721134643104\n"
          ]
        }
      ]
    },
    {
      "cell_type": "code",
      "source": [
        "# access specifiers / access modifiers\n",
        "\n",
        "# 1. public\n",
        "# 2. private\n",
        "# 3 protected\n",
        "# 4. default\n",
        "\n",
        "\n",
        "# --> private --> _private\n",
        "# --> strngly private --> __strngly_private"
      ],
      "metadata": {
        "id": "aji3uX7IP7MA"
      },
      "execution_count": null,
      "outputs": []
    },
    {
      "cell_type": "code",
      "source": [
        "class Human:\n",
        "\n",
        "  name = \"Dhanraj\"\n",
        "  _phone = \"00999999999\"\n",
        "  __atm_pin = \"122345\""
      ],
      "metadata": {
        "id": "wq4Ef01nQxEt"
      },
      "execution_count": null,
      "outputs": []
    },
    {
      "cell_type": "code",
      "source": [
        "h1 = Human()"
      ],
      "metadata": {
        "id": "Is-d1BN1RKcx"
      },
      "execution_count": null,
      "outputs": []
    },
    {
      "cell_type": "code",
      "source": [
        "h1.name"
      ],
      "metadata": {
        "colab": {
          "base_uri": "https://localhost:8080/",
          "height": 35
        },
        "id": "IfkUGpGPRL1x",
        "outputId": "3689959d-e844-4aed-edd6-960d93c21c56"
      },
      "execution_count": null,
      "outputs": [
        {
          "output_type": "execute_result",
          "data": {
            "text/plain": [
              "'Dhanraj'"
            ],
            "application/vnd.google.colaboratory.intrinsic+json": {
              "type": "string"
            }
          },
          "metadata": {},
          "execution_count": 19
        }
      ]
    },
    {
      "cell_type": "code",
      "source": [
        "h1._phone"
      ],
      "metadata": {
        "colab": {
          "base_uri": "https://localhost:8080/",
          "height": 35
        },
        "id": "N3t6X6WMRVXJ",
        "outputId": "9186939f-d43e-4652-b170-4fa5d4016742"
      },
      "execution_count": null,
      "outputs": [
        {
          "output_type": "execute_result",
          "data": {
            "text/plain": [
              "'00999999999'"
            ],
            "application/vnd.google.colaboratory.intrinsic+json": {
              "type": "string"
            }
          },
          "metadata": {},
          "execution_count": 22
        }
      ]
    },
    {
      "cell_type": "code",
      "source": [
        "h1.__atm_pin"
      ],
      "metadata": {
        "colab": {
          "base_uri": "https://localhost:8080/",
          "height": 141
        },
        "id": "tpEMmp1VRYbp",
        "outputId": "52623c62-d299-425a-9a4d-cedab1156bd5"
      },
      "execution_count": null,
      "outputs": [
        {
          "output_type": "error",
          "ename": "AttributeError",
          "evalue": "'Human' object has no attribute '__atm_pin'",
          "traceback": [
            "\u001b[0;31m---------------------------------------------------------------------------\u001b[0m",
            "\u001b[0;31mAttributeError\u001b[0m                            Traceback (most recent call last)",
            "\u001b[0;32m<ipython-input-23-d9d6211b413c>\u001b[0m in \u001b[0;36m<cell line: 1>\u001b[0;34m()\u001b[0m\n\u001b[0;32m----> 1\u001b[0;31m \u001b[0mh1\u001b[0m\u001b[0;34m.\u001b[0m\u001b[0m__atm_pin\u001b[0m\u001b[0;34m\u001b[0m\u001b[0;34m\u001b[0m\u001b[0m\n\u001b[0m",
            "\u001b[0;31mAttributeError\u001b[0m: 'Human' object has no attribute '__atm_pin'"
          ]
        }
      ]
    },
    {
      "cell_type": "code",
      "source": [
        "class Human:\n",
        "\n",
        "  def setName(self):\n",
        "    self.name = input(\"Enter your name : \")\n",
        "\n",
        "  def getName(self):\n",
        "    print(\"Name -> \", self.name)\n",
        "\n"
      ],
      "metadata": {
        "id": "Pe6NueiBRuWM"
      },
      "execution_count": null,
      "outputs": []
    },
    {
      "cell_type": "code",
      "source": [
        "h1 = Human()"
      ],
      "metadata": {
        "id": "AcL9r_aeSF8X"
      },
      "execution_count": null,
      "outputs": []
    },
    {
      "cell_type": "code",
      "source": [
        "h1.setName()"
      ],
      "metadata": {
        "colab": {
          "base_uri": "https://localhost:8080/"
        },
        "id": "H5SalBxLSd_G",
        "outputId": "c2b27901-e1d0-46fa-f8e7-c262ffe151d8"
      },
      "execution_count": null,
      "outputs": [
        {
          "name": "stdout",
          "output_type": "stream",
          "text": [
            "Enter your name : Dhanraj\n"
          ]
        }
      ]
    },
    {
      "cell_type": "code",
      "source": [
        "h1.getName()"
      ],
      "metadata": {
        "colab": {
          "base_uri": "https://localhost:8080/"
        },
        "id": "0euJxgthShA4",
        "outputId": "6a2f7e9d-83b0-4373-e5f7-7d9f152bd547"
      },
      "execution_count": null,
      "outputs": [
        {
          "output_type": "stream",
          "name": "stdout",
          "text": [
            "Name ->  Dhanraj\n"
          ]
        }
      ]
    },
    {
      "cell_type": "code",
      "source": [
        "# constructor\n",
        "# def __init__(self)\n",
        "\n",
        "class Human:\n",
        "\n",
        "  def __init__(self, name, age):\n",
        "    self.name = name\n",
        "    self.age = age\n",
        "\n",
        "\n",
        "  def setName(self):\n",
        "    self.name = input(\"Enter your name : \")\n",
        "\n",
        "  def getName(self):\n",
        "    print(\"Name -> \", self.name)\n",
        "\n"
      ],
      "metadata": {
        "id": "KxUeQUerSlR2"
      },
      "execution_count": null,
      "outputs": []
    },
    {
      "cell_type": "code",
      "source": [
        "h1 = Human('Raj', 10)"
      ],
      "metadata": {
        "id": "IJhEehquTNt8"
      },
      "execution_count": null,
      "outputs": []
    },
    {
      "cell_type": "code",
      "source": [
        "h1.getName()"
      ],
      "metadata": {
        "colab": {
          "base_uri": "https://localhost:8080/"
        },
        "id": "ylWMsTGRTTn7",
        "outputId": "8c8b629b-eb75-43a4-c188-fbf038491ac2"
      },
      "execution_count": null,
      "outputs": [
        {
          "output_type": "stream",
          "name": "stdout",
          "text": [
            "Name ->  Raj\n"
          ]
        }
      ]
    },
    {
      "cell_type": "code",
      "source": [
        "h1.setName()\n",
        "h1.getName()"
      ],
      "metadata": {
        "colab": {
          "base_uri": "https://localhost:8080/"
        },
        "id": "9b2XRsPCTY89",
        "outputId": "830df8e9-234a-464f-cb6b-aa71e8a04c79"
      },
      "execution_count": null,
      "outputs": [
        {
          "output_type": "stream",
          "name": "stdout",
          "text": [
            "Enter your name : hello\n",
            "Name ->  hello\n"
          ]
        }
      ]
    },
    {
      "cell_type": "code",
      "source": [
        "# setter methods -->\n",
        "    def setName(self, name):\n",
        "      pass\n",
        "# getter method -->\n",
        "    def getName(self):\n",
        "      return"
      ],
      "metadata": {
        "id": "NF9tCPb9TqmA"
      },
      "execution_count": null,
      "outputs": []
    },
    {
      "cell_type": "code",
      "source": [
        "# find area of circle\n",
        "# print area\n",
        "\n",
        "class Circle:\n",
        "\n",
        "  def setRadius(self):\n",
        "    self.radius = int(input(\"Enter Radius : \"))\n",
        "  def getArea(self):\n",
        "    return f\"Area of circle is -> {3.14 * self.radius ** 2}\"\n"
      ],
      "metadata": {
        "id": "g4d5TYXUUIkQ"
      },
      "execution_count": null,
      "outputs": []
    },
    {
      "cell_type": "code",
      "source": [
        "c1 = Circle()"
      ],
      "metadata": {
        "id": "IvfD8s6EVvnp"
      },
      "execution_count": null,
      "outputs": []
    },
    {
      "cell_type": "code",
      "source": [
        "c1.setRadius()"
      ],
      "metadata": {
        "colab": {
          "base_uri": "https://localhost:8080/"
        },
        "id": "ZCL8rRZTVyUQ",
        "outputId": "7caf9adb-e166-455c-e72a-61dab3c5f940"
      },
      "execution_count": null,
      "outputs": [
        {
          "name": "stdout",
          "output_type": "stream",
          "text": [
            "Enter Radius : 10\n"
          ]
        }
      ]
    },
    {
      "cell_type": "code",
      "source": [
        "c1.getArea()"
      ],
      "metadata": {
        "colab": {
          "base_uri": "https://localhost:8080/",
          "height": 35
        },
        "id": "hOJLS4dhV1Kq",
        "outputId": "26cee390-370a-4227-c644-bfcd1560a29d"
      },
      "execution_count": null,
      "outputs": [
        {
          "output_type": "execute_result",
          "data": {
            "text/plain": [
              "'Area of circle is -> 314.0'"
            ],
            "application/vnd.google.colaboratory.intrinsic+json": {
              "type": "string"
            }
          },
          "metadata": {},
          "execution_count": 40
        }
      ]
    },
    {
      "cell_type": "code",
      "source": [
        "# find area of circle\n",
        "# print area\n",
        "\n",
        "class Circle:\n",
        "\n",
        "  def __init__(self):\n",
        "    self.radius = int(input(\"Enter Radius : \"))\n",
        "    print(f\"Area of circle is -> {3.14 * self.radius ** 2}\")\n",
        "\n",
        "  # def setRadius(self):\n",
        "  #   self.radius = int(input(\"Enter Radius : \"))\n",
        "  # def getArea(self):\n",
        "  #   return f\"Area of circle is -> {3.14 * self.radius ** 2}\"\n"
      ],
      "metadata": {
        "id": "dFhZXYMgV4P3"
      },
      "execution_count": null,
      "outputs": []
    },
    {
      "cell_type": "code",
      "source": [
        "c1 = Circle()"
      ],
      "metadata": {
        "colab": {
          "base_uri": "https://localhost:8080/"
        },
        "id": "hWcuE1pDX0hm",
        "outputId": "e24a7edc-a0c9-45e0-d6d4-6ed2d0de4bfc"
      },
      "execution_count": null,
      "outputs": [
        {
          "output_type": "stream",
          "name": "stdout",
          "text": [
            "Enter Radius : 10\n",
            "Area of circle is -> 314.0\n"
          ]
        }
      ]
    },
    {
      "cell_type": "code",
      "source": [
        "# define a class with attributes name, age and display all data\n",
        "\n",
        "class Circle:\n",
        "\n",
        "  def __init__(self, radius):\n",
        "    self.radius = radius\n",
        "\n",
        "  def setRadius(self, radius):\n",
        "    # self.radius = input(\"Enter Radius -> \")\n",
        "    self.radius = radius\n",
        "\n",
        "  def getRadius(self):\n",
        "    return self.radius\n",
        "\n",
        "  def printArea(self):\n",
        "    print(\"Area of circle is -> \", 3.14 * self.radius ** 2)\n"
      ],
      "metadata": {
        "id": "6jrxWGiaX6YW"
      },
      "execution_count": null,
      "outputs": []
    },
    {
      "cell_type": "code",
      "source": [
        "c1 = Circle(10)\n",
        "c1.getRadius()"
      ],
      "metadata": {
        "colab": {
          "base_uri": "https://localhost:8080/"
        },
        "id": "d5jeAdDsbUoN",
        "outputId": "86d8b2de-0ad9-4aa4-8da7-d437e9263796"
      },
      "execution_count": null,
      "outputs": [
        {
          "output_type": "execute_result",
          "data": {
            "text/plain": [
              "10"
            ]
          },
          "metadata": {},
          "execution_count": 64
        }
      ]
    },
    {
      "cell_type": "code",
      "source": [],
      "metadata": {
        "id": "F7Onuv_RbbHI"
      },
      "execution_count": null,
      "outputs": []
    },
    {
      "cell_type": "code",
      "source": [
        "c1.getRadius()"
      ],
      "metadata": {
        "colab": {
          "base_uri": "https://localhost:8080/"
        },
        "id": "sB4iwYy8bkg9",
        "outputId": "197baa7a-4299-4163-99e8-665aab84925d"
      },
      "execution_count": null,
      "outputs": [
        {
          "output_type": "execute_result",
          "data": {
            "text/plain": [
              "10"
            ]
          },
          "metadata": {},
          "execution_count": 65
        }
      ]
    },
    {
      "cell_type": "code",
      "source": [
        "c1.printArea()"
      ],
      "metadata": {
        "colab": {
          "base_uri": "https://localhost:8080/"
        },
        "id": "Tcz3acitb2pp",
        "outputId": "8df81964-8845-4899-a39e-f8e042564c27"
      },
      "execution_count": null,
      "outputs": [
        {
          "output_type": "stream",
          "name": "stdout",
          "text": [
            "Area of circle is ->  314.0\n"
          ]
        }
      ]
    },
    {
      "cell_type": "code",
      "source": [
        "1 -> data hiding --> data members should be private\n",
        "2 -> abstraction --> display servies\n",
        "3 -> encapsulation --> data hiding + abstraction\n",
        "4 -> Inheritance --> code reuse\n",
        "5 -> Polymorphism --> easiness"
      ],
      "metadata": {
        "id": "v1tfA9Hnb6ig"
      },
      "execution_count": null,
      "outputs": []
    },
    {
      "cell_type": "code",
      "source": [
        "class Human:\n",
        "\n",
        "  def __init__(self, name, age):\n",
        "    self.name = name\n",
        "    self.age = age\n",
        "\n"
      ],
      "metadata": {
        "id": "HrczbmkXgsbQ"
      },
      "execution_count": null,
      "outputs": []
    },
    {
      "cell_type": "code",
      "source": [
        "c1 = Human(\"Raj\", 10)\n",
        "\n",
        "print(c1)"
      ],
      "metadata": {
        "colab": {
          "base_uri": "https://localhost:8080/"
        },
        "id": "0uXpLbMIgsXw",
        "outputId": "dfeaf8f5-a4aa-4ade-94b3-0e53c0fa521a"
      },
      "execution_count": null,
      "outputs": [
        {
          "output_type": "stream",
          "name": "stdout",
          "text": [
            "<__main__.Human object at 0x7c58abf22fb0>\n"
          ]
        }
      ]
    },
    {
      "cell_type": "code",
      "source": [
        "class Human:\n",
        "\n",
        "  def __init__(self):\n",
        "    self.name = \"Python\"\n",
        "    self.age = 19\n",
        "\n",
        "  def __str__(self):\n",
        "    return f\"Name -> {self.name}, Age -> {self.age}\"\n",
        "\n"
      ],
      "metadata": {
        "id": "_abV7PesgsUh"
      },
      "execution_count": null,
      "outputs": []
    },
    {
      "cell_type": "code",
      "source": [
        "c1 = Human()\n",
        "\n",
        "print(c1)"
      ],
      "metadata": {
        "colab": {
          "base_uri": "https://localhost:8080/"
        },
        "id": "Jl9le5oogsRh",
        "outputId": "3985dfcd-62b0-4120-e849-ae8055a439ee"
      },
      "execution_count": null,
      "outputs": [
        {
          "output_type": "stream",
          "name": "stdout",
          "text": [
            "Name -> Python, Age -> 19\n"
          ]
        }
      ]
    },
    {
      "cell_type": "code",
      "source": [
        "class Human:\n",
        "\n",
        "  def __init__(self, name, age):\n",
        "    self.name = name\n",
        "    self.age = age\n",
        "\n",
        "  def __str__(self):\n",
        "    return f\"Name -> {self.name}, Age -> {self.age}\"\n",
        "\n",
        "  def __del__(self):\n",
        "    print(\"R.I.P\", self.name )\n"
      ],
      "metadata": {
        "id": "XkiIfG1en7SF"
      },
      "execution_count": null,
      "outputs": []
    },
    {
      "cell_type": "code",
      "source": [
        "h1 = Human(\"Raj\", 10)\n",
        "print(h1)"
      ],
      "metadata": {
        "colab": {
          "base_uri": "https://localhost:8080/"
        },
        "id": "iEo7sTdNoFe0",
        "outputId": "f24c1992-5707-40b8-a312-59a463dc9bc4"
      },
      "execution_count": null,
      "outputs": [
        {
          "output_type": "stream",
          "name": "stdout",
          "text": [
            "Name -> Raj, Age -> 10\n",
            "R.I.P Raj\n"
          ]
        }
      ]
    },
    {
      "cell_type": "code",
      "source": [
        "'''\n",
        "class members -> only remains with and need name of class : any\n",
        "instance member --> Aadhar card no -> 1221 2212 2222\n",
        "local members'''"
      ],
      "metadata": {
        "id": "L6qPQAGlgsOO"
      },
      "execution_count": null,
      "outputs": []
    },
    {
      "cell_type": "code",
      "source": [
        "class Human:\n",
        "\n",
        "  aadhar_no = 111122223333\n",
        "  population = 0\n",
        "\n",
        "  def __init__(self, name, age):\n",
        "    self.name = name\n",
        "    self.age = age\n",
        "    Human.aadhar_no += 1\n",
        "    self.aadhar_no = Human.aadhar_no\n",
        "\n",
        "  def __str__(self):\n",
        "    return f\"\\n ------------- Adhar Card ------------- \\n N0 -> {self.aadhar_no} \\n Name -> {self.name} \\n Age -> {self.age}\"\n",
        "\n",
        "  def population(self):\n",
        "    return f\"Tatol Population -> {Human.population}\""
      ],
      "metadata": {
        "id": "hH_tpkrXgsLL"
      },
      "execution_count": null,
      "outputs": []
    },
    {
      "cell_type": "code",
      "source": [
        "obj1 = Human(\"Raj\", 10)\n",
        "print(obj1)"
      ],
      "metadata": {
        "colab": {
          "base_uri": "https://localhost:8080/"
        },
        "id": "9yHWgKqNgsHu",
        "outputId": "a0edccc4-5c8d-4231-b076-729ddfe36d63"
      },
      "execution_count": null,
      "outputs": [
        {
          "output_type": "stream",
          "name": "stdout",
          "text": [
            "\n",
            " ------------- Adhar Card ------------- \n",
            " N0 -> 111122223334 \n",
            " Name -> Raj \n",
            " Age -> 10, <function Human.population at 0x7c58abe34700>\n"
          ]
        }
      ]
    },
    {
      "cell_type": "code",
      "source": [
        "print(obj1.population())\n"
      ],
      "metadata": {
        "colab": {
          "base_uri": "https://localhost:8080/"
        },
        "id": "eAGs4es7cnlf",
        "outputId": "cd036132-4004-4fd2-81b5-d196f4b0a5c2"
      },
      "execution_count": null,
      "outputs": [
        {
          "output_type": "stream",
          "name": "stdout",
          "text": [
            "Tatol Population -> <function Human.population at 0x7c58abe34700>\n"
          ]
        }
      ]
    },
    {
      "cell_type": "code",
      "source": [],
      "metadata": {
        "id": "IEV1pZIygrCK"
      },
      "execution_count": null,
      "outputs": []
    },
    {
      "cell_type": "code",
      "source": [
        "'''\n",
        "Banking System\n",
        "\n",
        "one must code banking system that can do\n",
        "1.open account:\n",
        "  take name,gender,and minimumbalance 3000 to open account.\n",
        "  account number auto generated\n",
        "  # class variable\n",
        "\n",
        "2.check balance():\n",
        "\t1st read account number, search account, if found then show details\n",
        "\n",
        "3.withdraw():\n",
        "\tcheck minimum balance should be kept 2000 else will not allow transection\n",
        "\n",
        "4.deposit():\n",
        "\tread amount ,update balance but amount can not be -ve\n",
        "\n",
        "2,3,4---one must give account number,search account and then\n",
        "perform needed operations\n",
        "'''"
      ],
      "metadata": {
        "id": "GrKT5gq7gp6q"
      },
      "execution_count": null,
      "outputs": []
    },
    {
      "cell_type": "code",
      "source": [
        "import time\n",
        "global_account_no = 10000000100\n",
        "# bank = {}\n",
        "class Bank:\n",
        "\n",
        "  def __init__(self, name, gender, amount):\n",
        "    self.name = name\n",
        "    self.gender = gender\n",
        "    self.amount = amount\n",
        "    global global_account_no   # create global variable\n",
        "    global_account_no += 1     # generate account number\n",
        "    self.account_no = global_account_no\n",
        "\n",
        "    print(f\"Congrats {self.name} \\nYour Account Created Successfully... \\nYour Account No : {self.account_no}\")\n",
        "\n",
        "\n",
        "  def __str__(self):\n",
        "    return \"Account No : \"+ str(self.account_no) + \"\\nName : \"+ self.name + \"\\nGender : \"+self.gender + str(self.amount)\n",
        "\n",
        "\n",
        "  def withdraw(self, amount):\n",
        "\n",
        "    if self.amount - amount <= 2000:\n",
        "      print(\"Insufficient balance\")\n",
        "    else:\n",
        "      self.amount -= amount\n",
        "      print(\"Amount deducted successfully and after last transation Your Balance is : \", self.amount)\n",
        "\n",
        "\n",
        "  def deposite(self, amount):\n",
        "    if amount <= 0:\n",
        "      print(\"Insufficient balance\")\n",
        "    else:\n",
        "      self.amount += amount\n",
        "      for x in range(10):\n",
        "        print(\"-\", end = '')\n",
        "        time.sleep(1)\n",
        "      print(\"Amount deducted successfully and after last transation Your Balance is : \", self.amount)\n",
        "\n",
        "\n",
        "\n",
        "  def check_balance(self):\n",
        "    pass\n",
        "\n",
        "  def open_account(self):\n",
        "    pass\n",
        "\n",
        "\n",
        "  def money_transfer(self, objr, amount):\n",
        "\n",
        "    if self.amount > self.amount - amount -2000:\n",
        "      self.amount -= amount\n",
        "      objr.amount += amount\n",
        "      print(self)\n",
        "      print(objr)\n",
        "    else:\n",
        "      print(\"Not possible deu to the main balance reached...\")\n",
        "\n",
        "\n"
      ],
      "metadata": {
        "id": "A5Oattw_0Dxc"
      },
      "execution_count": null,
      "outputs": []
    },
    {
      "cell_type": "code",
      "source": [
        "b = Bank(\"Dhanraj\", \"Male\", 20000)"
      ],
      "metadata": {
        "id": "4FSTA1iP6Bdz",
        "colab": {
          "base_uri": "https://localhost:8080/"
        },
        "outputId": "934fdc54-b100-461b-d003-570fbe4e5f43"
      },
      "execution_count": null,
      "outputs": [
        {
          "output_type": "stream",
          "name": "stdout",
          "text": [
            "Congrats Dhanraj \n",
            "Your Account Created Successfully... \n",
            "Your Account No : 10000000101\n"
          ]
        }
      ]
    },
    {
      "cell_type": "code",
      "source": [
        "print(b)"
      ],
      "metadata": {
        "colab": {
          "base_uri": "https://localhost:8080/"
        },
        "id": "-IzdmX8KPew-",
        "outputId": "8545bfbb-d69a-4635-9591-e0aca4c74d4d"
      },
      "execution_count": null,
      "outputs": [
        {
          "output_type": "stream",
          "name": "stdout",
          "text": [
            "Account No : 10000000101\n",
            "Name : Dhanraj\n",
            "Gender : Male20000\n"
          ]
        }
      ]
    },
    {
      "cell_type": "code",
      "source": [
        "b.withdraw(2000)"
      ],
      "metadata": {
        "colab": {
          "base_uri": "https://localhost:8080/"
        },
        "id": "cbmDBR8APwj2",
        "outputId": "d393db2e-0109-40c9-e621-fe163dd9f1ef"
      },
      "execution_count": null,
      "outputs": [
        {
          "output_type": "stream",
          "name": "stdout",
          "text": [
            "Amount deducted successfully and after last transation Your Balance is :  18000\n"
          ]
        }
      ]
    },
    {
      "cell_type": "code",
      "source": [
        "b.deposite(2000)"
      ],
      "metadata": {
        "colab": {
          "base_uri": "https://localhost:8080/"
        },
        "id": "FAY-uU6KRC40",
        "outputId": "177dfe5d-b319-4972-d9f9-8826923fec20"
      },
      "execution_count": null,
      "outputs": [
        {
          "output_type": "stream",
          "name": "stdout",
          "text": [
            "Amount deducted successfully and after last transation Your Balance is :  20000\n"
          ]
        }
      ]
    },
    {
      "cell_type": "code",
      "source": [
        "bank = {}\n",
        "\n",
        "name\n",
        "gender\n",
        "\n",
        "    -> amount\n",
        "          -> condition -> True   -> Message\n",
        "          -> condition -> False  -> Message\n",
        "\n",
        "key -> account number\n",
        "value -> Object"
      ],
      "metadata": {
        "id": "ndR6yFmDReLY"
      },
      "execution_count": null,
      "outputs": []
    },
    {
      "cell_type": "code",
      "source": [
        "bank = {}"
      ],
      "metadata": {
        "id": "WkuKBfTHSu93"
      },
      "execution_count": null,
      "outputs": []
    },
    {
      "cell_type": "code",
      "source": [
        "# account open\n",
        "\n",
        "name = input(\"Enter Your Name : \")\n",
        "gender = input(\"Enter Your Gender : \")\n",
        "\n",
        "while True:\n",
        "  amount = float(input(\"Enter Amount : \"))\n",
        "\n",
        "  if amount < 3000:\n",
        "    print(\"Please Deposite at least Rs.3000 for New Account\")\n",
        "  else:\n",
        "    new_account = Bank(name, gender, amount)\n",
        "\n",
        "    bank[new_account.account_no] = new_account    # key : account_no , value : object reference\n",
        "    break\n",
        "\n",
        "\n",
        "# open_account(name, gender):\n",
        "      # code"
      ],
      "metadata": {
        "colab": {
          "base_uri": "https://localhost:8080/"
        },
        "id": "vN-qgI7pSxQJ",
        "outputId": "eecd2308-a614-4ed5-bc99-e78705bc2bf7"
      },
      "execution_count": null,
      "outputs": [
        {
          "output_type": "stream",
          "name": "stdout",
          "text": [
            "Enter Your Name : 9Tara\n",
            "Enter Your Gender : Female\n",
            "Enter Amount : 30\n",
            "Please Deposite at least Rs.3000 for New Account\n",
            "Enter Amount : 3000\n",
            "Congrats 9Tara \n",
            "Your Account Created Successfully... \n",
            "Your Account No : 10000000101\n"
          ]
        }
      ]
    },
    {
      "cell_type": "code",
      "source": [
        "# Searching\n",
        "#     account number\n",
        "#           --> True --> Message\n",
        "#           --> False --> Message\n",
        "\n",
        "\n",
        "user_account = int(input(\"Enter Account No : \"))\n",
        "# bank[user_account]\n",
        "\n",
        "for acc_no in bank.keys():\n",
        "\n",
        "  if acc_no == user_account:\n",
        "    print(\"Record Found -> \")\n",
        "    print(bank[user_account])\n",
        "  else:\n",
        "    print(\"Record Not Found\")"
      ],
      "metadata": {
        "colab": {
          "base_uri": "https://localhost:8080/"
        },
        "id": "WaPRCsFqVMK8",
        "outputId": "833342f2-1b0e-4668-f8e7-c8d181d870f4"
      },
      "execution_count": null,
      "outputs": [
        {
          "output_type": "stream",
          "name": "stdout",
          "text": [
            "Enter Account No : 10000000101\n",
            "Record Found -> \n",
            "Account No : 10000000101\n",
            "Name : 9Tara\n",
            "Gender : Female\n"
          ]
        }
      ]
    },
    {
      "cell_type": "code",
      "source": [
        "# withdraw\n",
        "\n",
        "user_account = int(input(\"Enter Account No : \"))\n",
        "# bank[user_account]\n",
        "\n",
        "for acc_no in bank.keys():\n",
        "\n",
        "  if acc_no == user_account:\n",
        "    print(\"\\n ----------------- Account Fount -----------------\")\n",
        "    amount = float(input(\"Enter Amount : \"))\n",
        "    b.withdraw(amount)\n",
        "  else:\n",
        "    print(\"Sorry... Try Agaig\")\n"
      ],
      "metadata": {
        "colab": {
          "base_uri": "https://localhost:8080/"
        },
        "id": "Orr63q4pWftn",
        "outputId": "1db06146-caeb-40b3-927e-30b3dd1ba0c1"
      },
      "execution_count": null,
      "outputs": [
        {
          "output_type": "stream",
          "name": "stdout",
          "text": [
            "Enter Account No : 10000000101\n",
            "\n",
            " ----------------- Account Fount -----------------\n",
            "Enter Amount : 10000\n",
            "Amount deducted successfully and after last transation Your Balance is :  9000.0\n"
          ]
        }
      ]
    },
    {
      "cell_type": "code",
      "source": [
        "# deposite\n",
        "\n",
        "user_account = int(input(\"Enter Account No : \"))\n",
        "# bank[user_account]\n",
        "\n",
        "for acc_no in bank.keys():\n",
        "\n",
        "  if acc_no == user_account:\n",
        "    print(\"\\n ----------------- Account Fount -----------------\")\n",
        "    amount = float(input(\"Enter Amount : \"))\n",
        "    b.deposite(amount)\n",
        "  else:\n",
        "    print(\"Sorry... Try Agaig\")"
      ],
      "metadata": {
        "colab": {
          "base_uri": "https://localhost:8080/"
        },
        "id": "fH41R_YMcXEe",
        "outputId": "cd2dfe3c-6ae5-40e8-f752-f1354d96d81c"
      },
      "execution_count": null,
      "outputs": [
        {
          "output_type": "stream",
          "name": "stdout",
          "text": [
            "Enter Account No : 10000000101\n",
            "\n",
            " ----------------- Account Fount -----------------\n",
            "Enter Amount : 100\n",
            "----------Amount deducted successfully and after last transation Your Balance is :  20100.0\n"
          ]
        }
      ]
    },
    {
      "cell_type": "code",
      "source": [
        "# money transfer\n",
        "#     -> sender --> acc_no\n",
        "#     -> receiver -->  acc_no\n",
        "\n",
        "              # --> true --> amount transfer\n",
        "              # --> false --> message\n",
        "\n",
        "\n",
        "\n"
      ],
      "metadata": {
        "id": "44qrA-G9d1Qz"
      },
      "execution_count": null,
      "outputs": []
    },
    {
      "cell_type": "code",
      "source": [
        "\n",
        "bank = {}\n",
        "\n",
        "while True:\n",
        "\n",
        "  print('''1. New Account\n",
        "2. Deposite\n",
        "3. Withdraw\n",
        "4. Money Transfer\n",
        "5. Check Balance\n",
        "0. Exit\n",
        "  ''')\n",
        "\n",
        "  choise = int(input(\"Select Option\"))\n",
        "\n",
        "  if choise == 1:  # 1. New Account\n",
        "\n",
        "    name = input(\"Enter Your Name : \")\n",
        "    gender = input(\"Enter Your Gender : \")\n",
        "\n",
        "    while True:\n",
        "      amount = float(input(\"Enter Amount : \"))\n",
        "\n",
        "      if amount < 3000:\n",
        "        print(\"Please Deposite at least Rs.3000 for New Account\")\n",
        "      else:\n",
        "        new_account = Bank(name, gender, amount)\n",
        "\n",
        "        bank[new_account.account_no] = new_account    # key : account_no , value : object reference\n",
        "        break\n",
        "\n",
        "  elif choise == 2:  # 2.deposite\n",
        "    user_account = int(input(\"Enter Account No : \"))\n",
        "\n",
        "    for acc_no in bank.keys():\n",
        "\n",
        "      if acc_no == user_account:\n",
        "        print(\"\\n ----------------- Account Fount -----------------\")\n",
        "        amount = float(input(\"Enter Amount : \"))\n",
        "        b.deposite(amount)\n",
        "      else:\n",
        "        print(\"Sorry... Try Agaig\")\n",
        "\n",
        "  elif choise == 3: # 3. withdraw\n",
        "    user_account = int(input(\"Enter Account No : \"))\n",
        "# bank[user_account]\n",
        "\n",
        "    for acc_no in bank.keys():\n",
        "\n",
        "      if acc_no == user_account:\n",
        "        print(\"\\n ----------------- Account Fount -----------------\")\n",
        "        amount = float(input(\"Enter Amount : \"))\n",
        "        b.withdraw(amount)\n",
        "      else:\n",
        "        print(\"Sorry... Try Agaig\")\n",
        "\n",
        "  elif choise == 4:  # 4.money transfer\n",
        "    # write your code here\n",
        "    rec = int(input(\"Enter Receiver Account No : \"))\n",
        "    sen = int(input(\"Enter Sender Account No : \"))\n",
        "\n",
        "    if rec in bank.keys() and sen in bank.keys():\n",
        "      print(\"\\nRecord Found\")\n",
        "      objr = bank[rec]\n",
        "      objs = bank[sen]\n",
        "\n",
        "      amount = float(input(\"Enter Amount \"))\n",
        "\n",
        "      # objs.money_transfer(objr, amount)\n",
        "      objs.money_transfer(objr, amount)\n",
        "\n",
        "  elif choise == 5:  # 5. check balance\n",
        "    # Apply searching logic and display data\n",
        "    user_account = int(input(\"Enter Account No : \"))\n",
        "# bank[user_account]\n",
        "\n",
        "    for acc_no in bank.keys():\n",
        "\n",
        "      if acc_no == user_account:\n",
        "        print(\"Record Found -> \")\n",
        "        print(bank[user_account], \"\\n\")\n",
        "      else:\n",
        "        print(\"Record Not Found \\n\")\n",
        "\n",
        "\n",
        "  elif choise == 0:\n",
        "    print(\"Thanks To Used\")\n",
        "    break\n"
      ],
      "metadata": {
        "colab": {
          "base_uri": "https://localhost:8080/"
        },
        "id": "T7hU7bfhgZcB",
        "outputId": "31abf140-6375-4c1c-e890-2b30f4f93886"
      },
      "execution_count": null,
      "outputs": [
        {
          "output_type": "stream",
          "name": "stdout",
          "text": [
            "1. New Account\n",
            "2. Deposite\n",
            "3. Withdraw\n",
            "4. Money Transfer\n",
            "5. Check Balance\n",
            "0. Exit\n",
            "  \n",
            "Select Option1\n",
            "Enter Your Name : Dhanraj\n",
            "Enter Your Gender : Male\n",
            "Enter Amount : 500\n",
            "Please Deposite at least Rs.3000 for New Account\n",
            "Enter Amount : 5000\n",
            "Congrats Dhanraj \n",
            "Your Account Created Successfully... \n",
            "Your Account No : 10000000102\n",
            "1. New Account\n",
            "2. Deposite\n",
            "3. Withdraw\n",
            "4. Money Transfer\n",
            "5. Check Balance\n",
            "0. Exit\n",
            "  \n",
            "Select Option1\n",
            "Enter Your Name : Raj\n",
            "Enter Your Gender : Male\n",
            "Enter Amount : 90000\n",
            "Congrats Raj \n",
            "Your Account Created Successfully... \n",
            "Your Account No : 10000000103\n",
            "1. New Account\n",
            "2. Deposite\n",
            "3. Withdraw\n",
            "4. Money Transfer\n",
            "5. Check Balance\n",
            "0. Exit\n",
            "  \n",
            "Select Option2\n",
            "Enter Account No : 10000000103\n",
            "Sorry... Try Agaig\n",
            "\n",
            " ----------------- Account Fount -----------------\n",
            "Enter Amount : 10000\n",
            "----------Amount deducted successfully and after last transation Your Balance is :  30000.0\n",
            "1. New Account\n",
            "2. Deposite\n",
            "3. Withdraw\n",
            "4. Money Transfer\n",
            "5. Check Balance\n",
            "0. Exit\n",
            "  \n",
            "Select Option4\n",
            "Enter Receiver Account No : 10000000103\n",
            "Enter Sender Account No : 10000000102\n",
            "\n",
            "Record Found\n",
            "Enter Amount 1000\n",
            "Account No : 10000000102\n",
            "Name : Dhanraj\n",
            "Gender : Male4000.0\n",
            "Account No : 10000000103\n",
            "Name : Raj\n",
            "Gender : Male91000.0\n",
            "1. New Account\n",
            "2. Deposite\n",
            "3. Withdraw\n",
            "4. Money Transfer\n",
            "5. Check Balance\n",
            "0. Exit\n",
            "  \n",
            "Select Option0\n",
            "Thanks To Used\n"
          ]
        }
      ]
    },
    {
      "cell_type": "code",
      "source": [
        "# Data hiding , abstraction, encapsulation, Inheritance\n",
        "\n",
        "\n",
        "class Demo:\n",
        "\n",
        "  name = \"\" #  -> public\n",
        "  _phone = \"\"\n",
        "  __pin = \"\"\n",
        "\n",
        "  # abstraction\n",
        "  def intro(self):\n",
        "    print(\"Hello\")\n",
        "\n",
        "  def dream(self):\n",
        "    print(\"Developer\")"
      ],
      "metadata": {
        "id": "K0fGoTE5hsr0"
      },
      "execution_count": null,
      "outputs": []
    },
    {
      "cell_type": "code",
      "source": [
        "all data members are private or strongly private --> tightly encapsulated\n",
        "at least one data members are public --> encapsulated"
      ],
      "metadata": {
        "id": "Yf4ILbFDcfQt"
      },
      "execution_count": null,
      "outputs": []
    },
    {
      "cell_type": "code",
      "source": [
        "\n",
        "d = Demo()\n",
        "\n",
        "d.dream()"
      ],
      "metadata": {
        "id": "P0P8x39AdIGB"
      },
      "execution_count": null,
      "outputs": []
    },
    {
      "cell_type": "code",
      "source": [
        "# Inheritance\n",
        "#    ->"
      ],
      "metadata": {
        "id": "Pcq_nPB9dUmT"
      },
      "execution_count": null,
      "outputs": []
    },
    {
      "cell_type": "code",
      "source": [
        "class A(B):\n",
        "  pass\n",
        "\n",
        "class B(A):\n",
        "  pass\n",
        "\n",
        "\n",
        "# cyclic inheritance"
      ],
      "metadata": {
        "colab": {
          "base_uri": "https://localhost:8080/",
          "height": 211
        },
        "id": "OTs8jcqSdmPU",
        "outputId": "b76a1915-de0d-47eb-dcd4-795ab85b85cf"
      },
      "execution_count": null,
      "outputs": [
        {
          "output_type": "error",
          "ename": "NameError",
          "evalue": "name 'B' is not defined",
          "traceback": [
            "\u001b[0;31m---------------------------------------------------------------------------\u001b[0m",
            "\u001b[0;31mNameError\u001b[0m                                 Traceback (most recent call last)",
            "\u001b[0;32m<ipython-input-10-3cc222b9d76d>\u001b[0m in \u001b[0;36m<cell line: 1>\u001b[0;34m()\u001b[0m\n\u001b[0;32m----> 1\u001b[0;31m \u001b[0;32mclass\u001b[0m \u001b[0mA\u001b[0m\u001b[0;34m(\u001b[0m\u001b[0mB\u001b[0m\u001b[0;34m)\u001b[0m\u001b[0;34m:\u001b[0m\u001b[0;34m\u001b[0m\u001b[0;34m\u001b[0m\u001b[0m\n\u001b[0m\u001b[1;32m      2\u001b[0m   \u001b[0;32mpass\u001b[0m\u001b[0;34m\u001b[0m\u001b[0;34m\u001b[0m\u001b[0m\n\u001b[1;32m      3\u001b[0m \u001b[0;34m\u001b[0m\u001b[0m\n\u001b[1;32m      4\u001b[0m \u001b[0;32mclass\u001b[0m \u001b[0mB\u001b[0m\u001b[0;34m(\u001b[0m\u001b[0mA\u001b[0m\u001b[0;34m)\u001b[0m\u001b[0;34m:\u001b[0m\u001b[0;34m\u001b[0m\u001b[0;34m\u001b[0m\u001b[0m\n\u001b[1;32m      5\u001b[0m   \u001b[0;32mpass\u001b[0m\u001b[0;34m\u001b[0m\u001b[0;34m\u001b[0m\u001b[0m\n",
            "\u001b[0;31mNameError\u001b[0m: name 'B' is not defined"
          ]
        }
      ]
    },
    {
      "cell_type": "code",
      "source": [
        "# Inheritance\n",
        "#    -> 1. Single\n",
        "#    -> 2. multiple\n",
        "#    -> 3. Multi level\n",
        "#    -> 4. hybride\n",
        "#    -> 5. hierarchical\n"
      ],
      "metadata": {
        "id": "GLaaX-0_dsyJ"
      },
      "execution_count": null,
      "outputs": []
    },
    {
      "cell_type": "code",
      "source": [
        "# 1. Single Inheritance\n",
        "\n",
        "class Parent:\n",
        "\n",
        "  def property(self):\n",
        "    print(\"Cash/ Gold / Flats\")\n",
        "\n",
        "class Child(Parent):\n",
        "  pass"
      ],
      "metadata": {
        "id": "JufszJlcenUz"
      },
      "execution_count": null,
      "outputs": []
    },
    {
      "cell_type": "code",
      "source": [
        "p = Parent()\n",
        "p.property()"
      ],
      "metadata": {
        "colab": {
          "base_uri": "https://localhost:8080/"
        },
        "id": "Uhqg8vPphOVW",
        "outputId": "41a64d0c-ea31-4b9f-b1ea-aa72f40b96d0"
      },
      "execution_count": null,
      "outputs": [
        {
          "output_type": "stream",
          "name": "stdout",
          "text": [
            "Cash/ Gold / Flats\n"
          ]
        }
      ]
    },
    {
      "cell_type": "code",
      "source": [
        "c = Child()\n",
        "c.property()"
      ],
      "metadata": {
        "colab": {
          "base_uri": "https://localhost:8080/"
        },
        "id": "5n4CMLgqhRuq",
        "outputId": "49c6d236-a71b-4c0d-e202-54b8d48d8556"
      },
      "execution_count": null,
      "outputs": [
        {
          "output_type": "stream",
          "name": "stdout",
          "text": [
            "Cash/ Gold / Flats\n"
          ]
        }
      ]
    },
    {
      "cell_type": "code",
      "source": [
        "# 2. Multiple Inheritance\n",
        "\n",
        "class Parent1:\n",
        "\n",
        "  def property(self):\n",
        "    print(\"Cash - 2 \")\n",
        "\n",
        "class Parent2:\n",
        "\n",
        "  def property(self):\n",
        "    print(\"Cash - 10 / Gold = 2kg / Flats- 6\")\n",
        "\n",
        "class Child(Parent2, Parent1):\n",
        "  pass\n",
        "\n"
      ],
      "metadata": {
        "id": "avJtcHl7hiHD"
      },
      "execution_count": null,
      "outputs": []
    },
    {
      "cell_type": "code",
      "source": [
        "c = Child()\n",
        "c.property()"
      ],
      "metadata": {
        "colab": {
          "base_uri": "https://localhost:8080/"
        },
        "id": "4hNIGMBQj29N",
        "outputId": "37c956aa-9b9b-450b-e7b8-0f6ec4f25381"
      },
      "execution_count": null,
      "outputs": [
        {
          "output_type": "stream",
          "name": "stdout",
          "text": [
            "Cash - 2 \n"
          ]
        }
      ]
    },
    {
      "cell_type": "code",
      "source": [
        "c = Child()\n",
        "c.property()"
      ],
      "metadata": {
        "colab": {
          "base_uri": "https://localhost:8080/"
        },
        "id": "A_rX6By4jbMw",
        "outputId": "23e8c8ea-0064-488f-b29b-9ad52bc16a45"
      },
      "execution_count": null,
      "outputs": [
        {
          "output_type": "stream",
          "name": "stdout",
          "text": [
            "Cash - 10 / Gold = 2kg / Flats- 6\n"
          ]
        }
      ]
    },
    {
      "cell_type": "code",
      "source": [
        "# 3. Multilevel\n",
        "\n",
        "Parent\n",
        "  |\n",
        "child\n",
        "  |\n",
        "sub-child"
      ],
      "metadata": {
        "id": "XN_WwouPju7P"
      },
      "execution_count": null,
      "outputs": []
    },
    {
      "cell_type": "code",
      "source": [
        "class Parent:\n",
        "\n",
        "  def property(self):\n",
        "    print(\"Cash\")\n",
        "\n",
        "class Child(Parent):\n",
        "  def property2(self):\n",
        "    print(\"Flats\")\n",
        "\n",
        "class Sub_child(Child):\n",
        "\n",
        "  def property3(self):\n",
        "    print(\"Gold\")"
      ],
      "metadata": {
        "id": "6uQEhg7xkhTl"
      },
      "execution_count": null,
      "outputs": []
    },
    {
      "cell_type": "code",
      "source": [
        "p = Parent()\n",
        "p.property()"
      ],
      "metadata": {
        "colab": {
          "base_uri": "https://localhost:8080/"
        },
        "id": "EsDLR4Ctk5mn",
        "outputId": "cff233d9-e66a-435a-a6bd-a549f8c6d550"
      },
      "execution_count": null,
      "outputs": [
        {
          "output_type": "stream",
          "name": "stdout",
          "text": [
            "Cash\n"
          ]
        }
      ]
    },
    {
      "cell_type": "code",
      "source": [
        "c = Child()\n",
        "c.property()"
      ],
      "metadata": {
        "colab": {
          "base_uri": "https://localhost:8080/"
        },
        "id": "ZDHQSZ5slAqU",
        "outputId": "14946dd3-20a1-4eff-c1b2-1cbd6c4bdaa7"
      },
      "execution_count": null,
      "outputs": [
        {
          "output_type": "stream",
          "name": "stdout",
          "text": [
            "Cash\n"
          ]
        }
      ]
    },
    {
      "cell_type": "code",
      "source": [
        "c.property2()"
      ],
      "metadata": {
        "colab": {
          "base_uri": "https://localhost:8080/"
        },
        "id": "WRBIXo8HlE4y",
        "outputId": "4a98562c-21c9-4d2d-b287-782822fc7a4e"
      },
      "execution_count": null,
      "outputs": [
        {
          "output_type": "stream",
          "name": "stdout",
          "text": [
            "Flats\n"
          ]
        }
      ]
    },
    {
      "cell_type": "code",
      "source": [
        "sc = Sub_child()\n",
        "sc.property()"
      ],
      "metadata": {
        "colab": {
          "base_uri": "https://localhost:8080/"
        },
        "id": "dhONZ6MZlFyq",
        "outputId": "3812db0f-3411-43fe-b8ee-b54d3d9ffbb9"
      },
      "execution_count": null,
      "outputs": [
        {
          "output_type": "stream",
          "name": "stdout",
          "text": [
            "Cash\n"
          ]
        }
      ]
    },
    {
      "cell_type": "code",
      "source": [
        "sc.property2()"
      ],
      "metadata": {
        "colab": {
          "base_uri": "https://localhost:8080/"
        },
        "id": "38r-fDfklMf9",
        "outputId": "3b50015f-4a63-4e36-e0dd-361fd4f06abe"
      },
      "execution_count": null,
      "outputs": [
        {
          "output_type": "stream",
          "name": "stdout",
          "text": [
            "Flats\n"
          ]
        }
      ]
    },
    {
      "cell_type": "code",
      "source": [
        "sc.property3()"
      ],
      "metadata": {
        "colab": {
          "base_uri": "https://localhost:8080/"
        },
        "id": "NBl0JKNZlNzl",
        "outputId": "be07112f-73a1-4e2a-f356-1beae42970f6"
      },
      "execution_count": null,
      "outputs": [
        {
          "output_type": "stream",
          "name": "stdout",
          "text": [
            "Gold\n"
          ]
        }
      ]
    },
    {
      "cell_type": "code",
      "source": [
        "# 4. hierarchical\n",
        "\n",
        "# parent --> child-1\n",
        "      #  --> child-2\n",
        "\n",
        "class Parent:\n",
        "\n",
        "  def property_5(self):\n",
        "    print(\"2-3 flats\")\n",
        "\n",
        "class Child_1(Parent):\n",
        "  pass\n",
        "\n",
        "class Child_2(Parent):\n",
        "  pass"
      ],
      "metadata": {
        "id": "9-5fmXpglPL0"
      },
      "execution_count": null,
      "outputs": []
    },
    {
      "cell_type": "code",
      "source": [
        "c = Child_1()\n",
        "c.property_5()"
      ],
      "metadata": {
        "colab": {
          "base_uri": "https://localhost:8080/"
        },
        "id": "JIkmGKtql3vC",
        "outputId": "9008e945-c695-4853-976d-9eff51ce0442"
      },
      "execution_count": null,
      "outputs": [
        {
          "output_type": "stream",
          "name": "stdout",
          "text": [
            "2-3 flats\n"
          ]
        }
      ]
    },
    {
      "cell_type": "code",
      "source": [
        "c = Child_2()\n",
        "c.property_5()"
      ],
      "metadata": {
        "colab": {
          "base_uri": "https://localhost:8080/"
        },
        "id": "BOVRawGtmDWO",
        "outputId": "8ee64747-0c71-4a67-fdc4-b18c40cba520"
      },
      "execution_count": null,
      "outputs": [
        {
          "output_type": "stream",
          "name": "stdout",
          "text": [
            "2-3 flats\n"
          ]
        }
      ]
    },
    {
      "cell_type": "code",
      "source": [
        "# 5. Hybride\n",
        "\n",
        "class A:\n",
        "  pass\n",
        "\n",
        "class B(A):  # single\n",
        "  pass\n",
        "\n",
        "class C(B):  # multi level\n",
        "  pass\n",
        "\n",
        "class D:\n",
        "  pass\n",
        "\n",
        "class E(A, D):  # multiple\n",
        "  pass\n",
        "\n",
        "class F(A):   # hierarchical\n",
        "  pass"
      ],
      "metadata": {
        "id": "YQRlBDWvmHim"
      },
      "execution_count": null,
      "outputs": []
    },
    {
      "cell_type": "code",
      "source": [
        "class A:\n",
        "\n",
        "  def printA(self):\n",
        "    print(\"Hello, I am from A\")\n",
        "\n",
        "class B(A):\n",
        "\n",
        "  def printB(self):\n",
        "    print(\"Hello, I am from B\")"
      ],
      "metadata": {
        "id": "E6cSgGxbpn0T"
      },
      "execution_count": null,
      "outputs": []
    },
    {
      "cell_type": "code",
      "source": [
        "b = B()\n",
        "b.printA()"
      ],
      "metadata": {
        "colab": {
          "base_uri": "https://localhost:8080/"
        },
        "id": "kY5iyyYCvsYI",
        "outputId": "0efd61bc-ea53-45c1-bd15-b2e8da191418"
      },
      "execution_count": null,
      "outputs": [
        {
          "output_type": "stream",
          "name": "stdout",
          "text": [
            "Hello, I am from A\n"
          ]
        }
      ]
    },
    {
      "cell_type": "code",
      "source": [
        "b.printB()"
      ],
      "metadata": {
        "colab": {
          "base_uri": "https://localhost:8080/"
        },
        "id": "W_-5NDfKv3I-",
        "outputId": "4110a1cd-aec9-4bb2-ae18-b122fc082512"
      },
      "execution_count": null,
      "outputs": [
        {
          "output_type": "stream",
          "name": "stdout",
          "text": [
            "Hello, I am from B\n"
          ]
        }
      ]
    },
    {
      "cell_type": "code",
      "source": [
        "class A:\n",
        "\n",
        "  def __int__(self):\n",
        "    print(\"Hello, class A constructor\")\n",
        "\n",
        "  def printA(self):\n",
        "    print(\"Hello, I am from A\")\n",
        "\n",
        "class B(A):\n",
        "\n",
        "  def __int__(self):\n",
        "    print(\"Hello, class B constructor\")\n",
        "\n",
        "  def printB(self):\n",
        "    print(\"Hello, I am from B\")"
      ],
      "metadata": {
        "id": "zvMjIWOOv6_9"
      },
      "execution_count": null,
      "outputs": []
    },
    {
      "cell_type": "code",
      "source": [
        "c = B()"
      ],
      "metadata": {
        "id": "CxFCZ16awX9P"
      },
      "execution_count": null,
      "outputs": []
    },
    {
      "cell_type": "code",
      "source": [
        "c.printA()"
      ],
      "metadata": {
        "colab": {
          "base_uri": "https://localhost:8080/"
        },
        "id": "Tr12K_HIwtNh",
        "outputId": "d3cf3dc2-1de9-4ca3-c8b3-367981cce186"
      },
      "execution_count": null,
      "outputs": [
        {
          "output_type": "stream",
          "name": "stdout",
          "text": [
            "Hello, I am from A\n"
          ]
        }
      ]
    },
    {
      "cell_type": "code",
      "source": [
        "super() -->\n",
        "\n",
        "class A:\n",
        "  def__init__():\n",
        "    pass\n",
        "\n",
        "class B:\n",
        "  def __init__():  # FCFT\n",
        "    super().__init__()\n",
        "    pass\n",
        "\n",
        "b = B()"
      ],
      "metadata": {
        "id": "KpRbG-H1xZYy"
      },
      "execution_count": null,
      "outputs": []
    },
    {
      "cell_type": "code",
      "source": [
        "class ParentA:\n",
        "\n",
        "  def __int__(self):\n",
        "    print(\"Hello, class A constructor\")\n",
        "\n",
        "  def printA(self):\n",
        "    print(\"Hello, I am from A\")\n",
        "\n",
        "class ParentB(ParentA):\n",
        "\n",
        "  def __init__(self):\n",
        "    super().__init__()\n",
        "    print(\"Hello, class B constructor\")\n",
        "\n",
        "  def printB(self):\n",
        "    print(\"Hello, I am from B\")"
      ],
      "metadata": {
        "id": "A6CoeIHlw8Rq"
      },
      "execution_count": null,
      "outputs": []
    },
    {
      "cell_type": "code",
      "source": [
        "b = ParentB()"
      ],
      "metadata": {
        "id": "57ipbhClxO3b"
      },
      "execution_count": null,
      "outputs": []
    },
    {
      "cell_type": "code",
      "source": [
        "class ParentA:\n",
        "\n",
        "  def __init__(self,dataa):\n",
        "    print(\"Hello, class A constructor\")\n",
        "    print(dataa)\n",
        "\n",
        "class ParentB(ParentA):\n",
        "\n",
        "  def __init__(self, dataa, datab):\n",
        "    super().__init__(dataa)\n",
        "    print(datab)\n",
        "\n",
        "class ParentC(ParentB):\n",
        "\n",
        "  def __init__(self, dataa, datab, datac):\n",
        "    super().__init__(dataa, datab)\n",
        "    print(datac)\n",
        "\n",
        "\n",
        "c = ParentC(10, 100, 1000)"
      ],
      "metadata": {
        "colab": {
          "base_uri": "https://localhost:8080/"
        },
        "id": "wbtYe9JDyPtD",
        "outputId": "8e6b8487-f8d3-4c04-dfc8-2df8b3ee619b"
      },
      "execution_count": null,
      "outputs": [
        {
          "output_type": "stream",
          "name": "stdout",
          "text": [
            "Hello, class A constructor\n",
            "10\n",
            "100\n",
            "1000\n"
          ]
        }
      ]
    },
    {
      "cell_type": "code",
      "source": [
        "class GrandFather:\n",
        "\n",
        "  def __init__(self, name):\n",
        "    self.name = name\n",
        "\n",
        "  def show_relationship(self):\n",
        "    return f\"{self.name}\"\n",
        "\n",
        "class Father(GrandFather):\n",
        "  def __init__(self, father, grand_father):\n",
        "    super().__init__(grand_father)\n",
        "    self.father = father\n",
        "\n",
        "  def show_relationship(self):\n",
        "    return f\"Father -> {self.father}, {super().show_relationship()}\"\n",
        "\n",
        "class Child(Father):\n",
        "  def __init__(self, name, father, grand_father):\n",
        "    super().__init__(father, grand_father)\n",
        "    self.name = name\n",
        "\n",
        "  def show_relationship(self):\n",
        "    return f\"Father -> {self.father}, {super().show_relationship()}\""
      ],
      "metadata": {
        "id": "UseBxotEySHe"
      },
      "execution_count": null,
      "outputs": []
    },
    {
      "cell_type": "code",
      "source": [
        "while True:\n",
        "  print('''1.\n",
        "2.\n",
        "3. Exit''')\n",
        "  user = int(input(\"Select Option : \"))\n",
        "\n",
        "  if user == 1:\n",
        "    name = input(\"Enter Name -> \")\n",
        "    father = input(\"Enter Name -> \")\n",
        "    gf = input(\"Enter Name -> \")\n",
        "\n",
        "    c = Child(name, father, gf)\n",
        "    print(c.show_relationship())\n",
        "\n",
        "  elif user == 2:\n",
        "    pass\n",
        "  elif user == 3:\n",
        "    print(\"STOP\")\n",
        "    break\n",
        "  else:\n",
        "    print(\"Select Correct option\")\n"
      ],
      "metadata": {
        "colab": {
          "base_uri": "https://localhost:8080/"
        },
        "id": "sNsJssi_8sHu",
        "outputId": "546e5bd2-ed88-4d99-b121-3e1d7a0635a9"
      },
      "execution_count": null,
      "outputs": [
        {
          "output_type": "stream",
          "name": "stdout",
          "text": [
            "1. \n",
            "2.\n",
            "3. Exit\n",
            "Select Option : 1\n",
            "Enter Name -> raam\n",
            "Enter Name -> sham\n",
            "Enter Name -> vijay\n",
            "Father -> sham, Father -> sham, raam\n",
            "1. \n",
            "2.\n",
            "3. Exit\n",
            "Select Option : 3\n",
            "STOP\n"
          ]
        }
      ]
    },
    {
      "cell_type": "code",
      "source": [
        "# Polymorphism\n",
        "#       -> compile time  -> overloading\n",
        "#       -> run time      -> overriding\n",
        "\n",
        "\n",
        "class A:\n",
        "  def add(self, num1, num2, num3):\n",
        "    return f\" parent -> {num1+ num2}\"\n",
        "\n",
        "class BB(A):\n",
        "  def add(self, num1, num2, num3):\n",
        "    return f\" Child -> {num1+ num2}\""
      ],
      "metadata": {
        "id": "po1UuyZU94X-"
      },
      "execution_count": null,
      "outputs": []
    },
    {
      "cell_type": "code",
      "source": [
        "b = A()\n",
        "b.add(10, 20, 30)"
      ],
      "metadata": {
        "colab": {
          "base_uri": "https://localhost:8080/",
          "height": 35
        },
        "id": "tubLY_3xCDau",
        "outputId": "7449dcdd-3b85-44be-dbfd-076c71353828"
      },
      "execution_count": null,
      "outputs": [
        {
          "output_type": "execute_result",
          "data": {
            "text/plain": [
              "' parent -> 30'"
            ],
            "application/vnd.google.colaboratory.intrinsic+json": {
              "type": "string"
            }
          },
          "metadata": {},
          "execution_count": 82
        }
      ]
    },
    {
      "cell_type": "code",
      "source": [
        "# Exception Handling\n",
        "\n",
        "try:\n",
        "  # risky code\n",
        "except Exception_name(Parent/child):\n",
        "  # handling code\n",
        "\n",
        "\n"
      ],
      "metadata": {
        "id": "MF7bNF1wCM0b"
      },
      "execution_count": null,
      "outputs": []
    },
    {
      "cell_type": "code",
      "source": [
        "a = int(input(\"Enter Number -> \"))\n",
        "b = int(input(\"Enter Number -> \"))\n",
        "\n",
        "try:\n",
        "  c = a // b\n",
        "\n",
        "  if c == 2:\n",
        "    print(\"Great\")\n",
        "  else:\n",
        "    print(\"Ooops... try again\")\n",
        "\n",
        "except Exception:\n",
        "  print(\"Something went wrong...\")"
      ],
      "metadata": {
        "colab": {
          "base_uri": "https://localhost:8080/"
        },
        "id": "vs03CncDf3U0",
        "outputId": "d3418388-f61a-4be4-fa9a-f67592d7ace5"
      },
      "execution_count": null,
      "outputs": [
        {
          "output_type": "stream",
          "name": "stdout",
          "text": [
            "Enter Number -> 10\n",
            "Enter Number -> 0\n",
            "Something went wrong...\n"
          ]
        }
      ]
    },
    {
      "cell_type": "code",
      "source": [
        "try:\n",
        "  # risky code\n",
        "except (Parent/child):\n",
        "  # handling code\n",
        "\n",
        "finally:\n",
        "  # clean-up code"
      ],
      "metadata": {
        "id": "HIC3_tpJgR8x"
      },
      "execution_count": null,
      "outputs": []
    },
    {
      "cell_type": "code",
      "source": [
        "a = int(input(\"Enter Number -> \"))\n",
        "b = int(input(\"Enter Number -> \"))\n",
        "\n",
        "try:\n",
        "  c = a // b\n",
        "  print(c)\n",
        "except Exception:\n",
        "  print(\"Something went wrong...\")\n",
        "\n",
        "finally:\n",
        "  print(\"Executed...\")"
      ],
      "metadata": {
        "colab": {
          "base_uri": "https://localhost:8080/"
        },
        "id": "M4oNCBlth_90",
        "outputId": "41121176-5e47-4c96-9c4c-81f789a1779d"
      },
      "execution_count": null,
      "outputs": [
        {
          "output_type": "stream",
          "name": "stdout",
          "text": [
            "Enter Number -> 10\n",
            "Enter Number -> 2\n",
            "5\n",
            "Executed...\n"
          ]
        }
      ]
    },
    {
      "cell_type": "code",
      "source": [
        "a = int(input(\"Enter Number -> \"))\n",
        "b = int(input(\"Enter Number -> \"))\n",
        "\n",
        "try:\n",
        "  c = a // b\n",
        "  print(c)\n",
        "except Exception:\n",
        "  print(\"Something went wrong...\")\n",
        "\n",
        "finally:\n",
        "  print(\"Executed...\")"
      ],
      "metadata": {
        "colab": {
          "base_uri": "https://localhost:8080/"
        },
        "id": "stBRRtNBiGCQ",
        "outputId": "607aa1cd-4154-4e8d-ab15-59b843abdb98"
      },
      "execution_count": null,
      "outputs": [
        {
          "output_type": "stream",
          "name": "stdout",
          "text": [
            "Enter Number -> 10\n",
            "Enter Number -> 0\n",
            "Something went wrong...\n",
            "Executed...\n"
          ]
        }
      ]
    },
    {
      "cell_type": "code",
      "source": [
        "a = int(input(\"Enter Number -> \"))\n",
        "b = int(input(\"Enter Number -> \"))\n",
        "\n",
        "try:\n",
        "  c = a // b\n",
        "  print(c)\n",
        "except Exception:\n",
        "  print(\"Parent Exception Called...\")\n",
        "\n",
        "except ZeroDivisionError:\n",
        "  print(\"Child Exception Called...\")\n",
        "\n",
        "finally:\n",
        "  print(\"Executed...\")"
      ],
      "metadata": {
        "colab": {
          "base_uri": "https://localhost:8080/"
        },
        "id": "tn_UFMvOibH4",
        "outputId": "76d56ffd-ab22-409d-e883-efb1079bfdb0"
      },
      "execution_count": null,
      "outputs": [
        {
          "output_type": "stream",
          "name": "stdout",
          "text": [
            "Enter Number -> 10\n",
            "Enter Number -> 0\n",
            "Parent Exception Called...\n",
            "Executed...\n"
          ]
        }
      ]
    },
    {
      "cell_type": "code",
      "source": [
        "a = int(input(\"Enter Number -> \"))\n",
        "b = int(input(\"Enter Number -> \"))\n",
        "\n",
        "try:\n",
        "  c = a // b\n",
        "  print(c)\n",
        "\n",
        "except ZeroDivisionError:\n",
        "  print(\"Child Exception Called...\")\n",
        "\n",
        "except Exception:\n",
        "  print(\"Parent Exception Called...\")\n",
        "\n",
        "finally:\n",
        "  print(\"Executed...\")"
      ],
      "metadata": {
        "colab": {
          "base_uri": "https://localhost:8080/"
        },
        "id": "KjiiQ5FPjHHK",
        "outputId": "40eadfd4-7afe-4ec9-8d64-7448f456a5c2"
      },
      "execution_count": null,
      "outputs": [
        {
          "output_type": "stream",
          "name": "stdout",
          "text": [
            "Enter Number -> 10\n",
            "Enter Number -> 0\n",
            "Child Exception Called...\n",
            "Executed...\n"
          ]
        }
      ]
    },
    {
      "cell_type": "code",
      "source": [
        "Count of pairs in an array whose product is a perfect square\n",
        "Given an array arr[] of N integers, the task is\n",
        "to find the number of pairs (arr[i], arr[j]) such that arr[i]*arr[j] is a perfect square.\n",
        "Note: arr[i] is not equal to arr[j]\n",
        "input: arr[] = { 1, 2, 4, 8, 5, 6}\n",
        "Output: 2\n",
        "Explanation:\n",
        "The pairs such that the product of an element is perfectly square are (1, 4) and (8, 2).\n",
        "Input: arr[] = { 1, 2, 3, 4, 5, 6, 7, 8, 9 }\n",
        "Output: 4\n",
        "Explanation:\n",
        "The pairs such that the product of an element is perfectly square are\n",
        "(1, 4), (1, 9), (2, 8) and (4, 9)."
      ],
      "metadata": {
        "id": "yOCur02CjbR8"
      },
      "execution_count": null,
      "outputs": []
    },
    {
      "cell_type": "code",
      "source": [
        "def Check(num):\n",
        "\n",
        "  sqr_root = int(num**0.5)\n",
        "  if sqr_root**2 == num:\n",
        "    return True\n",
        "  else:\n",
        "    return False\n",
        "\n",
        "\n",
        "def count_pair(arr):\n",
        "  count = 0\n",
        "  for x in range(len(arr)):\n",
        "    for y in range(x+1, len(arr)):\n",
        "      if Check(arr[x] * arr[y]):\n",
        "        count += 1\n",
        "  return count\n",
        "\n",
        "arr = [1, 2, 3, 4, 5, 6, 7, 8, 9]\n",
        "count_pair(arr)"
      ],
      "metadata": {
        "colab": {
          "base_uri": "https://localhost:8080/"
        },
        "id": "Vjz17ySpnGxl",
        "outputId": "fa548c17-1005-4486-aa62-1922d8772335"
      },
      "execution_count": null,
      "outputs": [
        {
          "output_type": "execute_result",
          "data": {
            "text/plain": [
              "4"
            ]
          },
          "metadata": {},
          "execution_count": 28
        }
      ]
    },
    {
      "cell_type": "code",
      "source": [],
      "metadata": {
        "id": "mYidXcDwrj-C"
      },
      "execution_count": null,
      "outputs": []
    }
  ]
}