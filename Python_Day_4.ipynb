{
  "nbformat": 4,
  "nbformat_minor": 0,
  "metadata": {
    "colab": {
      "provenance": []
    },
    "kernelspec": {
      "name": "python3",
      "display_name": "Python 3"
    },
    "language_info": {
      "name": "python"
    }
  },
  "cells": [
    {
      "cell_type": "code",
      "execution_count": null,
      "metadata": {
        "colab": {
          "base_uri": "https://localhost:8080/",
          "height": 36
        },
        "id": "bukHUvJm6tU2",
        "outputId": "29ad9c61-e1fd-43c4-bc99-0754241cb2b3"
      },
      "outputs": [
        {
          "output_type": "execute_result",
          "data": {
            "text/plain": [
              "'Hello'"
            ],
            "application/vnd.google.colaboratory.intrinsic+json": {
              "type": "string"
            }
          },
          "metadata": {},
          "execution_count": 3
        }
      ],
      "source": [
        "# String\n",
        "\n",
        "s = 'Hello'\n",
        "s"
      ]
    },
    {
      "cell_type": "code",
      "source": [
        "s = ''' Hello\n",
        "    World '''\n",
        "s"
      ],
      "metadata": {
        "colab": {
          "base_uri": "https://localhost:8080/",
          "height": 36
        },
        "id": "k71kKYKq87rA",
        "outputId": "3d0edbfa-7ec6-4f52-a010-8e400242629a"
      },
      "execution_count": null,
      "outputs": [
        {
          "output_type": "execute_result",
          "data": {
            "text/plain": [
              "' Hello \\n    World '"
            ],
            "application/vnd.google.colaboratory.intrinsic+json": {
              "type": "string"
            }
          },
          "metadata": {},
          "execution_count": 4
        }
      ]
    },
    {
      "cell_type": "code",
      "source": [
        "s = \"धनराज हा सीसी मध्ये खूप चांगला ट्रेनर आहे\"\n",
        "s"
      ],
      "metadata": {
        "colab": {
          "base_uri": "https://localhost:8080/",
          "height": 36
        },
        "id": "HDf7CGbf87ng",
        "outputId": "98deb26d-908e-4385-e14b-bf1c1413d9de"
      },
      "execution_count": null,
      "outputs": [
        {
          "output_type": "execute_result",
          "data": {
            "text/plain": [
              "'धनराज हा सीसी मध्ये खूप चांगला ट्रेनर आहे'"
            ],
            "application/vnd.google.colaboratory.intrinsic+json": {
              "type": "string"
            }
          },
          "metadata": {},
          "execution_count": 5
        }
      ]
    },
    {
      "cell_type": "code",
      "source": [
        "s = \"ਧਨਰਾਜ ਸੀਸੀ ਵਿੱਚ ਬਹੁਤ ਵਧੀਆ ਟ੍ਰੇਨਰ ਹੈ\"\n",
        "s"
      ],
      "metadata": {
        "colab": {
          "base_uri": "https://localhost:8080/",
          "height": 36
        },
        "id": "Z8j8Yxd887k_",
        "outputId": "fcbcd921-b544-4dea-da19-8532a98caecb"
      },
      "execution_count": null,
      "outputs": [
        {
          "output_type": "execute_result",
          "data": {
            "text/plain": [
              "'ਧਨਰਾਜ ਸੀਸੀ ਵਿੱਚ ਬਹੁਤ ਵਧੀਆ ਟ੍ਰੇਨਰ ਹੈ'"
            ],
            "application/vnd.google.colaboratory.intrinsic+json": {
              "type": "string"
            }
          },
          "metadata": {},
          "execution_count": 6
        }
      ]
    },
    {
      "cell_type": "code",
      "source": [
        "ord() --> para -> str --> int\n",
        "chr() --> para -> int --> str"
      ],
      "metadata": {
        "id": "eL99ougZ87im"
      },
      "execution_count": null,
      "outputs": []
    },
    {
      "cell_type": "code",
      "source": [
        "ord('A') # --> int"
      ],
      "metadata": {
        "colab": {
          "base_uri": "https://localhost:8080/"
        },
        "id": "akp1izD687OF",
        "outputId": "c6db8631-bfe9-4101-f16c-7e062743e6d0"
      },
      "execution_count": null,
      "outputs": [
        {
          "output_type": "execute_result",
          "data": {
            "text/plain": [
              "65"
            ]
          },
          "metadata": {},
          "execution_count": 7
        }
      ]
    },
    {
      "cell_type": "code",
      "source": [
        "ord('a') # --> int"
      ],
      "metadata": {
        "colab": {
          "base_uri": "https://localhost:8080/"
        },
        "id": "GmgAf-vY87Kl",
        "outputId": "913afce3-7f68-4fb0-ceda-c0793b602c68"
      },
      "execution_count": null,
      "outputs": [
        {
          "output_type": "execute_result",
          "data": {
            "text/plain": [
              "97"
            ]
          },
          "metadata": {},
          "execution_count": 8
        }
      ]
    },
    {
      "cell_type": "code",
      "source": [
        "chr(65)"
      ],
      "metadata": {
        "colab": {
          "base_uri": "https://localhost:8080/",
          "height": 36
        },
        "id": "UUn2_vlA87HW",
        "outputId": "6e19268a-25a5-4ee3-8ee0-3d461e3f0852"
      },
      "execution_count": null,
      "outputs": [
        {
          "output_type": "execute_result",
          "data": {
            "text/plain": [
              "'A'"
            ],
            "application/vnd.google.colaboratory.intrinsic+json": {
              "type": "string"
            }
          },
          "metadata": {},
          "execution_count": 9
        }
      ]
    },
    {
      "cell_type": "code",
      "source": [
        "chr(97)"
      ],
      "metadata": {
        "colab": {
          "base_uri": "https://localhost:8080/",
          "height": 36
        },
        "id": "CynDUvI8Bq5S",
        "outputId": "3534c478-0481-46a0-e384-169d74f31254"
      },
      "execution_count": null,
      "outputs": [
        {
          "output_type": "execute_result",
          "data": {
            "text/plain": [
              "'a'"
            ],
            "application/vnd.google.colaboratory.intrinsic+json": {
              "type": "string"
            }
          },
          "metadata": {},
          "execution_count": 10
        }
      ]
    },
    {
      "cell_type": "code",
      "source": [
        "s.capitalize()\n",
        "s.center()\n",
        "s.title()\n",
        "s.split()\n",
        "s.upper()\n",
        "s.lower()"
      ],
      "metadata": {
        "id": "jwWOwnmHBt3L"
      },
      "execution_count": null,
      "outputs": []
    },
    {
      "cell_type": "code",
      "source": [
        "s = \"good morning\"\n",
        "s"
      ],
      "metadata": {
        "colab": {
          "base_uri": "https://localhost:8080/",
          "height": 36
        },
        "id": "b2VxPKwJB76p",
        "outputId": "a297a42d-02fa-4f11-f71b-d93f7e6fc88a"
      },
      "execution_count": null,
      "outputs": [
        {
          "output_type": "execute_result",
          "data": {
            "text/plain": [
              "'good morning'"
            ],
            "application/vnd.google.colaboratory.intrinsic+json": {
              "type": "string"
            }
          },
          "metadata": {},
          "execution_count": 12
        }
      ]
    },
    {
      "cell_type": "code",
      "source": [
        "s.capitalize()"
      ],
      "metadata": {
        "colab": {
          "base_uri": "https://localhost:8080/",
          "height": 36
        },
        "id": "imwluoJXCEBG",
        "outputId": "00e19179-bf8d-4d54-8797-a3e8b7f581cc"
      },
      "execution_count": null,
      "outputs": [
        {
          "output_type": "execute_result",
          "data": {
            "text/plain": [
              "'Good morning'"
            ],
            "application/vnd.google.colaboratory.intrinsic+json": {
              "type": "string"
            }
          },
          "metadata": {},
          "execution_count": 13
        }
      ]
    },
    {
      "cell_type": "code",
      "source": [
        "s = \"good morning\"\n",
        "s.title()"
      ],
      "metadata": {
        "colab": {
          "base_uri": "https://localhost:8080/",
          "height": 36
        },
        "id": "K-UmCua4DF0H",
        "outputId": "4a015d70-db59-4295-c5cd-fe54b30ddef6"
      },
      "execution_count": null,
      "outputs": [
        {
          "output_type": "execute_result",
          "data": {
            "text/plain": [
              "'Good Morning'"
            ],
            "application/vnd.google.colaboratory.intrinsic+json": {
              "type": "string"
            }
          },
          "metadata": {},
          "execution_count": 14
        }
      ]
    },
    {
      "cell_type": "code",
      "source": [
        "s = \"gOoD MornIng\"\n",
        "s"
      ],
      "metadata": {
        "colab": {
          "base_uri": "https://localhost:8080/",
          "height": 36
        },
        "id": "t5wb6WWODNm4",
        "outputId": "6879e317-0682-4046-9e5a-ae8a9ef4a231"
      },
      "execution_count": null,
      "outputs": [
        {
          "output_type": "execute_result",
          "data": {
            "text/plain": [
              "'gOoD MornIng'"
            ],
            "application/vnd.google.colaboratory.intrinsic+json": {
              "type": "string"
            }
          },
          "metadata": {},
          "execution_count": 15
        }
      ]
    },
    {
      "cell_type": "code",
      "source": [
        "s.upper()"
      ],
      "metadata": {
        "colab": {
          "base_uri": "https://localhost:8080/",
          "height": 36
        },
        "id": "nz0Hjs5jDiz4",
        "outputId": "1cd39106-2cef-4eb3-93e8-4b8b2fab32b3"
      },
      "execution_count": null,
      "outputs": [
        {
          "output_type": "execute_result",
          "data": {
            "text/plain": [
              "'GOOD MORNING'"
            ],
            "application/vnd.google.colaboratory.intrinsic+json": {
              "type": "string"
            }
          },
          "metadata": {},
          "execution_count": 16
        }
      ]
    },
    {
      "cell_type": "code",
      "source": [
        "s.lower()"
      ],
      "metadata": {
        "colab": {
          "base_uri": "https://localhost:8080/",
          "height": 36
        },
        "id": "lCePkzdQDmHI",
        "outputId": "0deddf8b-cef4-4386-fe8b-14ca6bdf4d11"
      },
      "execution_count": null,
      "outputs": [
        {
          "output_type": "execute_result",
          "data": {
            "text/plain": [
              "'good morning'"
            ],
            "application/vnd.google.colaboratory.intrinsic+json": {
              "type": "string"
            }
          },
          "metadata": {},
          "execution_count": 18
        }
      ]
    },
    {
      "cell_type": "code",
      "source": [
        "s = \"Hello\"\n",
        "s"
      ],
      "metadata": {
        "colab": {
          "base_uri": "https://localhost:8080/",
          "height": 36
        },
        "id": "UW5eP5amDm0q",
        "outputId": "867dbd21-a799-4478-dce1-7f2ddc828ebc"
      },
      "execution_count": null,
      "outputs": [
        {
          "output_type": "execute_result",
          "data": {
            "text/plain": [
              "'Hello'"
            ],
            "application/vnd.google.colaboratory.intrinsic+json": {
              "type": "string"
            }
          },
          "metadata": {},
          "execution_count": 19
        }
      ]
    },
    {
      "cell_type": "code",
      "source": [
        "s.center(10)"
      ],
      "metadata": {
        "colab": {
          "base_uri": "https://localhost:8080/",
          "height": 36
        },
        "id": "FkbXciXkDsmh",
        "outputId": "cc69cf9c-8473-44df-babb-e95cd3780c65"
      },
      "execution_count": null,
      "outputs": [
        {
          "output_type": "execute_result",
          "data": {
            "text/plain": [
              "'  Hello   '"
            ],
            "application/vnd.google.colaboratory.intrinsic+json": {
              "type": "string"
            }
          },
          "metadata": {},
          "execution_count": 22
        }
      ]
    },
    {
      "cell_type": "code",
      "source": [
        "user = input(\"Enter Message\")\n",
        "print(user.capitalize())"
      ],
      "metadata": {
        "colab": {
          "base_uri": "https://localhost:8080/"
        },
        "id": "HfjZBZdyG1Hc",
        "outputId": "c45a65d3-2c26-47ae-c3ee-91cbd3d533a0"
      },
      "execution_count": null,
      "outputs": [
        {
          "output_type": "stream",
          "name": "stdout",
          "text": [
            "Enter Messagegood morning\n",
            "Good morning\n"
          ]
        }
      ]
    },
    {
      "cell_type": "code",
      "source": [
        "user = input(\"Enter Message\")\n",
        "print(user.title())"
      ],
      "metadata": {
        "colab": {
          "base_uri": "https://localhost:8080/"
        },
        "id": "SCJSl888G0rk",
        "outputId": "c9f9bba4-5d8c-4ed2-db13-d9dbc82ef688"
      },
      "execution_count": null,
      "outputs": [
        {
          "output_type": "stream",
          "name": "stdout",
          "text": [
            "Enter Messagegood morning\n",
            "Good Morning\n"
          ]
        }
      ]
    },
    {
      "cell_type": "code",
      "source": [
        "# 1 -> on\n",
        "# 2 -> off\n",
        "\n",
        "user = input(\"Pess Y for On \\n N. For OFF\").upper()\n",
        "\n",
        "if user == 'Y':\n",
        "  print(\"ON\")\n",
        "elif user == 'N':\n",
        "  print(\"OFF\")\n",
        "else:\n",
        "  print(\"Sorry\")"
      ],
      "metadata": {
        "colab": {
          "base_uri": "https://localhost:8080/"
        },
        "id": "D26PzvUMHLAb",
        "outputId": "6a6d58a3-9241-487e-da2e-982910f2a0c2"
      },
      "execution_count": null,
      "outputs": [
        {
          "output_type": "stream",
          "name": "stdout",
          "text": [
            "Pess Y for On \n",
            " N. For OFFN\n",
            "OFF\n"
          ]
        }
      ]
    },
    {
      "cell_type": "code",
      "source": [
        "s = \"Hello\"\n",
        "len(s)\n"
      ],
      "metadata": {
        "colab": {
          "base_uri": "https://localhost:8080/"
        },
        "id": "Hjw_K-zaHKzN",
        "outputId": "cf3547b0-0ae7-46d0-ea10-fa5258729a81"
      },
      "execution_count": null,
      "outputs": [
        {
          "output_type": "execute_result",
          "data": {
            "text/plain": [
              "5"
            ]
          },
          "metadata": {},
          "execution_count": 31
        }
      ]
    },
    {
      "cell_type": "code",
      "source": [
        "s.center(15)"
      ],
      "metadata": {
        "colab": {
          "base_uri": "https://localhost:8080/",
          "height": 36
        },
        "id": "sB-ZKq88HKiM",
        "outputId": "b0fc5800-a368-4c74-e55c-0baba416c18a"
      },
      "execution_count": null,
      "outputs": [
        {
          "output_type": "execute_result",
          "data": {
            "text/plain": [
              "'     Hello     '"
            ],
            "application/vnd.google.colaboratory.intrinsic+json": {
              "type": "string"
            }
          },
          "metadata": {},
          "execution_count": 32
        }
      ]
    },
    {
      "cell_type": "code",
      "source": [
        "len(s)"
      ],
      "metadata": {
        "colab": {
          "base_uri": "https://localhost:8080/"
        },
        "id": "y5dhns0yH85c",
        "outputId": "8cdc22f8-3216-42de-caa6-02d211cd6c7a"
      },
      "execution_count": null,
      "outputs": [
        {
          "output_type": "execute_result",
          "data": {
            "text/plain": [
              "5"
            ]
          },
          "metadata": {},
          "execution_count": 34
        }
      ]
    },
    {
      "cell_type": "code",
      "source": [
        "# A -> 65\n",
        "# B -> 66.... Z -> 91\n",
        "\n",
        "for char in range(ord('A'), ord('Z')+1):\n",
        "  print(chr(char),  \"->\", char)"
      ],
      "metadata": {
        "colab": {
          "base_uri": "https://localhost:8080/"
        },
        "id": "TyqlgHiJD1ms",
        "outputId": "9e7d45b3-3ea9-456d-df9b-1d101da07cf4"
      },
      "execution_count": null,
      "outputs": [
        {
          "output_type": "stream",
          "name": "stdout",
          "text": [
            "A -> 65\n",
            "B -> 66\n",
            "C -> 67\n",
            "D -> 68\n",
            "E -> 69\n",
            "F -> 70\n",
            "G -> 71\n",
            "H -> 72\n",
            "I -> 73\n",
            "J -> 74\n",
            "K -> 75\n",
            "L -> 76\n",
            "M -> 77\n",
            "N -> 78\n",
            "O -> 79\n",
            "P -> 80\n",
            "Q -> 81\n",
            "R -> 82\n",
            "S -> 83\n",
            "T -> 84\n",
            "U -> 85\n",
            "V -> 86\n",
            "W -> 87\n",
            "X -> 88\n",
            "Y -> 89\n",
            "Z -> 90\n"
          ]
        }
      ]
    },
    {
      "cell_type": "code",
      "source": [
        "# A A A\n",
        "# B B B\n",
        "# C C C\n",
        "\n",
        "\n",
        "for row in range(ord(\"A\"), ord(\"C\")+1):\n",
        "  for col in range(ord(\"A\"), ord(\"C\")+1):\n",
        "    print(chr(row), end = \" \")\n",
        "  print()"
      ],
      "metadata": {
        "colab": {
          "base_uri": "https://localhost:8080/"
        },
        "id": "a6RvbcmIFTuf",
        "outputId": "505b42b0-9657-4a20-e861-6ae53dcff845"
      },
      "execution_count": null,
      "outputs": [
        {
          "output_type": "stream",
          "name": "stdout",
          "text": [
            "A A A \n",
            "B B B \n",
            "C C C \n"
          ]
        }
      ]
    },
    {
      "cell_type": "code",
      "source": [
        "start and end --> from user\n",
        "\n",
        "A\n",
        "A B\n",
        "A B C\n",
        "A B C D"
      ],
      "metadata": {
        "id": "0d5MzRKJIgZw"
      },
      "execution_count": null,
      "outputs": []
    },
    {
      "cell_type": "code",
      "source": [
        "start = input(\"Enter Start Point -> \").upper()\n",
        "end = input(\"Enter Ending Point -> \").upper()\n",
        "\n",
        "for row in range(ord(start), ord(end)+1):\n",
        "  for col in range(ord(start), row+1):\n",
        "    print(chr(col), end = \" \")\n",
        "  print()"
      ],
      "metadata": {
        "colab": {
          "base_uri": "https://localhost:8080/"
        },
        "id": "-u2Bv3V9J7rI",
        "outputId": "c9bcdec5-b9c4-4343-d0d3-bc30baf35b7f"
      },
      "execution_count": null,
      "outputs": [
        {
          "output_type": "stream",
          "name": "stdout",
          "text": [
            "Enter Start Point -> a\n",
            "Enter Ending Point -> G\n",
            "A \n",
            "A B \n",
            "A B C \n",
            "A B C D \n",
            "A B C D E \n",
            "A B C D E F \n",
            "A B C D E F G \n"
          ]
        }
      ]
    },
    {
      "cell_type": "code",
      "source": [
        "s = \"D \"\n",
        "s"
      ],
      "metadata": {
        "colab": {
          "base_uri": "https://localhost:8080/",
          "height": 36
        },
        "id": "VDC7lKG9Kfer",
        "outputId": "37e5095f-7877-4876-a59c-b2fbfe1ae8e0"
      },
      "execution_count": null,
      "outputs": [
        {
          "output_type": "execute_result",
          "data": {
            "text/plain": [
              "'D '"
            ],
            "application/vnd.google.colaboratory.intrinsic+json": {
              "type": "string"
            }
          },
          "metadata": {},
          "execution_count": 38
        }
      ]
    },
    {
      "cell_type": "code",
      "source": [
        "s = \"D \"*5\n",
        "s"
      ],
      "metadata": {
        "colab": {
          "base_uri": "https://localhost:8080/",
          "height": 36
        },
        "id": "kWLsxJv-K21o",
        "outputId": "97e5372a-1a15-4ea9-d9b7-bd4c8d039a60"
      },
      "execution_count": null,
      "outputs": [
        {
          "output_type": "execute_result",
          "data": {
            "text/plain": [
              "'D D D D D '"
            ],
            "application/vnd.google.colaboratory.intrinsic+json": {
              "type": "string"
            }
          },
          "metadata": {},
          "execution_count": 39
        }
      ]
    },
    {
      "cell_type": "code",
      "source": [
        "# *\n",
        "# * *\n",
        "# * * *\n",
        "# * * * *\n",
        "\n",
        "for x in range(4+1):\n",
        "  print(\"* \"*x)"
      ],
      "metadata": {
        "colab": {
          "base_uri": "https://localhost:8080/"
        },
        "id": "Flu9PvtGK6nT",
        "outputId": "cf0a40d2-3930-403a-944a-81be9ba54b70"
      },
      "execution_count": null,
      "outputs": [
        {
          "output_type": "stream",
          "name": "stdout",
          "text": [
            "\n",
            "* \n",
            "* * \n",
            "* * * \n",
            "* * * * \n"
          ]
        }
      ]
    },
    {
      "cell_type": "code",
      "source": [
        "# * * * *\n",
        "# * * *\n",
        "# * *\n",
        "# *\n",
        "\n",
        "for x in range(4+1, 0, -1):\n",
        "  print(\"* \"*x)"
      ],
      "metadata": {
        "colab": {
          "base_uri": "https://localhost:8080/"
        },
        "id": "wk-x7V0hL9jz",
        "outputId": "473aeb11-8aca-444e-b050-61ea46d06b74"
      },
      "execution_count": null,
      "outputs": [
        {
          "output_type": "stream",
          "name": "stdout",
          "text": [
            "* * * * * \n",
            "* * * * \n",
            "* * * \n",
            "* * \n",
            "* \n"
          ]
        }
      ]
    },
    {
      "cell_type": "code",
      "source": [
        "#    *\n",
        "#   * *\n",
        "#  * * *\n",
        "\n",
        "for x in range(1, 5, 1):\n",
        "  print(' '*(5-x), \"* \"*x)"
      ],
      "metadata": {
        "colab": {
          "base_uri": "https://localhost:8080/"
        },
        "id": "esg-OI1lMrYb",
        "outputId": "29bb367d-e977-4921-a337-e38a983bf1fe"
      },
      "execution_count": null,
      "outputs": [
        {
          "output_type": "stream",
          "name": "stdout",
          "text": [
            "     * \n",
            "    * * \n",
            "   * * * \n",
            "  * * * * \n"
          ]
        }
      ]
    },
    {
      "cell_type": "code",
      "source": [
        "#    *\n",
        "#   * *\n",
        "#  * * *\n",
        "#   * *\n",
        "#    *"
      ],
      "metadata": {
        "id": "g2m2qv6vMyCs"
      },
      "execution_count": null,
      "outputs": []
    },
    {
      "cell_type": "code",
      "source": [
        "# * * * *\n",
        "# *     *\n",
        "# *     *\n",
        "# * * * *"
      ],
      "metadata": {
        "id": "AsmTip51NY23"
      },
      "execution_count": null,
      "outputs": []
    },
    {
      "cell_type": "code",
      "source": [
        "# user provide a string -> Python\n",
        "\n",
        "# p\n",
        "# py\n",
        "# pyt\n",
        "# pyth\n",
        "# pytho\n",
        "# python\n",
        "\n",
        "user = input(\"Enter String -> \")\n",
        "\n",
        "for x in range(1, len(user)+1, 1):\n",
        "  print(user[:x])"
      ],
      "metadata": {
        "colab": {
          "base_uri": "https://localhost:8080/"
        },
        "id": "TxptbU8dNiKl",
        "outputId": "10f12f5b-ac05-4ed5-e5e3-ac30e15058c6"
      },
      "execution_count": null,
      "outputs": [
        {
          "output_type": "stream",
          "name": "stdout",
          "text": [
            "Enter String -> Python\n",
            "P\n",
            "Py\n",
            "Pyt\n",
            "Pyth\n",
            "Pytho\n",
            "Python\n"
          ]
        }
      ]
    },
    {
      "cell_type": "code",
      "source": [
        "# user provide a string --> aaaaaaeeeeebbbbttttssdd\n",
        "# Expected output -> Vowels --> 11\n",
        "\n",
        "user = input(\"Enter String -> \").lower()\n",
        "counter = 0\n",
        "for x in user:\n",
        "\n",
        "  if x == 'a' or x == 'e' or x == 'i' or x == 'o' or x == 'u':\n",
        "    counter += 1\n",
        "\n",
        "print(\"Count is -> \", counter)"
      ],
      "metadata": {
        "colab": {
          "base_uri": "https://localhost:8080/"
        },
        "id": "aEkDjlovQKsc",
        "outputId": "d2fad20a-7f67-4772-e6e4-9345ae6042a5"
      },
      "execution_count": null,
      "outputs": [
        {
          "output_type": "stream",
          "name": "stdout",
          "text": [
            "Enter String -> aaaaaaeeeeebbbbttttssdd\n",
            "Count is ->  11\n"
          ]
        }
      ]
    },
    {
      "cell_type": "code",
      "source": [
        "# user provide a string --> aaaaaaeeeeebbbbttttssdd\n",
        "# Expected output -> Vowels --> 11\n",
        "\n",
        "user = input(\"Enter String -> \").lower()\n",
        "counter = 0\n",
        "for x in user:\n",
        "\n",
        "  if x in 'aeiou':\n",
        "    counter += 1\n",
        "\n",
        "print(\"Count is -> \", counter)"
      ],
      "metadata": {
        "colab": {
          "base_uri": "https://localhost:8080/"
        },
        "id": "BdlyWtQBSMkw",
        "outputId": "b96b3b7c-f091-41c0-e280-886f20a4f84c"
      },
      "execution_count": null,
      "outputs": [
        {
          "output_type": "stream",
          "name": "stdout",
          "text": [
            "Enter String -> aaaaaaeeeeebbbbttttssdd\n",
            "Count is ->  11\n"
          ]
        }
      ]
    },
    {
      "cell_type": "code",
      "source": [
        "import time\n",
        "\n",
        "for num in range(11):\n",
        "  print(num)\n",
        "  time.sleep(2)"
      ],
      "metadata": {
        "colab": {
          "base_uri": "https://localhost:8080/"
        },
        "id": "6uCHQzP5Sciu",
        "outputId": "d1c54b3d-fd4e-4556-ebc0-f994d828c7c0"
      },
      "execution_count": null,
      "outputs": [
        {
          "output_type": "stream",
          "name": "stdout",
          "text": [
            "0\n",
            "1\n",
            "2\n",
            "3\n",
            "4\n",
            "5\n",
            "6\n",
            "7\n",
            "8\n",
            "9\n",
            "10\n"
          ]
        }
      ]
    },
    {
      "cell_type": "code",
      "source": [
        "# user -> para\n",
        "# sample input --> the the the and is are\n",
        "# output --> max_word -> the, count -> 3\n",
        "\n",
        "user_line = input(\"Provide a para : \").split()\n",
        "\n",
        "uni_list = set(user_line)\n",
        "max_word = ''\n",
        "max = 0\n",
        "for word in uni_list:\n",
        "\n",
        "  if user_line.count(word) > max:\n",
        "    max_word = word\n",
        "    max = user_line.count(word)\n",
        "\n",
        "print(f\"Max Word - > {max_word} Count -> {max}\")"
      ],
      "metadata": {
        "colab": {
          "base_uri": "https://localhost:8080/"
        },
        "id": "HbGDNTTXSrsw",
        "outputId": "745b8aaf-5fb8-47d2-ede1-cb532ef48e0a"
      },
      "execution_count": null,
      "outputs": [
        {
          "output_type": "stream",
          "name": "stdout",
          "text": [
            "Provide a para : the the the and is are\n",
            "Max Word - > the Count -> 3\n"
          ]
        }
      ]
    },
    {
      "cell_type": "code",
      "source": [
        "# user provide a line --> This is done this way\n",
        "\n",
        "# way\n",
        "# way this\n",
        "# way this done\n",
        "# way this done is\n",
        "# way this done is This\n",
        "\n",
        "user_line = input(\"Provide a para : \")\n",
        "word_list = user_line.split()\n",
        "word_list = word_list[::-1]\n",
        "rev_word = ''\n",
        "\n",
        "for word in word_list:\n",
        "  rev_word = rev_word + word + ' '\n",
        "  print(rev_word)\n",
        "\n",
        "\n"
      ],
      "metadata": {
        "colab": {
          "base_uri": "https://localhost:8080/"
        },
        "id": "hQtKhP9mbP3y",
        "outputId": "104234c0-27b1-4f81-baf3-141fadcc7c8c"
      },
      "execution_count": null,
      "outputs": [
        {
          "output_type": "stream",
          "name": "stdout",
          "text": [
            "Provide a para : this is done this way\n",
            "way \n",
            "way this \n",
            "way this done \n",
            "way this done is \n",
            "way this done is this \n"
          ]
        }
      ]
    },
    {
      "cell_type": "code",
      "source": [
        "# Function\n",
        "\n",
        "def function_name():\n",
        "  pass"
      ],
      "metadata": {
        "id": "AopONa08gglF"
      },
      "execution_count": null,
      "outputs": []
    },
    {
      "cell_type": "code",
      "source": [
        "def marry():\n",
        "  print(\"Rashamika weds Vijay\")"
      ],
      "metadata": {
        "id": "oAzkGO8Kjg8V"
      },
      "execution_count": null,
      "outputs": []
    },
    {
      "cell_type": "code",
      "source": [
        "marry()"
      ],
      "metadata": {
        "colab": {
          "base_uri": "https://localhost:8080/"
        },
        "id": "T9wUz882jshg",
        "outputId": "28aa4597-b688-496c-c8b3-632cda9b4e7d"
      },
      "execution_count": null,
      "outputs": [
        {
          "output_type": "stream",
          "name": "stdout",
          "text": [
            "Rashamika weds Vijay\n"
          ]
        }
      ]
    },
    {
      "cell_type": "code",
      "source": [
        "# 1. Positional arg\n",
        "\n",
        "def marry(b, g):\n",
        "  print(f\"{b} weds {g}\")"
      ],
      "metadata": {
        "id": "2kUHpx0_ju6R"
      },
      "execution_count": null,
      "outputs": []
    },
    {
      "cell_type": "code",
      "source": [
        "marry(\"Rashamika\", \"Vijay\")"
      ],
      "metadata": {
        "colab": {
          "base_uri": "https://localhost:8080/"
        },
        "id": "1ccSS4mdkCNS",
        "outputId": "f940a9f4-6e26-46e0-8394-16fd6e4169ab"
      },
      "execution_count": null,
      "outputs": [
        {
          "output_type": "stream",
          "name": "stdout",
          "text": [
            "Rashamika weds Vijay\n"
          ]
        }
      ]
    },
    {
      "cell_type": "code",
      "source": [
        "marry(10, 20)"
      ],
      "metadata": {
        "colab": {
          "base_uri": "https://localhost:8080/"
        },
        "id": "jrJoTXsjkMKW",
        "outputId": "6231ff93-5cdf-450b-b3d0-e9fae516403f"
      },
      "execution_count": null,
      "outputs": [
        {
          "output_type": "stream",
          "name": "stdout",
          "text": [
            "10 weds 20\n"
          ]
        }
      ]
    },
    {
      "cell_type": "code",
      "source": [
        "marry(10)"
      ],
      "metadata": {
        "colab": {
          "base_uri": "https://localhost:8080/",
          "height": 141
        },
        "id": "NhRp55l8kPs5",
        "outputId": "8757a5e4-e1e2-459e-ccda-ac77e71dcf22"
      },
      "execution_count": null,
      "outputs": [
        {
          "output_type": "error",
          "ename": "TypeError",
          "evalue": "marry() missing 1 required positional argument: 'g'",
          "traceback": [
            "\u001b[0;31m---------------------------------------------------------------------------\u001b[0m",
            "\u001b[0;31mTypeError\u001b[0m                                 Traceback (most recent call last)",
            "\u001b[0;32m<ipython-input-67-58e544a70f62>\u001b[0m in \u001b[0;36m<cell line: 1>\u001b[0;34m()\u001b[0m\n\u001b[0;32m----> 1\u001b[0;31m \u001b[0mmarry\u001b[0m\u001b[0;34m(\u001b[0m\u001b[0;36m10\u001b[0m\u001b[0;34m)\u001b[0m\u001b[0;34m\u001b[0m\u001b[0;34m\u001b[0m\u001b[0m\n\u001b[0m",
            "\u001b[0;31mTypeError\u001b[0m: marry() missing 1 required positional argument: 'g'"
          ]
        }
      ]
    },
    {
      "cell_type": "code",
      "source": [
        "# 2. default arg\n",
        "\n",
        "def intro(name, dream = \"Engineer\"):\n",
        "  print(f\"Name : {name} \\nDream : {dream}\")"
      ],
      "metadata": {
        "id": "fI1k8BSFkWbl"
      },
      "execution_count": null,
      "outputs": []
    },
    {
      "cell_type": "code",
      "source": [
        "intro(\"Dhanraj\")"
      ],
      "metadata": {
        "colab": {
          "base_uri": "https://localhost:8080/"
        },
        "id": "_c1VuiZmk4kY",
        "outputId": "39bf0802-8a2a-453c-a250-e6ee79bc521b"
      },
      "execution_count": null,
      "outputs": [
        {
          "output_type": "stream",
          "name": "stdout",
          "text": [
            "Name : Dhanraj \n",
            "Dream : Engineer\n"
          ]
        }
      ]
    },
    {
      "cell_type": "code",
      "source": [
        "intro(\"Dhanraj\", \"S/W\")"
      ],
      "metadata": {
        "colab": {
          "base_uri": "https://localhost:8080/"
        },
        "id": "KrRwXFiZk83n",
        "outputId": "86a7254e-3b34-4a9f-fcef-d335370e49ae"
      },
      "execution_count": null,
      "outputs": [
        {
          "output_type": "stream",
          "name": "stdout",
          "text": [
            "Name : Dhanraj \n",
            "Dream : S/W\n"
          ]
        }
      ]
    },
    {
      "cell_type": "code",
      "source": [
        "print(\"hello\", end = \" \")"
      ],
      "metadata": {
        "colab": {
          "base_uri": "https://localhost:8080/"
        },
        "id": "wpJpjcuYlA5v",
        "outputId": "a6b390ba-8f50-4e2a-8e37-d60ccfe6c0be"
      },
      "execution_count": null,
      "outputs": [
        {
          "output_type": "stream",
          "name": "stdout",
          "text": [
            "hello\n"
          ]
        }
      ]
    },
    {
      "cell_type": "code",
      "source": [
        "def intro(name, gender):\n",
        "  print(f\"Name : {name} \\n Gender : {gender}\")"
      ],
      "metadata": {
        "id": "CMF2v_6HlDha"
      },
      "execution_count": null,
      "outputs": []
    },
    {
      "cell_type": "code",
      "source": [
        "intro(\"Male\", \"Vijay\")"
      ],
      "metadata": {
        "colab": {
          "base_uri": "https://localhost:8080/"
        },
        "id": "lF9fbLD7lak8",
        "outputId": "5a963eb4-b15c-4489-ee95-8ddaa57bf257"
      },
      "execution_count": null,
      "outputs": [
        {
          "output_type": "stream",
          "name": "stdout",
          "text": [
            "Name : Male \n",
            " Gender : Vijay\n"
          ]
        }
      ]
    },
    {
      "cell_type": "code",
      "source": [
        "# 3. key : value arg\n",
        "def intro(name, gender):\n",
        "  print(f\"Name : {name} \\n Gender : {gender}\")\n"
      ],
      "metadata": {
        "id": "TQ6O0nwCleVd"
      },
      "execution_count": null,
      "outputs": []
    },
    {
      "cell_type": "code",
      "source": [
        "intro(gender = \"Male\", name = \"vijay\")"
      ],
      "metadata": {
        "colab": {
          "base_uri": "https://localhost:8080/"
        },
        "id": "bSn2a6DLlo4t",
        "outputId": "1ab003ee-5bc1-46ee-f92a-5283f8d07371"
      },
      "execution_count": null,
      "outputs": [
        {
          "output_type": "stream",
          "name": "stdout",
          "text": [
            "Name : vijay \n",
            " Gender : Male\n"
          ]
        }
      ]
    },
    {
      "cell_type": "code",
      "source": [
        "# 4. len size arg\n",
        "\n",
        "def hobbies(*hobby):\n",
        "  print(type(hobby))\n"
      ],
      "metadata": {
        "id": "MoR8EArUlxDj"
      },
      "execution_count": null,
      "outputs": []
    },
    {
      "cell_type": "code",
      "source": [
        "hobbies()"
      ],
      "metadata": {
        "colab": {
          "base_uri": "https://localhost:8080/"
        },
        "id": "EZB6TdfamMpJ",
        "outputId": "c9e1f01c-38f7-4c33-a079-d40ec2637b59"
      },
      "execution_count": null,
      "outputs": [
        {
          "output_type": "stream",
          "name": "stdout",
          "text": [
            "<class 'tuple'>\n"
          ]
        }
      ]
    },
    {
      "cell_type": "code",
      "source": [
        "# 4. len size arg\n",
        "\n",
        "def hobbies(*hobby):\n",
        "  print(type(hobby))\n",
        "\n",
        "  for h in hobby:\n",
        "    print(\"-> \", h)"
      ],
      "metadata": {
        "id": "4nTelpaGmQAf"
      },
      "execution_count": null,
      "outputs": []
    },
    {
      "cell_type": "code",
      "source": [
        "hobbies(\"Gaming\")"
      ],
      "metadata": {
        "colab": {
          "base_uri": "https://localhost:8080/"
        },
        "id": "AN1iGF0CmYkA",
        "outputId": "939cfb76-4170-4a68-c314-901cc7eeee0b"
      },
      "execution_count": null,
      "outputs": [
        {
          "output_type": "stream",
          "name": "stdout",
          "text": [
            "<class 'tuple'>\n",
            "->  Gaming\n"
          ]
        }
      ]
    },
    {
      "cell_type": "code",
      "source": [
        "hobbies(\"Gaming\", \"Traveling\")"
      ],
      "metadata": {
        "colab": {
          "base_uri": "https://localhost:8080/"
        },
        "id": "urVi47CPma2q",
        "outputId": "731a95ab-9858-4700-aaea-95f5c541c524"
      },
      "execution_count": null,
      "outputs": [
        {
          "output_type": "stream",
          "name": "stdout",
          "text": [
            "<class 'tuple'>\n",
            "->  Gaming\n",
            "->  Traveling\n"
          ]
        }
      ]
    },
    {
      "cell_type": "code",
      "source": [
        "hobbies(\"Gaming\", \"Traveling\", \"Problem solving\")"
      ],
      "metadata": {
        "colab": {
          "base_uri": "https://localhost:8080/"
        },
        "id": "wLjwkvXUmeO7",
        "outputId": "0737d7eb-551e-4824-b781-d2e5eecf250a"
      },
      "execution_count": null,
      "outputs": [
        {
          "output_type": "stream",
          "name": "stdout",
          "text": [
            "<class 'tuple'>\n",
            "->  Gaming\n",
            "->  Traveling\n",
            "->  Problem solving\n"
          ]
        }
      ]
    },
    {
      "cell_type": "code",
      "source": [
        "def addition(a, b):\n",
        "  ''' addition of two numbers : a : any, b : any -> None/ int'''\n",
        "  print(a + b)\n"
      ],
      "metadata": {
        "id": "uJDZS0ApmhSn"
      },
      "execution_count": null,
      "outputs": []
    },
    {
      "cell_type": "code",
      "source": [
        "addition(10, 20)"
      ],
      "metadata": {
        "colab": {
          "base_uri": "https://localhost:8080/"
        },
        "id": "hBdjuwDVnAG4",
        "outputId": "a991c376-acd2-49b4-8f8d-a846d1c82944"
      },
      "execution_count": null,
      "outputs": [
        {
          "output_type": "stream",
          "name": "stdout",
          "text": [
            "30\n"
          ]
        }
      ]
    },
    {
      "cell_type": "code",
      "source": [
        "print(addition(10, 20))"
      ],
      "metadata": {
        "colab": {
          "base_uri": "https://localhost:8080/"
        },
        "id": "VTW2oSRSno0A",
        "outputId": "c531e596-1c17-4652-8479-152bf59d4fbb"
      },
      "execution_count": null,
      "outputs": [
        {
          "output_type": "stream",
          "name": "stdout",
          "text": [
            "30\n",
            "None\n"
          ]
        }
      ]
    },
    {
      "cell_type": "code",
      "source": [
        "def addition(a, b):\n",
        "  ''' addition of two numbers : a : any, b : any -> None/ int'''\n",
        "  return a + b\n"
      ],
      "metadata": {
        "id": "MaKLRa_gnuVT"
      },
      "execution_count": null,
      "outputs": []
    },
    {
      "cell_type": "code",
      "source": [
        "print(addition(10, 20))"
      ],
      "metadata": {
        "colab": {
          "base_uri": "https://localhost:8080/"
        },
        "id": "nM-TRyoen-NM",
        "outputId": "12ad8bae-050e-438a-d2ae-c28ab88faa52"
      },
      "execution_count": null,
      "outputs": [
        {
          "output_type": "stream",
          "name": "stdout",
          "text": [
            "30\n"
          ]
        }
      ]
    },
    {
      "cell_type": "code",
      "source": [
        "# user provides any numbers\n",
        "# sum\n",
        "\n",
        "def additions(*nums):\n",
        "\n",
        "  if len(nums) < 0:\n",
        "    return \"Provide Values\"\n",
        "  sum = 0\n",
        "  for num in nums:\n",
        "    sum += num\n",
        "  return f\"Sum = {sum}\""
      ],
      "metadata": {
        "id": "nejSJfVBn_WL"
      },
      "execution_count": null,
      "outputs": []
    },
    {
      "cell_type": "code",
      "source": [
        "additions()"
      ],
      "metadata": {
        "colab": {
          "base_uri": "https://localhost:8080/",
          "height": 36
        },
        "id": "LR-prNxwpQCt",
        "outputId": "be0dd530-0228-4a0d-f318-7083ae9d9c2d"
      },
      "execution_count": null,
      "outputs": [
        {
          "output_type": "execute_result",
          "data": {
            "text/plain": [
              "'Sum = 0'"
            ],
            "application/vnd.google.colaboratory.intrinsic+json": {
              "type": "string"
            }
          },
          "metadata": {},
          "execution_count": 99
        }
      ]
    },
    {
      "cell_type": "code",
      "source": [
        "# l1 = [10, 20, 30, 12]\n",
        "# l2 = [20, 40, 60, 13]\n",
        "# output -> [(10+20) / 2 --> floor division -> 15]\n",
        "# [15, 30, 45, 12]\n",
        "\n",
        "def floor_division_list(l1, l2):\n",
        "\n",
        "  for num1 in range(len(l1)):\n",
        "    l1[num1] = ( l1[num1] + l2[num1] ) // 2\n",
        "\n",
        "  return l1\n"
      ],
      "metadata": {
        "id": "y3uaN9l5pSML"
      },
      "execution_count": null,
      "outputs": []
    },
    {
      "cell_type": "code",
      "source": [
        "floor_division_list([10, 20, 30, 12], [20, 40, 60, 13])"
      ],
      "metadata": {
        "colab": {
          "base_uri": "https://localhost:8080/"
        },
        "id": "0UYbqOUssvmm",
        "outputId": "2825d59b-1288-40ac-ac24-f20e443b1e7f"
      },
      "execution_count": null,
      "outputs": [
        {
          "output_type": "execute_result",
          "data": {
            "text/plain": [
              "[15, 30, 45, 12]"
            ]
          },
          "metadata": {},
          "execution_count": 101
        }
      ]
    },
    {
      "cell_type": "code",
      "source": [
        "def user_list():\n",
        "  pass"
      ],
      "metadata": {
        "id": "3_EVtKmus3S6"
      },
      "execution_count": null,
      "outputs": []
    },
    {
      "cell_type": "code",
      "source": [
        "# user provide --> num --> 123\n",
        "# output --> one two three\n",
        "\n",
        "\n",
        "user = input(\"enter Any number : \")\n",
        "no_list = list(user)\n",
        "# print(no_list)\n",
        "d = {1 : \"one\", 2 : \"two\", 3 : \"three\", 4 : \"four\"}\n",
        "\n",
        "for num in no_list:\n",
        "  print(d[int(num)], end = \" \")\n"
      ],
      "metadata": {
        "colab": {
          "base_uri": "https://localhost:8080/"
        },
        "id": "ei5gV8EPtF8S",
        "outputId": "0cd1c812-d5c6-4bee-e449-3127641e4d1b"
      },
      "execution_count": null,
      "outputs": [
        {
          "output_type": "stream",
          "name": "stdout",
          "text": [
            "enter Any number : 2222\n",
            "two two two two "
          ]
        }
      ]
    },
    {
      "cell_type": "code",
      "source": [
        "def number_to_word(number):\n",
        "  no_list = list(number)\n",
        "  # print(no_list)\n",
        "  d = {1 : \"one\", 2 : \"two\", 3 : \"three\", 4 : \"four\"}\n",
        "\n",
        "  for num in no_list:\n",
        "    print(d[int(num)], end = \" \")\n",
        "\n",
        "\n",
        "number_to_word(input(\"enter a number : \"))"
      ],
      "metadata": {
        "id": "A2ZPKupvvF67",
        "colab": {
          "base_uri": "https://localhost:8080/"
        },
        "outputId": "fa9f60f5-ec71-4d2a-b7ec-c5fa7b0a58ff"
      },
      "execution_count": null,
      "outputs": [
        {
          "output_type": "stream",
          "name": "stdout",
          "text": [
            "enter a number : 1234\n",
            "one two three four "
          ]
        }
      ]
    },
    {
      "cell_type": "code",
      "source": [
        "# find target element between list\n",
        "# sample input --> [10, 20, 10, 20, 30, 3, 4, 10, 10]\n",
        "# Expected output -> at index -> 0\n",
        "#  define a function ->  def first_occurrence(list, target)\n",
        "\n",
        "def first_occurrence(list, target):\n",
        "  if len(list) <= 0:\n",
        "    return -1\n",
        "\n",
        "  for num in range(len(list)):\n",
        "    if list[num] == target:\n",
        "      return f\"{list[num]} at index {num}\""
      ],
      "metadata": {
        "id": "qseAm9n6DVT-"
      },
      "execution_count": null,
      "outputs": []
    },
    {
      "cell_type": "code",
      "source": [
        "first_occurrence([10, 20, 10, 20, 30, 3, 4, 10, 10], 10)"
      ],
      "metadata": {
        "colab": {
          "base_uri": "https://localhost:8080/",
          "height": 36
        },
        "id": "7G-4I1d4I59H",
        "outputId": "cf9bcd73-a22f-4ef1-a5e4-806040ccf5ce"
      },
      "execution_count": null,
      "outputs": [
        {
          "output_type": "execute_result",
          "data": {
            "text/plain": [
              "'10 at index 0'"
            ],
            "application/vnd.google.colaboratory.intrinsic+json": {
              "type": "string"
            }
          },
          "metadata": {},
          "execution_count": 9
        }
      ]
    },
    {
      "cell_type": "code",
      "source": [
        "# find max and second max element in list\n",
        "# def max_element(l)\n",
        "\n",
        "def max_element(l):\n",
        "  if len(l) <= 0:\n",
        "    return -1\n",
        "\n",
        "  sort = sorted(set(l))\n",
        "  return f\"Max element -> {sort[-1]} , Second Max -> {sort[-2]}\"\n",
        "\n",
        "\n",
        "# function calling\n",
        "max_element([10, 20, 10, 20, 30, 3, 4, 10, 10])"
      ],
      "metadata": {
        "colab": {
          "base_uri": "https://localhost:8080/",
          "height": 36
        },
        "id": "Ba0bBcjbFGfR",
        "outputId": "1ac77600-55f5-4ceb-c329-baa955d743ee"
      },
      "execution_count": null,
      "outputs": [
        {
          "output_type": "execute_result",
          "data": {
            "text/plain": [
              "'Max element -> 30 , Second Max -> 20'"
            ],
            "application/vnd.google.colaboratory.intrinsic+json": {
              "type": "string"
            }
          },
          "metadata": {},
          "execution_count": 12
        }
      ]
    },
    {
      "cell_type": "code",
      "source": [
        "# count the number without using count function\n",
        "# def count_element(l)\n",
        "\n",
        "def count_element(l, element):\n",
        "  count = 0\n",
        "  for x in l:\n",
        "    if x == element:\n",
        "      count += 1\n",
        "  return f\"count -> {count}\"\n",
        "\n",
        "count_element([10, 10, 20, 30, 40, 10], 10)"
      ],
      "metadata": {
        "colab": {
          "base_uri": "https://localhost:8080/",
          "height": 36
        },
        "id": "Nug1zywMFfKA",
        "outputId": "d96e38fa-9ec1-45f4-8cbb-25e61d83a1aa"
      },
      "execution_count": null,
      "outputs": [
        {
          "output_type": "execute_result",
          "data": {
            "text/plain": [
              "'count -> 3'"
            ],
            "application/vnd.google.colaboratory.intrinsic+json": {
              "type": "string"
            }
          },
          "metadata": {},
          "execution_count": 20
        }
      ]
    },
    {
      "cell_type": "code",
      "source": [
        "# find first non repeated element in list\n",
        "# sample input --> [10, 20, 10, 20, 30, 3, 4, 10, 10]\n",
        "# Expected output -> 30\n",
        "\n",
        "def first_non_repeated(l):\n",
        "  if len(l) <= 0:\n",
        "    return -1\n",
        "  for x in l:\n",
        "    if l.count(x) == 1:\n",
        "      return x\n",
        "\n",
        "first_non_repeated([10, 20, 10, 20, 30, 3, 4, 10, 10])"
      ],
      "metadata": {
        "colab": {
          "base_uri": "https://localhost:8080/"
        },
        "id": "SXcrUjYqGJj_",
        "outputId": "e8d21d44-1b36-4178-e67d-e3d3afaa25d3"
      },
      "execution_count": null,
      "outputs": [
        {
          "output_type": "execute_result",
          "data": {
            "text/plain": [
              "30"
            ]
          },
          "metadata": {},
          "execution_count": 22
        }
      ]
    },
    {
      "cell_type": "code",
      "source": [
        "# find max element in a list\n",
        "# Sample input -> [10, 20, 30, 40]\n",
        "# Expected Output -> 40\n",
        "\n",
        "# Sample Input - > []\n",
        "# Expected Output -> List is empty\n",
        "\n",
        "def find_max(l):\n",
        "\n",
        "  if len(l) <= 0:\n",
        "    return -1\n",
        "  max = 0\n",
        "  for x in l:\n",
        "    if x > max:\n",
        "      max = x\n",
        "  return max\n",
        "\n",
        "find_max([10,20, 30, 0, 90, 7, 300])"
      ],
      "metadata": {
        "colab": {
          "base_uri": "https://localhost:8080/"
        },
        "id": "8jgm2eBmHweL",
        "outputId": "4d9dbd7c-a1d6-48b8-fdde-67c33d096b9f"
      },
      "execution_count": null,
      "outputs": [
        {
          "output_type": "execute_result",
          "data": {
            "text/plain": [
              "300"
            ]
          },
          "metadata": {},
          "execution_count": 23
        }
      ]
    },
    {
      "cell_type": "code",
      "source": [
        "# 9.\tFind the Majority Element:\n",
        "# ○\tQuestion: Find the majority element (element that appears more than n/2 times) in an array.\n",
        "# ○\tLogic: Use Moore's Voting Algorithm to find the majority element.\n",
        "# ○\tSample Input: [3, 3, 4, 2, 4, 4, 2, 4, 4]\n",
        "# ○\tExpected Output: Majority Element: 4\n"
      ],
      "metadata": {
        "id": "e3u3inYULtUB"
      },
      "execution_count": null,
      "outputs": []
    },
    {
      "cell_type": "code",
      "source": [
        "# define a list and add elements from user till first blank saplce is given and\n",
        "# print --> addition of all even numbers\n",
        "# print --> multiplication of all odd numbers\n",
        "# final --> add = even_add + odd_mul\n",
        "\n",
        "def user_list():\n",
        "  l = []\n",
        "  while True:\n",
        "    user = input(\"Enter Number -> \")\n",
        "\n",
        "    if user == \"\":\n",
        "      break\n",
        "    else:\n",
        "      l.append(int(user))\n",
        "  return l\n",
        "\n",
        "def even_odd():\n",
        "  list = user_list()\n",
        "  sum, mul = 0, 1\n",
        "  for num in list:\n",
        "    if num % 2 == 0:\n",
        "      sum += num\n",
        "    else:\n",
        "      mul *= num\n",
        "  return f\"Sum -> {sum},  Mul -> {mul}, Add Sum + Mul -> {sum+mul}\"\n",
        "\n",
        "even_odd()"
      ],
      "metadata": {
        "colab": {
          "base_uri": "https://localhost:8080/",
          "height": 174
        },
        "id": "CNayDvBaLw74",
        "outputId": "30aaa907-9b93-4e1e-c6c4-f6e33fa75e62"
      },
      "execution_count": null,
      "outputs": [
        {
          "name": "stdout",
          "output_type": "stream",
          "text": [
            "Enter Number -> 10\n",
            "Enter Number -> 1\n",
            "Enter Number -> 2\n",
            "Enter Number -> 3\n",
            "Enter Number -> 4\n",
            "Enter Number -> 5\n",
            "Enter Number -> 6\n",
            "Enter Number -> \n"
          ]
        },
        {
          "output_type": "execute_result",
          "data": {
            "text/plain": [
              "'Sum -> 22,  Mul -> 15, Add Sum + Mul -> 37'"
            ],
            "application/vnd.google.colaboratory.intrinsic+json": {
              "type": "string"
            }
          },
          "metadata": {},
          "execution_count": 26
        }
      ]
    },
    {
      "cell_type": "code",
      "source": [
        "# 7.\tCalculate the Sum of List Elements:\n",
        "# ○\tQuestion: Write a function to calculate the sum of all elements in a list.\n",
        "# ○\tLogic: Use a loop to iterate through the list and accumulate the sum.\n",
        "# ○\tSample Input: [1, 2, 3, 4, 5]\n",
        "# ○\tExpected Output: 15\n",
        "\n",
        "\n",
        "def sum(l):\n",
        "  if len(l) <= 0:\n",
        "    return -1\n",
        "  sum = 0\n",
        "  for x in l:\n",
        "    sum += x\n",
        "  return sum\n",
        "\n",
        "sum([1, 2, 3, 4, 5])"
      ],
      "metadata": {
        "colab": {
          "base_uri": "https://localhost:8080/"
        },
        "id": "gZREDQNpNwX9",
        "outputId": "6cfbf437-2ef7-4d69-da8e-b4be210994df"
      },
      "execution_count": null,
      "outputs": [
        {
          "output_type": "execute_result",
          "data": {
            "text/plain": [
              "15"
            ]
          },
          "metadata": {},
          "execution_count": 28
        }
      ]
    },
    {
      "cell_type": "code",
      "source": [
        "# 11.\tAdd an Element at the Beginning of a List:\n",
        "# ○\tQuestion: Write a function to add an element at the beginning of a list.\n",
        "# ○\tLogic: Use list slicing or the insert() method.\n",
        "# ○\tSample Input: List: [2, 3, 4] and Element: 1\n",
        "# ○\tExpected Output: List: [1, 2, 3, 4]\n"
      ],
      "metadata": {
        "id": "ssqthPm8NxAp"
      },
      "execution_count": null,
      "outputs": []
    },
    {
      "cell_type": "code",
      "source": [
        "# 12.\tRemove an Element from a List by Value:\n",
        "# ○\tQuestion: Write a function to remove a specific element from a list by its value.\n",
        "# ○\tLogic: Use list methods like remove() or list comprehensions.\n",
        "# ○\tSample Input: List: [1, 2, 3, 4, 5] and Element: 3\n",
        "# ○\tExpected Output: List: [1, 2, 4, 5]\n"
      ],
      "metadata": {
        "id": "gmFimYQBN6yh"
      },
      "execution_count": null,
      "outputs": []
    },
    {
      "cell_type": "code",
      "source": [
        "14.\tCount Negative and Positive Numbers in a List:\n",
        "○\tQuestion: Write a function to count the number of negative and positive numbers in a list.\n",
        "○\tLogic: Use a loop to iterate through the list and keep two counters.\n",
        "○\tSample Input: [3, -2, 7, -1, 0, 5, -4]\n",
        "○\tExpected Output: Positive: 4, Negative: 3\n"
      ],
      "metadata": {
        "id": "OJ1og0WSN-eB"
      },
      "execution_count": null,
      "outputs": []
    }
  ]
}