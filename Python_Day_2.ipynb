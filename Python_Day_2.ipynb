{
  "nbformat": 4,
  "nbformat_minor": 0,
  "metadata": {
    "colab": {
      "provenance": []
    },
    "kernelspec": {
      "name": "python3",
      "display_name": "Python 3"
    },
    "language_info": {
      "name": "python"
    }
  },
  "cells": [
    {
      "cell_type": "code",
      "execution_count": null,
      "metadata": {
        "id": "lzbIHEOJrd3l"
      },
      "outputs": [],
      "source": [
        "# python DS\n",
        "# 1. list\n",
        "# 2. tuple\n",
        "# 3. set\n",
        "# 4. dict"
      ]
    },
    {
      "cell_type": "code",
      "source": [
        "List -->\n",
        "\n",
        "-> []\n",
        "-> we can store hetrogeneous\n",
        "-> indexing\n",
        "-> we can store duplicate\n",
        "-> order preserver\n",
        "-> we can use slicing\n",
        "-> mutable\n",
        "-> growable in nature"
      ],
      "metadata": {
        "id": "qOTegxMTzL57"
      },
      "execution_count": null,
      "outputs": []
    },
    {
      "cell_type": "code",
      "source": [
        "l = []\n",
        "type(l)"
      ],
      "metadata": {
        "colab": {
          "base_uri": "https://localhost:8080/"
        },
        "id": "cSd_l1coz_TA",
        "outputId": "7ab40db2-5bdb-4357-f4da-f2fda827b1a5"
      },
      "execution_count": null,
      "outputs": [
        {
          "output_type": "execute_result",
          "data": {
            "text/plain": [
              "list"
            ]
          },
          "metadata": {},
          "execution_count": 2
        }
      ]
    },
    {
      "cell_type": "code",
      "source": [
        "l = [10, 10.0, True, \"String\", 10+0j, [10]]\n",
        "l"
      ],
      "metadata": {
        "colab": {
          "base_uri": "https://localhost:8080/"
        },
        "id": "f-y2lq5d0K34",
        "outputId": "08ec7d95-b42e-4e32-87ac-b286eec7ab48"
      },
      "execution_count": null,
      "outputs": [
        {
          "output_type": "execute_result",
          "data": {
            "text/plain": [
              "[10, 10.0, True, 'String', (10+0j), [10]]"
            ]
          },
          "metadata": {},
          "execution_count": 3
        }
      ]
    },
    {
      "cell_type": "code",
      "source": [
        "l = [10, 10, 10, 10, 10]\n",
        "l"
      ],
      "metadata": {
        "colab": {
          "base_uri": "https://localhost:8080/"
        },
        "id": "jul42R6O0R6r",
        "outputId": "06295a35-dfe4-41ca-c9e5-387a9fc503ba"
      },
      "execution_count": null,
      "outputs": [
        {
          "output_type": "execute_result",
          "data": {
            "text/plain": [
              "[10, 10, 10, 10, 10]"
            ]
          },
          "metadata": {},
          "execution_count": 4
        }
      ]
    },
    {
      "cell_type": "code",
      "source": [
        "l = [10, 20, 30, 40, 50]\n",
        "l[]"
      ],
      "metadata": {
        "colab": {
          "base_uri": "https://localhost:8080/"
        },
        "id": "Zfv-QHjX0YA4",
        "outputId": "5ef1db14-cac2-49a7-8328-975851221e88"
      },
      "execution_count": null,
      "outputs": [
        {
          "output_type": "execute_result",
          "data": {
            "text/plain": [
              "40"
            ]
          },
          "metadata": {},
          "execution_count": 6
        }
      ]
    },
    {
      "cell_type": "code",
      "source": [
        "slicing --> [start:condition: increment/decrement]\n",
        "\n",
        "start --> 0 --> included  --> optional\n",
        "condition --> len(var) --> excluded --> optional\n",
        "steps --> +1 --> --> optional"
      ],
      "metadata": {
        "id": "YOuUOUX00dTG"
      },
      "execution_count": null,
      "outputs": []
    },
    {
      "cell_type": "code",
      "source": [
        "l = [10, 20, 30, 40, 50]\n",
        "l[:3:]"
      ],
      "metadata": {
        "colab": {
          "base_uri": "https://localhost:8080/"
        },
        "id": "P2AAFnJ11EgN",
        "outputId": "2a9e7c31-ad7d-48d5-86f3-253a4f122c4a"
      },
      "execution_count": null,
      "outputs": [
        {
          "output_type": "execute_result",
          "data": {
            "text/plain": [
              "[10, 20, 30]"
            ]
          },
          "metadata": {},
          "execution_count": 11
        }
      ]
    },
    {
      "cell_type": "code",
      "source": [
        "l = [10, 20, 30, 40, 50]\n",
        "id(l)"
      ],
      "metadata": {
        "colab": {
          "base_uri": "https://localhost:8080/"
        },
        "id": "WJ3UUej31GqJ",
        "outputId": "f10b28d5-732a-4f56-acb0-c8deb2de5579"
      },
      "execution_count": null,
      "outputs": [
        {
          "output_type": "execute_result",
          "data": {
            "text/plain": [
              "136458588136832"
            ]
          },
          "metadata": {},
          "execution_count": 12
        }
      ]
    },
    {
      "cell_type": "code",
      "source": [
        "l.append(60)\n",
        "print(l)\n",
        "print(id(l))"
      ],
      "metadata": {
        "colab": {
          "base_uri": "https://localhost:8080/"
        },
        "id": "yA83bUBH1dh4",
        "outputId": "f82ee808-09f0-4e2d-b4fc-d490d3ba09ad"
      },
      "execution_count": null,
      "outputs": [
        {
          "output_type": "stream",
          "name": "stdout",
          "text": [
            "[10, 20, 30, 40, 50, 60]\n",
            "136458588136832\n"
          ]
        }
      ]
    },
    {
      "cell_type": "code",
      "source": [
        "append()\n",
        "insert()\n",
        "pop\n",
        "min\n",
        "max\n",
        "sort\n",
        "sorted\n",
        "index"
      ],
      "metadata": {
        "id": "bU2dyLPh1kcq"
      },
      "execution_count": null,
      "outputs": []
    },
    {
      "cell_type": "code",
      "source": [
        "l = [10]\n",
        "l.append(20)\n",
        "l"
      ],
      "metadata": {
        "colab": {
          "base_uri": "https://localhost:8080/"
        },
        "id": "AXzLbvK42f2W",
        "outputId": "79b32c6c-71ba-4518-d201-4ec0e6adbc06"
      },
      "execution_count": null,
      "outputs": [
        {
          "output_type": "execute_result",
          "data": {
            "text/plain": [
              "[10, 20]"
            ]
          },
          "metadata": {},
          "execution_count": 23
        }
      ]
    },
    {
      "cell_type": "code",
      "source": [
        "l.insert(1, 0)\n",
        "l"
      ],
      "metadata": {
        "colab": {
          "base_uri": "https://localhost:8080/"
        },
        "id": "TNlz-9qc2kxX",
        "outputId": "1d184998-6640-4056-81ff-1844d6d5f26f"
      },
      "execution_count": null,
      "outputs": [
        {
          "output_type": "execute_result",
          "data": {
            "text/plain": [
              "[10, 0, 20]"
            ]
          },
          "metadata": {},
          "execution_count": 24
        }
      ]
    },
    {
      "cell_type": "code",
      "source": [
        "l.pop()\n",
        "l"
      ],
      "metadata": {
        "colab": {
          "base_uri": "https://localhost:8080/"
        },
        "id": "YyAHea2j228Q",
        "outputId": "02050343-27dc-4438-dc68-5222c0857b71"
      },
      "execution_count": null,
      "outputs": [
        {
          "output_type": "execute_result",
          "data": {
            "text/plain": [
              "[10, 0]"
            ]
          },
          "metadata": {},
          "execution_count": 25
        }
      ]
    },
    {
      "cell_type": "code",
      "source": [
        "l.remove(10)"
      ],
      "metadata": {
        "id": "sHs7jWoi3IPJ"
      },
      "execution_count": null,
      "outputs": []
    },
    {
      "cell_type": "code",
      "source": [
        "l"
      ],
      "metadata": {
        "colab": {
          "base_uri": "https://localhost:8080/"
        },
        "id": "VQ5HSOj13aQg",
        "outputId": "26a59e65-417d-4e42-e16a-21e9c0e2ea8b"
      },
      "execution_count": null,
      "outputs": [
        {
          "output_type": "execute_result",
          "data": {
            "text/plain": [
              "[0]"
            ]
          },
          "metadata": {},
          "execution_count": 27
        }
      ]
    },
    {
      "cell_type": "code",
      "source": [
        "l = [10, 20]\n",
        "l1 = l   # shallow copy"
      ],
      "metadata": {
        "id": "7AL5ogze4EXY"
      },
      "execution_count": null,
      "outputs": []
    },
    {
      "cell_type": "code",
      "source": [
        "l1\n"
      ],
      "metadata": {
        "colab": {
          "base_uri": "https://localhost:8080/"
        },
        "id": "VeGn9y-04PF8",
        "outputId": "0337ee73-3021-4e41-b483-56fb784385e2"
      },
      "execution_count": null,
      "outputs": [
        {
          "output_type": "execute_result",
          "data": {
            "text/plain": [
              "[10, 20]"
            ]
          },
          "metadata": {},
          "execution_count": 29
        }
      ]
    },
    {
      "cell_type": "code",
      "source": [
        "l[0] = 100\n",
        "l"
      ],
      "metadata": {
        "colab": {
          "base_uri": "https://localhost:8080/"
        },
        "id": "fVYk64OV4RRa",
        "outputId": "ce2655f7-ef3c-4efb-fc3e-b40cdd6c21c7"
      },
      "execution_count": null,
      "outputs": [
        {
          "output_type": "execute_result",
          "data": {
            "text/plain": [
              "[100, 20]"
            ]
          },
          "metadata": {},
          "execution_count": 30
        }
      ]
    },
    {
      "cell_type": "code",
      "source": [
        "l1"
      ],
      "metadata": {
        "colab": {
          "base_uri": "https://localhost:8080/"
        },
        "id": "oUnF_e0B4amt",
        "outputId": "6855f9fb-4d07-440d-b01a-85e2b04bd2b3"
      },
      "execution_count": null,
      "outputs": [
        {
          "output_type": "execute_result",
          "data": {
            "text/plain": [
              "[100, 20]"
            ]
          },
          "metadata": {},
          "execution_count": 31
        }
      ]
    },
    {
      "cell_type": "code",
      "source": [
        "l1 = [10, 20, 30]\n",
        "l2 = l1.copy()   # deep copy\n",
        "\n",
        "print(l1, l2)"
      ],
      "metadata": {
        "colab": {
          "base_uri": "https://localhost:8080/"
        },
        "id": "P7J7dpLa4coi",
        "outputId": "c2ad3149-d0fc-4269-84a7-7d8d0a03b8e2"
      },
      "execution_count": null,
      "outputs": [
        {
          "output_type": "stream",
          "name": "stdout",
          "text": [
            "[10, 20, 30] [10, 20, 30]\n"
          ]
        }
      ]
    },
    {
      "cell_type": "code",
      "source": [
        "l1[0] = 1000\n",
        "l1"
      ],
      "metadata": {
        "colab": {
          "base_uri": "https://localhost:8080/"
        },
        "id": "W6deT-b95Uqq",
        "outputId": "2b485a76-b445-4c48-c6e5-8e53308ab04a"
      },
      "execution_count": null,
      "outputs": [
        {
          "output_type": "execute_result",
          "data": {
            "text/plain": [
              "[1000, 20, 30]"
            ]
          },
          "metadata": {},
          "execution_count": 33
        }
      ]
    },
    {
      "cell_type": "code",
      "source": [
        "l2"
      ],
      "metadata": {
        "colab": {
          "base_uri": "https://localhost:8080/"
        },
        "id": "aQaRy78o5YKJ",
        "outputId": "4429236f-f53e-46ab-9ea9-6912dbdc86cb"
      },
      "execution_count": null,
      "outputs": [
        {
          "output_type": "execute_result",
          "data": {
            "text/plain": [
              "[10, 20, 30]"
            ]
          },
          "metadata": {},
          "execution_count": 34
        }
      ]
    },
    {
      "cell_type": "code",
      "source": [
        "l = [2, 0, 1, 5, 2, 4]\n",
        "l"
      ],
      "metadata": {
        "colab": {
          "base_uri": "https://localhost:8080/"
        },
        "id": "oh-aRB9-5Zka",
        "outputId": "e17761bd-4d0b-40f2-cd09-e0037aae3ade"
      },
      "execution_count": null,
      "outputs": [
        {
          "output_type": "execute_result",
          "data": {
            "text/plain": [
              "[2, 0, 1, 5, 2, 4]"
            ]
          },
          "metadata": {},
          "execution_count": 35
        }
      ]
    },
    {
      "cell_type": "code",
      "source": [
        "l.sort()  # --> within sort"
      ],
      "metadata": {
        "id": "r-NfWhWK5pkB"
      },
      "execution_count": null,
      "outputs": []
    },
    {
      "cell_type": "code",
      "source": [
        "l"
      ],
      "metadata": {
        "colab": {
          "base_uri": "https://localhost:8080/"
        },
        "id": "GnePUXZ65uBO",
        "outputId": "a4ac7092-2394-4a23-da72-2ce59b53ae73"
      },
      "execution_count": null,
      "outputs": [
        {
          "output_type": "execute_result",
          "data": {
            "text/plain": [
              "[0, 1, 2, 2, 4, 5]"
            ]
          },
          "metadata": {},
          "execution_count": 37
        }
      ]
    },
    {
      "cell_type": "code",
      "source": [
        "l = [2, 0, 1, 5, 2, 4]\n",
        "l"
      ],
      "metadata": {
        "colab": {
          "base_uri": "https://localhost:8080/"
        },
        "id": "XnyDMRnT5vjS",
        "outputId": "9a30c679-6233-426b-8410-4472c537c491"
      },
      "execution_count": null,
      "outputs": [
        {
          "output_type": "execute_result",
          "data": {
            "text/plain": [
              "[2, 0, 1, 5, 2, 4]"
            ]
          },
          "metadata": {},
          "execution_count": 38
        }
      ]
    },
    {
      "cell_type": "code",
      "source": [
        "sorted(l)   # sort elemnts and print"
      ],
      "metadata": {
        "colab": {
          "base_uri": "https://localhost:8080/"
        },
        "id": "XaHQqP8Q5zpp",
        "outputId": "c0f94942-04ee-4742-ffb2-9a983622f5b8"
      },
      "execution_count": null,
      "outputs": [
        {
          "output_type": "execute_result",
          "data": {
            "text/plain": [
              "[0, 1, 2, 2, 4, 5]"
            ]
          },
          "metadata": {},
          "execution_count": 39
        }
      ]
    },
    {
      "cell_type": "code",
      "source": [
        "pass\n",
        "break\n",
        "continue"
      ],
      "metadata": {
        "id": "UUuIINY09Ml1"
      },
      "execution_count": null,
      "outputs": []
    },
    {
      "cell_type": "code",
      "source": [
        "if 10> 0:\n",
        "  pass"
      ],
      "metadata": {
        "id": "u8g5a9dk95S4"
      },
      "execution_count": null,
      "outputs": []
    },
    {
      "cell_type": "code",
      "source": [
        "a = [10, 20, 30, 7, 5]\n",
        "\n",
        "for x in a:\n",
        "  if x % 2 == 0:\n",
        "    print(x)\n",
        "    continue\n",
        "  else:\n",
        "    break"
      ],
      "metadata": {
        "colab": {
          "base_uri": "https://localhost:8080/"
        },
        "id": "3kC11Wfq-Ftc",
        "outputId": "4b7c1976-0968-48ea-bc1c-a866962dc60c"
      },
      "execution_count": null,
      "outputs": [
        {
          "output_type": "stream",
          "name": "stdout",
          "text": [
            "10\n",
            "20\n",
            "30\n"
          ]
        }
      ]
    },
    {
      "cell_type": "code",
      "source": [
        "# declare a empty list\n",
        "# insert elements till first blank in given and print list\n",
        "\n",
        "l = []\n",
        "\n",
        "while True:\n",
        "\n",
        "  user_data = input(\"Enter NUmber : \")\n",
        "\n",
        "  if user_data == '':\n",
        "    break\n",
        "  else:\n",
        "    l.append(user_data)\n",
        "\n",
        "print(l)"
      ],
      "metadata": {
        "colab": {
          "base_uri": "https://localhost:8080/"
        },
        "id": "hknb-5dD51PH",
        "outputId": "090a4613-8b6b-446f-c555-8ed2e17464db"
      },
      "execution_count": null,
      "outputs": [
        {
          "output_type": "stream",
          "name": "stdout",
          "text": [
            "Enter NUmber : 10\n",
            "Enter NUmber : 20\n",
            "Enter NUmber : 30\n",
            "Enter NUmber : \n",
            "['10', '20', '30']\n"
          ]
        }
      ]
    },
    {
      "cell_type": "code",
      "source": [
        "# declare a empty list\n",
        "# insert elements till first blank in given and\n",
        "# print list\n",
        "# min, max, sum\n",
        "\n",
        "l = []\n",
        "while True:\n",
        "  user_data = input(\"Enter number : \")\n",
        "\n",
        "  if user_data == '':\n",
        "    break\n",
        "  else:\n",
        "    l.append(int(user_data))\n",
        "\n",
        "print(\"list -> \", l)\n",
        "print(\"Min value -> \", min(l))\n",
        "print(\"Max value -> \", max(l))\n",
        "\n",
        "sum = 0\n",
        "for x in l:\n",
        "  sum += x\n",
        "\n",
        "print(\"Sum -> \", sum)\n",
        "\n",
        "print(\"Sum function -> \", sum(l))"
      ],
      "metadata": {
        "colab": {
          "base_uri": "https://localhost:8080/"
        },
        "id": "tgQBWX4a8tLv",
        "outputId": "bcbe2939-1f8e-40bd-f4e0-060c419cc7a6"
      },
      "execution_count": null,
      "outputs": [
        {
          "output_type": "stream",
          "name": "stdout",
          "text": [
            "Enter number : 10\n",
            "Enter number : 20\n",
            "Enter number : 30\n",
            "Enter number : 40\n",
            "Enter number : 50\n",
            "Enter number : \n",
            "list ->  [10, 20, 30, 40, 50]\n",
            "Min value ->  10\n",
            "Max value ->  50\n",
            "Sum ->  150\n"
          ]
        }
      ]
    },
    {
      "cell_type": "code",
      "source": [
        "l = [10, 20, 30, 40]\n",
        "\n",
        "for x in l:  # --> when we need to work on value\n",
        "  print(x)"
      ],
      "metadata": {
        "colab": {
          "base_uri": "https://localhost:8080/"
        },
        "id": "NTDdWPDyCJcP",
        "outputId": "6e141cf9-5f73-4a4d-e0f6-4a7c7a69ad51"
      },
      "execution_count": null,
      "outputs": [
        {
          "output_type": "stream",
          "name": "stdout",
          "text": [
            "10\n",
            "20\n",
            "30\n",
            "40\n"
          ]
        }
      ]
    },
    {
      "cell_type": "code",
      "source": [
        "l = [10, 20, 30, 40]\n",
        "# len()\n",
        "for x in range(len(l)):  # --> when we need to work on value\n",
        "  print(\"at index \", x, \"->\" , l[x])"
      ],
      "metadata": {
        "colab": {
          "base_uri": "https://localhost:8080/"
        },
        "id": "EE-SsPmCCgzC",
        "outputId": "acb08411-a8cb-4ba0-e632-2b81985a9973"
      },
      "execution_count": null,
      "outputs": [
        {
          "output_type": "stream",
          "name": "stdout",
          "text": [
            "at index  0 -> 10\n",
            "at index  1 -> 20\n",
            "at index  2 -> 30\n",
            "at index  3 -> 40\n"
          ]
        }
      ]
    },
    {
      "cell_type": "code",
      "source": [
        "# declare a empty list\n",
        "# insert elements till first blank in given and\n",
        "# print list\n",
        "#  print avg\n",
        "# find avg\n",
        "# avg > element = elemt + 10\n",
        "# avg < element = elemt - 5\n",
        "# print --> list\n",
        "\n",
        "l = []\n",
        "while True:\n",
        "  user_data = input(\"Enter number : \")\n",
        "\n",
        "  if user_data == '':\n",
        "    break\n",
        "  else:\n",
        "    l.append(int(user_data))\n",
        "\n",
        "print(l)\n",
        "avg = sum(l) // len(l)\n",
        "print(\"Avg -> \", avg)\n",
        "\n",
        "\n",
        "for num in range(len(l)):\n",
        "\n",
        "  if avg > l[num]:\n",
        "    l[num] += 10\n",
        "  else:\n",
        "    l[num] -= 5\n",
        "\n",
        "print(\"Updated list --> \", l)"
      ],
      "metadata": {
        "colab": {
          "base_uri": "https://localhost:8080/"
        },
        "id": "8ywzs03jBezU",
        "outputId": "3ad99b99-eeb9-42ad-ef3e-25f8ab607221"
      },
      "execution_count": null,
      "outputs": [
        {
          "output_type": "stream",
          "name": "stdout",
          "text": [
            "Enter number : 10\n",
            "Enter number : 20\n",
            "Enter number : 30\n",
            "Enter number : 1\n",
            "Enter number : 9\n",
            "Enter number : 0\n",
            "Enter number : 3\n",
            "Enter number : \n",
            "[10, 20, 30, 1, 9, 0, 3]\n",
            "Avg ->  10\n",
            "Updated list -->  [5, 15, 25, 11, 19, 10, 13]\n"
          ]
        }
      ]
    },
    {
      "cell_type": "code",
      "source": [
        "# declare a list and enter elements --> element can be duplicates\n",
        "# print two list --> multiples_of_five,  multiples_of_seven\n",
        "\n",
        "# l = [10,20, 14, 70, 90, 700, 35]\n",
        "\n",
        "# Expected output --> 5 -> [10, 20, 70, 90, 700, 35]\n",
        "#                     7 -> [14, 70, 700, 35]\n",
        "\n",
        "l = [10,20, 14, 70, 90, 700, 35]\n",
        "multiples_of_five = []\n",
        "multiples_of_seven = []\n",
        "\n",
        "for x in l:\n",
        "  if x % 5 == 0:\n",
        "    multiples_of_five.append(x)\n",
        "  if x % 7 == 0:\n",
        "    multiples_of_seven.append(x)\n",
        "\n",
        "print(multiples_of_five)\n",
        "print(multiples_of_seven)\n"
      ],
      "metadata": {
        "colab": {
          "base_uri": "https://localhost:8080/"
        },
        "id": "VK7LfVbwFe4n",
        "outputId": "9b3c7836-2bba-4d7a-83ef-dd6a02a61ae1"
      },
      "execution_count": null,
      "outputs": [
        {
          "output_type": "stream",
          "name": "stdout",
          "text": [
            "[10, 20, 70, 90, 700, 35]\n",
            "[14, 70, 700, 35]\n"
          ]
        }
      ]
    },
    {
      "cell_type": "code",
      "source": [
        "# 1, 3, 7 , 15, 31, 63, 127\n",
        "#  process --> add all previous elements + position = element\n",
        "l = [1, 2, 3, 4, 5, 6, 7, 8]\n",
        "\n",
        "for num in range(len(l)):\n",
        "  data = sum(l[:num])\n",
        "  l[num] = l[num] + data\n",
        "\n",
        "print(l)"
      ],
      "metadata": {
        "colab": {
          "base_uri": "https://localhost:8080/"
        },
        "id": "Z6qQz84pJETK",
        "outputId": "8892df01-696e-4e2e-ba69-11dea1611e6f"
      },
      "execution_count": null,
      "outputs": [
        {
          "output_type": "stream",
          "name": "stdout",
          "text": [
            "[1, 3, 7, 15, 31, 63, 127, 255]\n"
          ]
        }
      ]
    },
    {
      "cell_type": "code",
      "source": [
        "l = [1, 2, 3, 4, 5]\n",
        "'''\n",
        "[5, 1, 2, 3, 4]\n",
        "[4, 5, 1, 2, 3]\n",
        "[3, 4, 5, 1, 2]\n",
        "[2, 3, 4, 5, 1]\n",
        "[1, 2,3, 4, 5]\n",
        "'''\n",
        "\n",
        "for x in l:\n",
        "  out = l.pop()\n",
        "  l.insert(0, out)\n",
        "  print(l)\n",
        "print(\"-------------------\")\n",
        "\n",
        "for x in l:\n",
        "  out = l.pop(0)\n",
        "  l.append(out)\n",
        "  print(l)\n"
      ],
      "metadata": {
        "colab": {
          "base_uri": "https://localhost:8080/"
        },
        "id": "KFRseOzQNJEd",
        "outputId": "a528e658-0997-4571-c98e-6c91ebaa43f8"
      },
      "execution_count": null,
      "outputs": [
        {
          "output_type": "stream",
          "name": "stdout",
          "text": [
            "[5, 1, 2, 3, 4]\n",
            "[4, 5, 1, 2, 3]\n",
            "[3, 4, 5, 1, 2]\n",
            "[2, 3, 4, 5, 1]\n",
            "[1, 2, 3, 4, 5]\n",
            "-------------------\n",
            "[2, 3, 4, 5, 1]\n",
            "[3, 4, 5, 1, 2]\n",
            "[4, 5, 1, 2, 3]\n",
            "[5, 1, 2, 3, 4]\n",
            "[1, 2, 3, 4, 5]\n"
          ]
        }
      ]
    },
    {
      "cell_type": "code",
      "source": [
        "# tuple\n",
        "\n",
        "-> ()\n",
        "-> hetrogeneous\n",
        "-> indexing concept is applicable\n",
        "-> we can use slicing\n",
        "-> insertion order preserved\n",
        "-> Immutable\n",
        "-> not growable in nature"
      ],
      "metadata": {
        "id": "b0xPsNN6PoQD"
      },
      "execution_count": null,
      "outputs": []
    },
    {
      "cell_type": "code",
      "source": [
        "t = ()\n",
        "type(t)"
      ],
      "metadata": {
        "colab": {
          "base_uri": "https://localhost:8080/"
        },
        "id": "_zLPrZuil70j",
        "outputId": "63effacc-97c0-479b-98b0-0e07eba0f7ac"
      },
      "execution_count": null,
      "outputs": [
        {
          "output_type": "execute_result",
          "data": {
            "text/plain": [
              "tuple"
            ]
          },
          "metadata": {},
          "execution_count": 2
        }
      ]
    },
    {
      "cell_type": "code",
      "source": [
        "t = (True, 10, 10.0, 10+0j, \"string\", [122])\n",
        "type(t)\n"
      ],
      "metadata": {
        "colab": {
          "base_uri": "https://localhost:8080/"
        },
        "id": "Yc8Pee3amAKP",
        "outputId": "62af7668-db15-4ba8-8b08-d5c1b82abafb"
      },
      "execution_count": null,
      "outputs": [
        {
          "output_type": "execute_result",
          "data": {
            "text/plain": [
              "tuple"
            ]
          },
          "metadata": {},
          "execution_count": 5
        }
      ]
    },
    {
      "cell_type": "code",
      "source": [
        "t"
      ],
      "metadata": {
        "colab": {
          "base_uri": "https://localhost:8080/"
        },
        "id": "yS_mT3LjmJ2V",
        "outputId": "baa8ddcf-a82a-4740-9f8c-c7ceaed897de"
      },
      "execution_count": null,
      "outputs": [
        {
          "output_type": "execute_result",
          "data": {
            "text/plain": [
              "(True, 10, 10.0, (10+0j), 'string', [122])"
            ]
          },
          "metadata": {},
          "execution_count": 6
        }
      ]
    },
    {
      "cell_type": "code",
      "source": [
        "print(t[::-1])\n"
      ],
      "metadata": {
        "colab": {
          "base_uri": "https://localhost:8080/"
        },
        "id": "eR6QuEWvmKON",
        "outputId": "a6fedc72-26b8-478d-c2bf-c4d4f6c2a224"
      },
      "execution_count": null,
      "outputs": [
        {
          "output_type": "stream",
          "name": "stdout",
          "text": [
            "([122], 'string', (10+0j), 10.0, 10, True)\n"
          ]
        }
      ]
    },
    {
      "cell_type": "code",
      "source": [
        "t = (10, 20)\n",
        "print(type(t), \"-> \", id(t))"
      ],
      "metadata": {
        "colab": {
          "base_uri": "https://localhost:8080/"
        },
        "id": "SOM0oYkHmQP7",
        "outputId": "e2b8e8a8-efc0-48c4-8d8a-5f60a0552106"
      },
      "execution_count": null,
      "outputs": [
        {
          "output_type": "stream",
          "name": "stdout",
          "text": [
            "<class 'tuple'> ->  134876458176000\n"
          ]
        }
      ]
    },
    {
      "cell_type": "code",
      "source": [
        "t = (10, 20, 30)\n",
        "print(type(t), \"-> \", id(t))"
      ],
      "metadata": {
        "colab": {
          "base_uri": "https://localhost:8080/"
        },
        "id": "K9DTFJiKmlSF",
        "outputId": "75e7035c-0eec-496f-a724-8f22483b36fd"
      },
      "execution_count": null,
      "outputs": [
        {
          "output_type": "stream",
          "name": "stdout",
          "text": [
            "<class 'tuple'> ->  134876822352000\n"
          ]
        }
      ]
    },
    {
      "cell_type": "code",
      "source": [
        "t = (10, 20, 30, 40)\n",
        "for x in range(len(t)):\n",
        "  print(\"at index : \", x,  \" -> \", t[x])"
      ],
      "metadata": {
        "colab": {
          "base_uri": "https://localhost:8080/"
        },
        "id": "RKOVpXLAnRmP",
        "outputId": "dc19f182-f9c3-4b61-a116-8e0fad104291"
      },
      "execution_count": null,
      "outputs": [
        {
          "output_type": "stream",
          "name": "stdout",
          "text": [
            "at index :  0  ->  10\n",
            "at index :  1  ->  20\n",
            "at index :  2  ->  30\n",
            "at index :  3  ->  40\n"
          ]
        }
      ]
    },
    {
      "cell_type": "code",
      "source": [
        "min(t)"
      ],
      "metadata": {
        "colab": {
          "base_uri": "https://localhost:8080/"
        },
        "id": "n24mdo-ynmYm",
        "outputId": "56f89b56-3683-46d1-fc45-4445ab854dd1"
      },
      "execution_count": null,
      "outputs": [
        {
          "output_type": "execute_result",
          "data": {
            "text/plain": [
              "10"
            ]
          },
          "metadata": {},
          "execution_count": 13
        }
      ]
    },
    {
      "cell_type": "code",
      "source": [
        "max(t)"
      ],
      "metadata": {
        "colab": {
          "base_uri": "https://localhost:8080/"
        },
        "id": "ghhicpPynrxn",
        "outputId": "3d2ad4e9-6467-446f-b122-594208014207"
      },
      "execution_count": null,
      "outputs": [
        {
          "output_type": "execute_result",
          "data": {
            "text/plain": [
              "40"
            ]
          },
          "metadata": {},
          "execution_count": 14
        }
      ]
    },
    {
      "cell_type": "code",
      "source": [
        "sum(t)"
      ],
      "metadata": {
        "colab": {
          "base_uri": "https://localhost:8080/"
        },
        "id": "PFSujWPdns4S",
        "outputId": "14c916a7-a686-4f86-acd9-0476cb3dfc5f"
      },
      "execution_count": null,
      "outputs": [
        {
          "output_type": "execute_result",
          "data": {
            "text/plain": [
              "100"
            ]
          },
          "metadata": {},
          "execution_count": 15
        }
      ]
    },
    {
      "cell_type": "code",
      "source": [
        "t = (10, 20)\n",
        "print(type(t), id(t))"
      ],
      "metadata": {
        "colab": {
          "base_uri": "https://localhost:8080/"
        },
        "id": "1SHSj5eVnuBw",
        "outputId": "a1d83657-3ad0-4366-9115-4655aabb7aa2"
      },
      "execution_count": null,
      "outputs": [
        {
          "output_type": "stream",
          "name": "stdout",
          "text": [
            "<class 'tuple'> 134876458179776\n"
          ]
        }
      ]
    },
    {
      "cell_type": "code",
      "source": [
        "t = (10, 20, 30)\n",
        "print(type(t), id(t))"
      ],
      "metadata": {
        "colab": {
          "base_uri": "https://localhost:8080/"
        },
        "id": "IYQ_xLGEn8MC",
        "outputId": "aab9cdf6-8e92-48e0-fbe7-b709c180b9ae"
      },
      "execution_count": null,
      "outputs": [
        {
          "output_type": "stream",
          "name": "stdout",
          "text": [
            "<class 'tuple'> 134876456534080\n"
          ]
        }
      ]
    },
    {
      "cell_type": "code",
      "source": [
        "t = ([10], )\n",
        "print(type(t), id(t))"
      ],
      "metadata": {
        "colab": {
          "base_uri": "https://localhost:8080/"
        },
        "id": "9eBPT82In9U0",
        "outputId": "2fe0e8d4-fd2c-4011-eb53-61a88ddca426"
      },
      "execution_count": null,
      "outputs": [
        {
          "output_type": "stream",
          "name": "stdout",
          "text": [
            "<class 'tuple'> 134876459333184\n"
          ]
        }
      ]
    },
    {
      "cell_type": "code",
      "source": [
        "t[0].append(20)\n",
        "print(type(t), id(t))"
      ],
      "metadata": {
        "colab": {
          "base_uri": "https://localhost:8080/"
        },
        "id": "QrOdaAILpSir",
        "outputId": "6f93ca07-5265-4f02-fa5b-1e59aac6d160"
      },
      "execution_count": null,
      "outputs": [
        {
          "output_type": "stream",
          "name": "stdout",
          "text": [
            "<class 'tuple'> 134876459333184\n"
          ]
        }
      ]
    },
    {
      "cell_type": "code",
      "source": [
        "t"
      ],
      "metadata": {
        "colab": {
          "base_uri": "https://localhost:8080/"
        },
        "id": "NXUZknqspaM2",
        "outputId": "71272da6-53a0-47cf-a1f6-d41381bdeb7e"
      },
      "execution_count": null,
      "outputs": [
        {
          "output_type": "execute_result",
          "data": {
            "text/plain": [
              "([10, 20],)"
            ]
          },
          "metadata": {},
          "execution_count": 20
        }
      ]
    },
    {
      "cell_type": "code",
      "source": [
        "# Set Data Structure\n",
        "\n",
        "-> {}\n",
        "-> empty set - set()\n",
        "-> indexing concept is not applicable\n",
        "-> we can't use slicing\n",
        "-> insertion order not preserved\n",
        "->"
      ],
      "metadata": {
        "id": "K27KoqoVpbVM"
      },
      "execution_count": null,
      "outputs": []
    },
    {
      "cell_type": "code",
      "source": [
        "l = set()\n",
        "type(l)"
      ],
      "metadata": {
        "colab": {
          "base_uri": "https://localhost:8080/"
        },
        "id": "sPuG2Kvwpw0N",
        "outputId": "571f1670-dff9-49f6-fd36-30323dcca711"
      },
      "execution_count": null,
      "outputs": [
        {
          "output_type": "execute_result",
          "data": {
            "text/plain": [
              "set"
            ]
          },
          "metadata": {},
          "execution_count": 25
        }
      ]
    },
    {
      "cell_type": "code",
      "source": [
        "s = {True, 10, 10.0, 10+0j, \"String\",10, 10}\n",
        "s"
      ],
      "metadata": {
        "colab": {
          "base_uri": "https://localhost:8080/"
        },
        "id": "Yr9AWyLwpzYG",
        "outputId": "bc995585-3510-4cde-c1fb-2ff4276cbb86"
      },
      "execution_count": null,
      "outputs": [
        {
          "output_type": "execute_result",
          "data": {
            "text/plain": [
              "{10, 'String', True}"
            ]
          },
          "metadata": {},
          "execution_count": 27
        }
      ]
    },
    {
      "cell_type": "code",
      "source": [
        "id(s)"
      ],
      "metadata": {
        "colab": {
          "base_uri": "https://localhost:8080/"
        },
        "id": "aalY2Qj8qZn_",
        "outputId": "eb6086b4-e351-42a6-fa61-555067903df4"
      },
      "execution_count": null,
      "outputs": [
        {
          "output_type": "execute_result",
          "data": {
            "text/plain": [
              "134876456944128"
            ]
          },
          "metadata": {},
          "execution_count": 29
        }
      ]
    },
    {
      "cell_type": "code",
      "source": [
        "s.add(1000)\n",
        "id(s)"
      ],
      "metadata": {
        "colab": {
          "base_uri": "https://localhost:8080/"
        },
        "id": "H21037Buqsr8",
        "outputId": "0753019b-32e4-4fc0-8958-8615e3cf346c"
      },
      "execution_count": null,
      "outputs": [
        {
          "output_type": "execute_result",
          "data": {
            "text/plain": [
              "134876456944128"
            ]
          },
          "metadata": {},
          "execution_count": 30
        }
      ]
    },
    {
      "cell_type": "code",
      "source": [
        "s = {10, 10, 20, 30, 10, 10}\n",
        "s"
      ],
      "metadata": {
        "colab": {
          "base_uri": "https://localhost:8080/"
        },
        "id": "C4NCb1h5rPor",
        "outputId": "a7cfd903-34a4-4723-e3ba-5839d0d1aa4a"
      },
      "execution_count": null,
      "outputs": [
        {
          "output_type": "execute_result",
          "data": {
            "text/plain": [
              "{10, 20, 30}"
            ]
          },
          "metadata": {},
          "execution_count": 33
        }
      ]
    },
    {
      "cell_type": "code",
      "source": [
        "s[::]\n",
        "s"
      ],
      "metadata": {
        "colab": {
          "base_uri": "https://localhost:8080/",
          "height": 158
        },
        "id": "FsFioiUWqza8",
        "outputId": "3ed97361-ad28-4dc1-9aef-355cf2410ea1"
      },
      "execution_count": null,
      "outputs": [
        {
          "output_type": "error",
          "ename": "TypeError",
          "evalue": "'set' object is not subscriptable",
          "traceback": [
            "\u001b[0;31m---------------------------------------------------------------------------\u001b[0m",
            "\u001b[0;31mTypeError\u001b[0m                                 Traceback (most recent call last)",
            "\u001b[0;32m<ipython-input-34-6db0d41c9702>\u001b[0m in \u001b[0;36m<cell line: 1>\u001b[0;34m()\u001b[0m\n\u001b[0;32m----> 1\u001b[0;31m \u001b[0ms\u001b[0m\u001b[0;34m[\u001b[0m\u001b[0;34m:\u001b[0m\u001b[0;34m:\u001b[0m\u001b[0;34m]\u001b[0m\u001b[0;34m\u001b[0m\u001b[0;34m\u001b[0m\u001b[0m\n\u001b[0m\u001b[1;32m      2\u001b[0m \u001b[0ms\u001b[0m\u001b[0;34m\u001b[0m\u001b[0;34m\u001b[0m\u001b[0m\n",
            "\u001b[0;31mTypeError\u001b[0m: 'set' object is not subscriptable"
          ]
        }
      ]
    },
    {
      "cell_type": "code",
      "source": [
        "# define a empty set and add element till first blank is given\n",
        "# print --> set, max, min, sum, avg\n",
        "\n",
        "s = set()\n",
        "\n",
        "while True:\n",
        "  user_data = input(\"Enter Number : \")\n",
        "\n",
        "  if user_data == '':\n",
        "    break\n",
        "  else:\n",
        "    s.add(int(user_data))\n",
        "\n",
        "print(\"set - >\", s)\n",
        "print(\"Min -> \", min(s), \" Max -> \", max(s), \" Sum -> \", sum(s), \" Avg - > \", sum(s)/len(s))\n"
      ],
      "metadata": {
        "colab": {
          "base_uri": "https://localhost:8080/"
        },
        "id": "xVANEbW3rgyy",
        "outputId": "517aa0c6-3f4e-4805-8012-ad5dee151e43"
      },
      "execution_count": null,
      "outputs": [
        {
          "output_type": "stream",
          "name": "stdout",
          "text": [
            "Enter Number : 10\n",
            "Enter Number : 20\n",
            "Enter Number : 30\n",
            "Enter Number : 40\n",
            "Enter Number : 50\n",
            "Enter Number : \n",
            "set - > {40, 10, 50, 20, 30}\n",
            "Min ->  10  Max ->  50  Sum ->  150  Avg - >  30.0\n"
          ]
        }
      ]
    },
    {
      "cell_type": "code",
      "source": [
        "l = [10, 20, 30, 50, 10]\n",
        "set(l)"
      ],
      "metadata": {
        "colab": {
          "base_uri": "https://localhost:8080/"
        },
        "id": "8Kss8J_VuK_a",
        "outputId": "8ac2775f-9d81-4e35-9534-b2cb6de901be"
      },
      "execution_count": null,
      "outputs": [
        {
          "output_type": "execute_result",
          "data": {
            "text/plain": [
              "{10, 20, 30, 50}"
            ]
          },
          "metadata": {},
          "execution_count": 38
        }
      ]
    },
    {
      "cell_type": "code",
      "source": [
        "l = [10, 10, 10, 10]\n",
        "l.count(10)"
      ],
      "metadata": {
        "colab": {
          "base_uri": "https://localhost:8080/"
        },
        "id": "l2CGIvkRwMj-",
        "outputId": "cff43b4d-2aa5-4478-bbc2-7c8c297e8fe6"
      },
      "execution_count": null,
      "outputs": [
        {
          "output_type": "execute_result",
          "data": {
            "text/plain": [
              "4"
            ]
          },
          "metadata": {},
          "execution_count": 39
        }
      ]
    },
    {
      "cell_type": "code",
      "source": [
        "\n",
        "# define a list l = [10, 10, 10, 20, 30, 40, 40, 30, 20, 0]\n",
        "# element should be duplicates\n",
        "# Expected output -->\n",
        "'''\n",
        "0  : 1\n",
        "10 : 3\n",
        "20 : 2\n",
        "30 : 2\n",
        "40 : 2\n",
        "'''\n",
        "\n",
        "l = [10, 10, 10, 20, 30, 40, 40, 30, 20, 0]\n",
        "uni_elements = sorted(set(l))\n",
        "\n",
        "for num in uni_elements:\n",
        "  print(num, \" : \", l.count(num))"
      ],
      "metadata": {
        "colab": {
          "base_uri": "https://localhost:8080/"
        },
        "id": "MgRJJLG1tUyu",
        "outputId": "9d2393f1-5a37-49ab-e0c1-fa025511608c"
      },
      "execution_count": null,
      "outputs": [
        {
          "output_type": "stream",
          "name": "stdout",
          "text": [
            "0  :  1\n",
            "10  :  3\n",
            "20  :  2\n",
            "30  :  2\n",
            "40  :  2\n"
          ]
        }
      ]
    },
    {
      "cell_type": "code",
      "source": [
        "# define a list that carries duplicate elements\n",
        "# find second max element\n",
        "\n",
        "l = [10, 10, 10, 20, 30, 40, 40, 30, 20, 0, 20, 0, 10]\n",
        "\n",
        "l = sorted(set(l))\n",
        "print(l[-2])"
      ],
      "metadata": {
        "colab": {
          "base_uri": "https://localhost:8080/"
        },
        "id": "Sv2RseJGxQbZ",
        "outputId": "68d5fa4c-a31c-4b8d-9242-c5dc434225f0"
      },
      "execution_count": null,
      "outputs": [
        {
          "output_type": "stream",
          "name": "stdout",
          "text": [
            "30\n"
          ]
        }
      ]
    },
    {
      "cell_type": "code",
      "source": [
        "# first two minimum elements\n",
        "\n",
        "l = [10, 10, 10, 20, 30, 40, 40, 30, 20, 0, 20, 0, 10]\n",
        "\n",
        "l = sorted(set(l))\n",
        "print(l[0], l[1])"
      ],
      "metadata": {
        "colab": {
          "base_uri": "https://localhost:8080/"
        },
        "id": "oWF08OKcxfuo",
        "outputId": "4cafa005-3eee-45c5-8093-66d210e6f5e0"
      },
      "execution_count": null,
      "outputs": [
        {
          "output_type": "stream",
          "name": "stdout",
          "text": [
            "0 10\n"
          ]
        }
      ]
    },
    {
      "cell_type": "code",
      "source": [
        "s = {10, 10, 20, 30, 40, 50}\n",
        "s"
      ],
      "metadata": {
        "colab": {
          "base_uri": "https://localhost:8080/"
        },
        "id": "YgZmSZhtz9-A",
        "outputId": "e64f32c0-ed09-4ace-9aba-4628591ade6e"
      },
      "execution_count": null,
      "outputs": [
        {
          "output_type": "execute_result",
          "data": {
            "text/plain": [
              "{10, 20, 30, 40, 50}"
            ]
          },
          "metadata": {},
          "execution_count": 51
        }
      ]
    },
    {
      "cell_type": "code",
      "source": [
        "s.remove(10)"
      ],
      "metadata": {
        "colab": {
          "base_uri": "https://localhost:8080/",
          "height": 141
        },
        "id": "pIAcEARA0BZW",
        "outputId": "7aa400f9-f7ab-4e2c-d709-5900ce0c628d"
      },
      "execution_count": null,
      "outputs": [
        {
          "output_type": "error",
          "ename": "KeyError",
          "evalue": "10",
          "traceback": [
            "\u001b[0;31m---------------------------------------------------------------------------\u001b[0m",
            "\u001b[0;31mKeyError\u001b[0m                                  Traceback (most recent call last)",
            "\u001b[0;32m<ipython-input-54-23b5f1bb77c8>\u001b[0m in \u001b[0;36m<cell line: 1>\u001b[0;34m()\u001b[0m\n\u001b[0;32m----> 1\u001b[0;31m \u001b[0ms\u001b[0m\u001b[0;34m.\u001b[0m\u001b[0mremove\u001b[0m\u001b[0;34m(\u001b[0m\u001b[0;36m10\u001b[0m\u001b[0;34m)\u001b[0m\u001b[0;34m\u001b[0m\u001b[0;34m\u001b[0m\u001b[0m\n\u001b[0m",
            "\u001b[0;31mKeyError\u001b[0m: 10"
          ]
        }
      ]
    },
    {
      "cell_type": "code",
      "source": [
        "s = {10, 10, 20, 30, 40, 50}\n",
        "s.discard(10)"
      ],
      "metadata": {
        "id": "qhCzVGJU0HjG"
      },
      "execution_count": null,
      "outputs": []
    },
    {
      "cell_type": "code",
      "source": [
        "s"
      ],
      "metadata": {
        "colab": {
          "base_uri": "https://localhost:8080/"
        },
        "id": "eI0SVaDZ0Im5",
        "outputId": "4cc60315-0ee2-407f-a9ae-7fba297bf53e"
      },
      "execution_count": null,
      "outputs": [
        {
          "output_type": "execute_result",
          "data": {
            "text/plain": [
              "{20, 30, 40, 50}"
            ]
          },
          "metadata": {},
          "execution_count": 56
        }
      ]
    },
    {
      "cell_type": "code",
      "source": [
        "s = {10, 10, 20, 30, 40, 50}\n",
        "s.pop()\n",
        "s"
      ],
      "metadata": {
        "colab": {
          "base_uri": "https://localhost:8080/"
        },
        "id": "MgBkFQxf0dZe",
        "outputId": "43965335-bcd6-4403-ec8c-e87640080748"
      },
      "execution_count": null,
      "outputs": [
        {
          "output_type": "execute_result",
          "data": {
            "text/plain": [
              "{10, 20, 30, 40}"
            ]
          },
          "metadata": {},
          "execution_count": 62
        }
      ]
    },
    {
      "cell_type": "code",
      "source": [
        "s.pop()\n",
        "s"
      ],
      "metadata": {
        "colab": {
          "base_uri": "https://localhost:8080/"
        },
        "id": "2MDFA-K_0mms",
        "outputId": "7819024e-d42e-40f7-b7ee-8c1ebe536314"
      },
      "execution_count": null,
      "outputs": [
        {
          "output_type": "execute_result",
          "data": {
            "text/plain": [
              "{10, 30}"
            ]
          },
          "metadata": {},
          "execution_count": 64
        }
      ]
    },
    {
      "cell_type": "code",
      "source": [],
      "metadata": {
        "id": "hu5ZwW110pte"
      },
      "execution_count": null,
      "outputs": []
    },
    {
      "cell_type": "code",
      "source": [
        "# 4. Dict\n",
        "\n",
        "-> key : value --> pair"
      ],
      "metadata": {
        "id": "v0c4eOZc1FTP"
      },
      "execution_count": null,
      "outputs": []
    },
    {
      "cell_type": "code",
      "source": [
        "d = {}\n",
        "type(d)"
      ],
      "metadata": {
        "colab": {
          "base_uri": "https://localhost:8080/"
        },
        "id": "q8r-pKpn1kAr",
        "outputId": "4fe9853c-aa70-48ac-be32-32b13444c3c0"
      },
      "execution_count": null,
      "outputs": [
        {
          "output_type": "execute_result",
          "data": {
            "text/plain": [
              "dict"
            ]
          },
          "metadata": {},
          "execution_count": 66
        }
      ]
    },
    {
      "cell_type": "code",
      "source": [
        "d = {1 : \"Python\", 1 : \"Java\"}\n",
        "d"
      ],
      "metadata": {
        "colab": {
          "base_uri": "https://localhost:8080/"
        },
        "id": "lm0Bo69p1mZk",
        "outputId": "37f16cde-6202-47f9-f26a-e1583a00e43d"
      },
      "execution_count": null,
      "outputs": [
        {
          "output_type": "execute_result",
          "data": {
            "text/plain": [
              "{1: 'Java'}"
            ]
          },
          "metadata": {},
          "execution_count": 67
        }
      ]
    },
    {
      "cell_type": "code",
      "source": [
        "d = {1 : \"One\", 2 : \"Two\", 3 : \"Three\"}\n",
        "d.items()"
      ],
      "metadata": {
        "colab": {
          "base_uri": "https://localhost:8080/"
        },
        "id": "ciNVevw42Q0m",
        "outputId": "8a2e1721-90d4-4d30-8f8b-903409746fd3"
      },
      "execution_count": null,
      "outputs": [
        {
          "output_type": "execute_result",
          "data": {
            "text/plain": [
              "dict_items([(1, 'One'), (2, 'Two'), (3, 'Three')])"
            ]
          },
          "metadata": {},
          "execution_count": 69
        }
      ]
    },
    {
      "cell_type": "code",
      "source": [
        "d.keys()"
      ],
      "metadata": {
        "colab": {
          "base_uri": "https://localhost:8080/"
        },
        "id": "FJcyw0GR2lOs",
        "outputId": "d2fc2354-a49c-415c-c47c-70c126bcbc9e"
      },
      "execution_count": null,
      "outputs": [
        {
          "output_type": "execute_result",
          "data": {
            "text/plain": [
              "dict_keys([1, 2, 3])"
            ]
          },
          "metadata": {},
          "execution_count": 70
        }
      ]
    },
    {
      "cell_type": "code",
      "source": [
        "d.values()"
      ],
      "metadata": {
        "colab": {
          "base_uri": "https://localhost:8080/"
        },
        "id": "8Sw7Qp6k3Hfe",
        "outputId": "9de98883-3311-475f-f548-082f8979e6f8"
      },
      "execution_count": null,
      "outputs": [
        {
          "output_type": "execute_result",
          "data": {
            "text/plain": [
              "dict_values(['One', 'Two', 'Three'])"
            ]
          },
          "metadata": {},
          "execution_count": 71
        }
      ]
    },
    {
      "cell_type": "code",
      "source": [
        "# define a list l = [10, 10, 10, 20, 30, 40, 40, 30, 20, 0]\n",
        "# element should be duplicates\n",
        "# generate a dict for key and values\n",
        "# where keys -> data value -> frequency\n",
        "# Expected output -->\n",
        "'''\n",
        "{\n",
        "0  : 1\n",
        "10 : 3\n",
        "20 : 2\n",
        "30 : 2\n",
        "40 : 2 }\n",
        "'''\n",
        "\n",
        "l = [10, 10, 10, 20, 30, 40, 40, 30, 20, 0]\n",
        "uni_list = sorted(set(l))\n",
        "\n",
        "d = {}\n",
        "\n",
        "for x in uni_list:\n",
        "  d[x] = l.count(x)\n",
        "print(d)"
      ],
      "metadata": {
        "colab": {
          "base_uri": "https://localhost:8080/"
        },
        "id": "c3Dimk6i3LKj",
        "outputId": "7242dcbe-4435-41c8-e884-64b340401c8b"
      },
      "execution_count": null,
      "outputs": [
        {
          "output_type": "stream",
          "name": "stdout",
          "text": [
            "{0: 1, 10: 3, 20: 2, 30: 2, 40: 2}\n"
          ]
        }
      ]
    },
    {
      "cell_type": "code",
      "source": [
        "d = {1 : \"One\", 2 : \"Two\", 3 : \"Three\", 4 : \"Four\", 5 : \"Five\"}\n",
        "'''\n",
        "key : 1 , value : One ..... '''\n",
        "\n",
        "\n",
        "for key, value in d.items():\n",
        "  print(\"Key -> \", key, \" Values -> \", value)"
      ],
      "metadata": {
        "colab": {
          "base_uri": "https://localhost:8080/"
        },
        "id": "H_a_anyQ4-KD",
        "outputId": "1ccc7773-d7ef-4090-d01b-c2a7b92e8154"
      },
      "execution_count": null,
      "outputs": [
        {
          "output_type": "stream",
          "name": "stdout",
          "text": [
            "Key ->  1  Values ->  One\n",
            "Key ->  2  Values ->  Two\n",
            "Key ->  3  Values ->  Three\n",
            "Key ->  4  Values ->  Four\n",
            "Key ->  5  Values ->  Five\n"
          ]
        }
      ]
    },
    {
      "cell_type": "code",
      "source": [
        "# Project -> Restorent menu card and billing system\n",
        "# Menu Driven\n",
        "# selling products -->\n",
        "# Tea - 12\n",
        "# Coffee - 25\n",
        "# Water - 20\n",
        "# Ban Maska - 25\n",
        "# once order is done print tatal payable amount\n",
        "\n",
        "\n",
        "import time\n",
        "\n",
        "tea = coffee = water = banmaska = 0\n",
        "while True:  # yes_no == \"Y\"\n",
        "\n",
        "  yes_no = input(\"Do You Want To Order (Y/N) : /n \")\n",
        "\n",
        "  if yes_no == \"Y\":\n",
        "\n",
        "    user_data = int(input(\" 1. Tea \\t 12 \\n 2. Coffee \\t 25 \\n 3. Water \\t 20 \\n 4. Ban Maska \\t 25 \\n 0. Exit \\n\"))\n",
        "\n",
        "    if user_data == 1:\n",
        "      print(\"Tea Selected...\")\n",
        "      tea += 1\n",
        "      time.sleep(5)\n",
        "    elif user_data == 2:\n",
        "      print(\"Coffee Selected...\")\n",
        "      coffee += 1\n",
        "      time.sleep(5)\n",
        "    elif user_data == 3:\n",
        "      print(\"Water Selected...\")\n",
        "      water += 1\n",
        "      time.sleep(5)\n",
        "    elif user_data == 4:\n",
        "      print(\"Ban Maska Selected...\")\n",
        "      banmaska += 1\n",
        "      time.sleep(5)\n",
        "    elif user_data == 0:\n",
        "      time.sleep(5)\n",
        "      print(\"Thanks For Ordering...\")\n",
        "      break\n",
        "    else:\n",
        "      print(\"Bhai Dekh ke...\")\n",
        "\n",
        "\n",
        "  elif yes_no == \"N\":\n",
        "    print(\"Thanks For Visiting...\")\n",
        "\n",
        "  else:\n",
        "    print(\"\")\n",
        "\n",
        "total_bill = (tea * 12) + (coffee * 25) + (water * 20) + (banmaska * 25)\n",
        "print(\"Total Payable Amount : \\t \", total_bill)"
      ],
      "metadata": {
        "colab": {
          "base_uri": "https://localhost:8080/"
        },
        "id": "7KE2hMPx52gu",
        "outputId": "bce64b37-11d7-48f0-82f5-cc83faf671c4"
      },
      "execution_count": null,
      "outputs": [
        {
          "output_type": "stream",
          "name": "stdout",
          "text": [
            "Do You Want To Order (Y/N) : /n Y\n",
            " 1. Tea \t 12 \n",
            " 2. Coffee \t 25 \n",
            " 3. Water \t 20 \n",
            " 4. Ban Maska \t 25 \n",
            " 0. Exit \n",
            "1\n",
            "Tea Selected...\n",
            "Do You Want To Order (Y/N) : /n Y\n",
            " 1. Tea \t 12 \n",
            " 2. Coffee \t 25 \n",
            " 3. Water \t 20 \n",
            " 4. Ban Maska \t 25 \n",
            " 0. Exit \n",
            "2\n",
            "Coffee Selected...\n",
            "Do You Want To Order (Y/N) : /n Y\n",
            " 1. Tea \t 12 \n",
            " 2. Coffee \t 25 \n",
            " 3. Water \t 20 \n",
            " 4. Ban Maska \t 25 \n",
            " 0. Exit \n",
            "3\n",
            "Water Selected...\n",
            "Do You Want To Order (Y/N) : /n Y\n",
            " 1. Tea \t 12 \n",
            " 2. Coffee \t 25 \n",
            " 3. Water \t 20 \n",
            " 4. Ban Maska \t 25 \n",
            " 0. Exit \n",
            "0\n",
            "Thanks For Ordering...\n",
            "Total Payable Amount : \t  57\n"
          ]
        }
      ]
    },
    {
      "cell_type": "code",
      "source": [
        "Bill No : 100000000101\n",
        "------------------------------\n",
        "Tea     12    5\n",
        "Water   20    1\n",
        "------------------------------\n",
        "Total Amount : 80"
      ],
      "metadata": {
        "id": "2fcnNiYm8iDr"
      },
      "execution_count": null,
      "outputs": []
    }
  ]
}