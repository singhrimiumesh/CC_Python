{
  "nbformat": 4,
  "nbformat_minor": 0,
  "metadata": {
    "colab": {
      "provenance": []
    },
    "kernelspec": {
      "name": "python3",
      "display_name": "Python 3"
    },
    "language_info": {
      "name": "python"
    }
  },
  "cells": [
    {
      "cell_type": "code",
      "execution_count": null,
      "metadata": {
        "colab": {
          "base_uri": "https://localhost:8080/"
        },
        "id": "uu2VhbgbrKaH",
        "outputId": "98bcfa41-e0c3-4fc9-d8e1-684078c029fb"
      },
      "outputs": [
        {
          "output_type": "stream",
          "name": "stdout",
          "text": [
            "Hello\n"
          ]
        }
      ],
      "source": [
        "print('Hello')"
      ]
    },
    {
      "cell_type": "code",
      "source": [
        "print(\"Hello\")"
      ],
      "metadata": {
        "colab": {
          "base_uri": "https://localhost:8080/"
        },
        "id": "bvm0CpW1xG2f",
        "outputId": "11c47409-f7e2-42d5-811c-dd503f3eab15"
      },
      "execution_count": null,
      "outputs": [
        {
          "output_type": "stream",
          "name": "stdout",
          "text": [
            "Hello\n"
          ]
        }
      ]
    },
    {
      "cell_type": "code",
      "source": [
        "print('''Hello''')"
      ],
      "metadata": {
        "colab": {
          "base_uri": "https://localhost:8080/"
        },
        "id": "r_zJaoRQxI2T",
        "outputId": "30f1b0c4-eef8-4555-853f-1be532a70d8d"
      },
      "execution_count": null,
      "outputs": [
        {
          "output_type": "stream",
          "name": "stdout",
          "text": [
            "Hello\n"
          ]
        }
      ]
    },
    {
      "cell_type": "code",
      "source": [
        "print(\"\"\"Hello\"\"\")"
      ],
      "metadata": {
        "colab": {
          "base_uri": "https://localhost:8080/"
        },
        "id": "zr5mtTvAxKff",
        "outputId": "06eb5de3-6acc-4c7b-ab07-a5327c9a4805"
      },
      "execution_count": null,
      "outputs": [
        {
          "output_type": "stream",
          "name": "stdout",
          "text": [
            "Hello\n"
          ]
        }
      ]
    },
    {
      "cell_type": "code",
      "source": [
        "\"\"\"Hello World \"\"\""
      ],
      "metadata": {
        "colab": {
          "base_uri": "https://localhost:8080/",
          "height": 36
        },
        "id": "-f0kq8U7xMAd",
        "outputId": "3a597679-d5a4-49c9-a496-076449a406cb"
      },
      "execution_count": null,
      "outputs": [
        {
          "output_type": "execute_result",
          "data": {
            "text/plain": [
              "'Hello World '"
            ],
            "application/vnd.google.colaboratory.intrinsic+json": {
              "type": "string"
            }
          },
          "metadata": {},
          "execution_count": 5
        }
      ]
    },
    {
      "cell_type": "code",
      "source": [
        "'''Hello'''\n",
        "\n",
        "print(__doc__)"
      ],
      "metadata": {
        "colab": {
          "base_uri": "https://localhost:8080/"
        },
        "id": "zETRD1frxa2Z",
        "outputId": "c1ce114c-8f90-45e5-bed6-203190288b93"
      },
      "execution_count": null,
      "outputs": [
        {
          "output_type": "stream",
          "name": "stdout",
          "text": [
            "Hello\n"
          ]
        }
      ]
    },
    {
      "cell_type": "code",
      "source": [
        "# 'Hello', \"World ,\"\n",
        "\n",
        "print(''' 'Hello', \"World ,\" ''')"
      ],
      "metadata": {
        "colab": {
          "base_uri": "https://localhost:8080/"
        },
        "id": "hSmq9llQxtcr",
        "outputId": "376b28da-ed22-492e-fa1f-e1939653c158"
      },
      "execution_count": null,
      "outputs": [
        {
          "output_type": "stream",
          "name": "stdout",
          "text": [
            " 'Hello', \"World ,\" \n"
          ]
        }
      ]
    },
    {
      "cell_type": "code",
      "source": [
        "print(\"\"\" 'Hello', \"World ,\"  \"\"\")"
      ],
      "metadata": {
        "colab": {
          "base_uri": "https://localhost:8080/"
        },
        "id": "syHo14vVzkkC",
        "outputId": "7341e8a4-36c7-49d1-dd93-a28e5b661c01"
      },
      "execution_count": null,
      "outputs": [
        {
          "output_type": "stream",
          "name": "stdout",
          "text": [
            " 'Hello', \"World ,\"  \n"
          ]
        }
      ]
    },
    {
      "cell_type": "code",
      "source": [
        "print(' 'Hello', \"World ,\"  ')"
      ],
      "metadata": {
        "colab": {
          "base_uri": "https://localhost:8080/",
          "height": 106
        },
        "id": "-Ju1KefSztVS",
        "outputId": "7862014a-c0da-4e75-923f-b67b4863f0d5"
      },
      "execution_count": null,
      "outputs": [
        {
          "output_type": "error",
          "ename": "SyntaxError",
          "evalue": "invalid syntax. Perhaps you forgot a comma? (<ipython-input-1-b0cfd3ac126e>, line 1)",
          "traceback": [
            "\u001b[0;36m  File \u001b[0;32m\"<ipython-input-1-b0cfd3ac126e>\"\u001b[0;36m, line \u001b[0;32m1\u001b[0m\n\u001b[0;31m    print(' 'Hello', \"World ,\"  ')\u001b[0m\n\u001b[0m          ^\u001b[0m\n\u001b[0;31mSyntaxError\u001b[0m\u001b[0;31m:\u001b[0m invalid syntax. Perhaps you forgot a comma?\n"
          ]
        }
      ]
    },
    {
      "cell_type": "code",
      "source": [
        "# int , float, complex number, boolean\n",
        "\n",
        "a = 10\n",
        "print(type(a), a)\n",
        "print(id(a))"
      ],
      "metadata": {
        "colab": {
          "base_uri": "https://localhost:8080/"
        },
        "id": "zv4OBcWZz0Pz",
        "outputId": "6ce6470e-d318-4c43-94e7-67d2b7b64d5b"
      },
      "execution_count": null,
      "outputs": [
        {
          "output_type": "stream",
          "name": "stdout",
          "text": [
            "<class 'int'> 10\n",
            "135707540275728\n"
          ]
        }
      ]
    },
    {
      "cell_type": "code",
      "source": [
        "a = 10\n",
        "a = 20\n",
        "print(a)"
      ],
      "metadata": {
        "colab": {
          "base_uri": "https://localhost:8080/"
        },
        "id": "NF5GTM_z0ZK9",
        "outputId": "4d08f84a-a88f-4719-d3f5-0d9bff12b0c1"
      },
      "execution_count": null,
      "outputs": [
        {
          "output_type": "stream",
          "name": "stdout",
          "text": [
            "20\n"
          ]
        }
      ]
    },
    {
      "cell_type": "code",
      "source": [
        "a = 10\n",
        "print(id(a), a)\n",
        "a = 20\n",
        "print(id(a), a)\n",
        "\n",
        "print(a, id(a))"
      ],
      "metadata": {
        "colab": {
          "base_uri": "https://localhost:8080/"
        },
        "id": "tZ9r3Kn81nSn",
        "outputId": "c87fa946-6574-480c-c15a-007098c5b56e"
      },
      "execution_count": null,
      "outputs": [
        {
          "output_type": "stream",
          "name": "stdout",
          "text": [
            "135707540275728 10\n",
            "135707540276048 20\n",
            "20 135707540276048\n"
          ]
        }
      ]
    },
    {
      "cell_type": "code",
      "source": [
        "a = 10\n",
        "b= 10\n",
        "c = 10\n",
        "print(a, b, c)"
      ],
      "metadata": {
        "colab": {
          "base_uri": "https://localhost:8080/"
        },
        "id": "fsgeUlrJ1u20",
        "outputId": "38bbbb6a-8fc0-4d68-bfa1-180749fa68da"
      },
      "execution_count": null,
      "outputs": [
        {
          "output_type": "stream",
          "name": "stdout",
          "text": [
            "10 10 10\n"
          ]
        }
      ]
    },
    {
      "cell_type": "code",
      "source": [
        "a = b = c = 10\n",
        "print(a, b, c)\n"
      ],
      "metadata": {
        "colab": {
          "base_uri": "https://localhost:8080/"
        },
        "id": "9MVYAKNZ18Rx",
        "outputId": "ebc2c2a8-d068-497b-a62e-eb9d0a5eb238"
      },
      "execution_count": null,
      "outputs": [
        {
          "output_type": "stream",
          "name": "stdout",
          "text": [
            "10 10 10\n"
          ]
        }
      ]
    },
    {
      "cell_type": "code",
      "source": [
        "a, b, c = 10, 10, 10\n",
        "print(a, b, c)"
      ],
      "metadata": {
        "id": "gBHehxYP2KSv"
      },
      "execution_count": null,
      "outputs": []
    },
    {
      "cell_type": "code",
      "source": [
        "a, b, c = 10, 20, 30\n",
        "print(a, b, c)"
      ],
      "metadata": {
        "colab": {
          "base_uri": "https://localhost:8080/"
        },
        "id": "yxfjkEwR2ELn",
        "outputId": "66dae92a-940d-4536-f093-98770a92acb8"
      },
      "execution_count": null,
      "outputs": [
        {
          "output_type": "stream",
          "name": "stdout",
          "text": [
            "10 20 30\n"
          ]
        }
      ]
    },
    {
      "cell_type": "code",
      "source": [
        "f = 10.0\n",
        "c = 10+0j\n",
        "b = True\n",
        "print(f, type(f))\n",
        "print(c , type(c))\n",
        "print(b, type(b))"
      ],
      "metadata": {
        "colab": {
          "base_uri": "https://localhost:8080/"
        },
        "id": "gAHHDarH2pjp",
        "outputId": "3995815e-a0bf-482b-8605-0ef0def3b386"
      },
      "execution_count": null,
      "outputs": [
        {
          "output_type": "stream",
          "name": "stdout",
          "text": [
            "10.0 <class 'float'>\n",
            "(10+0j) <class 'complex'>\n",
            "True <class 'bool'>\n"
          ]
        }
      ]
    },
    {
      "cell_type": "code",
      "source": [
        "i = input(\"message/ prompt\")\n",
        "i"
      ],
      "metadata": {
        "colab": {
          "base_uri": "https://localhost:8080/",
          "height": 53
        },
        "id": "T6eA-HOq21I6",
        "outputId": "4163302b-1317-41aa-9312-2b6139b78841"
      },
      "execution_count": null,
      "outputs": [
        {
          "name": "stdout",
          "output_type": "stream",
          "text": [
            "message/ prompthello\n"
          ]
        },
        {
          "output_type": "execute_result",
          "data": {
            "text/plain": [
              "'hello'"
            ],
            "application/vnd.google.colaboratory.intrinsic+json": {
              "type": "string"
            }
          },
          "metadata": {},
          "execution_count": 2
        }
      ]
    },
    {
      "cell_type": "code",
      "source": [
        "i = bool(input(\"I want false output \"))\n",
        "i"
      ],
      "metadata": {
        "colab": {
          "base_uri": "https://localhost:8080/"
        },
        "id": "JD_a5YP53Ak8",
        "outputId": "be4c648b-21ab-43f9-b2ca-cc1706e1a402"
      },
      "execution_count": null,
      "outputs": [
        {
          "name": "stdout",
          "output_type": "stream",
          "text": [
            "I want false output \n"
          ]
        },
        {
          "output_type": "execute_result",
          "data": {
            "text/plain": [
              "False"
            ]
          },
          "metadata": {},
          "execution_count": 4
        }
      ]
    },
    {
      "cell_type": "code",
      "source": [
        "# operators\n",
        "# 1. Arith operator\n",
        "# +. -, /, *, //, **\n",
        "\n",
        "\n",
        "print(100 - 90)\n",
        "print(100 / 10)\n",
        "print(2 * 5)\n",
        "print(100//10)\n",
        "print(5 + 5)"
      ],
      "metadata": {
        "colab": {
          "base_uri": "https://localhost:8080/"
        },
        "id": "ty12uvFD3RGp",
        "outputId": "e0feed6d-643f-49e3-8b2b-2a21e2455a72"
      },
      "execution_count": null,
      "outputs": [
        {
          "output_type": "stream",
          "name": "stdout",
          "text": [
            "10\n",
            "10.0\n",
            "10\n",
            "10\n",
            "10\n"
          ]
        }
      ]
    },
    {
      "cell_type": "code",
      "source": [
        "# membership ope\n",
        "# 1. in, 2. not in\n",
        "\n",
        "print('p' in 'python')"
      ],
      "metadata": {
        "colab": {
          "base_uri": "https://localhost:8080/"
        },
        "id": "-LuniD0l9yeE",
        "outputId": "a333a8e6-f956-4be4-e0bf-4d3945d35886"
      },
      "execution_count": null,
      "outputs": [
        {
          "output_type": "stream",
          "name": "stdout",
          "text": [
            "True\n"
          ]
        }
      ]
    },
    {
      "cell_type": "code",
      "source": [
        "print('pp' not in 'python')"
      ],
      "metadata": {
        "colab": {
          "base_uri": "https://localhost:8080/"
        },
        "id": "AvmxdGp6-5bQ",
        "outputId": "6fc41d66-ff55-47d7-a722-c42b06673de4"
      },
      "execution_count": null,
      "outputs": [
        {
          "output_type": "stream",
          "name": "stdout",
          "text": [
            "True\n"
          ]
        }
      ]
    },
    {
      "cell_type": "code",
      "source": [
        "# indentical ope\n",
        "# 1. is, 2. is not\n",
        "\n",
        "# --> object comparison\n",
        "\n",
        "a = 10\n",
        "b = 10\n",
        "print(a is b)\n",
        "print(a is not b)\n",
        "\n",
        "print(a == b)"
      ],
      "metadata": {
        "colab": {
          "base_uri": "https://localhost:8080/"
        },
        "id": "xRfUEL3X-_Ye",
        "outputId": "df0bc9c5-2d7c-4478-8b70-5cfadaa095c6"
      },
      "execution_count": null,
      "outputs": [
        {
          "output_type": "stream",
          "name": "stdout",
          "text": [
            "True\n",
            "False\n",
            "True\n"
          ]
        }
      ]
    },
    {
      "cell_type": "code",
      "source": [
        "# swapping two num\n",
        "\n",
        "# input => a = 10, b =20\n",
        "# expected output : a = 20, b = 10\n",
        "\n",
        "a, b = 10, 20\n",
        "print(\"Befor swap : a : \", a, \" b = \", b)\n",
        "a, b = b, a\n",
        "print(\"After swap : a : \", a, \" b = \", b)"
      ],
      "metadata": {
        "colab": {
          "base_uri": "https://localhost:8080/"
        },
        "id": "CE494SjwAD41",
        "outputId": "e2e1d6ed-9973-47ad-e0de-d0f69a9cacb3"
      },
      "execution_count": null,
      "outputs": [
        {
          "output_type": "stream",
          "name": "stdout",
          "text": [
            "Befor swap : a :  10  b =  20\n",
            "After swap : a :  20  b =  10\n"
          ]
        }
      ]
    },
    {
      "cell_type": "code",
      "source": [
        "# formula based programming\n",
        "\n",
        "# o/p ==> area of circle\n",
        "r = float(input(\"Enter Integer value : \"))\n",
        "area = 3.14 * r ** 2\n",
        "print(\"Area of circle : \", area)"
      ],
      "metadata": {
        "colab": {
          "base_uri": "https://localhost:8080/"
        },
        "id": "abHTCdNdDB8j",
        "outputId": "198a6c63-ba43-42b9-dd11-470d864aab5d"
      },
      "execution_count": null,
      "outputs": [
        {
          "output_type": "stream",
          "name": "stdout",
          "text": [
            "Enter Integer value : 43\n",
            "Area of circle :  5805.860000000001\n"
          ]
        }
      ]
    },
    {
      "cell_type": "code",
      "source": [
        "r = float(input(\"Enter Integer value : \"))\n",
        "# area = 3.14 * r ** 2\n",
        "print(\"Area of circle : \", 3.14 * r ** 2)"
      ],
      "metadata": {
        "colab": {
          "base_uri": "https://localhost:8080/"
        },
        "id": "UbhIiyw1DsxL",
        "outputId": "8fe87969-1ece-434c-ea77-2cb98d1e6002"
      },
      "execution_count": null,
      "outputs": [
        {
          "output_type": "stream",
          "name": "stdout",
          "text": [
            "Enter Integer value : 5\n",
            "Area of circle :  78.5\n"
          ]
        }
      ]
    },
    {
      "cell_type": "code",
      "source": [
        "print(\"Area of circle : \", 3.14 * float(input(\"Enter Integer value : \")) ** 2)"
      ],
      "metadata": {
        "colab": {
          "base_uri": "https://localhost:8080/"
        },
        "id": "bAelpeXwEyR2",
        "outputId": "97a277e6-7f93-4f9f-f374-efcf618f34e0"
      },
      "execution_count": null,
      "outputs": [
        {
          "output_type": "stream",
          "name": "stdout",
          "text": [
            "Enter Integer value : 5\n",
            "Area of circle :  78.5\n"
          ]
        }
      ]
    },
    {
      "cell_type": "code",
      "source": [
        "# print percentage\n",
        "# user input -> total marks\n",
        "# process -> total_marsk * 100 / 500\n",
        "# Sample input -> 500\n",
        "# expected output --> percentage : 100.0\n",
        "\n",
        "total_marsk = float(input(\"Enter total marks : \"))\n",
        "per = (total_marsk * 100 ) / 500\n",
        "print(\"percentage : \", per)"
      ],
      "metadata": {
        "colab": {
          "base_uri": "https://localhost:8080/"
        },
        "id": "2n_thT-8E720",
        "outputId": "4ac87e42-a21c-4f97-ae97-d8f68f19e007"
      },
      "execution_count": null,
      "outputs": [
        {
          "output_type": "stream",
          "name": "stdout",
          "text": [
            "Enter total marks : 20\n",
            "percentage :  4.0\n"
          ]
        }
      ]
    },
    {
      "cell_type": "code",
      "source": [
        "# take 3 inputs from user and print percentage\n",
        "\n",
        "a, b, c = float(input(\"Enter total marks : \")), float(input(\"Enter total marks : \")), float(input(\"Enter total marks : \"))\n",
        "\n",
        "\n",
        "per = ((a + b + c) * 100 ) / 300\n",
        "print(\"percentage : \", per)"
      ],
      "metadata": {
        "colab": {
          "base_uri": "https://localhost:8080/"
        },
        "id": "NIz51WD8GNjW",
        "outputId": "30013a2f-b58e-40d1-cdf3-9e1bfcbe6e84"
      },
      "execution_count": null,
      "outputs": [
        {
          "output_type": "stream",
          "name": "stdout",
          "text": [
            "Enter total marks : 100\n",
            "Enter total marks : 100\n",
            "Enter total marks : 100\n",
            "percentage :  100.0\n"
          ]
        }
      ]
    },
    {
      "cell_type": "code",
      "source": [
        "# process -> (f - 32) * 5/9\n",
        "f = float(input(\"Enter total marks : \"))\n",
        "cal = (f - 32) * 5/9\n",
        "print(\"C : \", cal)"
      ],
      "metadata": {
        "colab": {
          "base_uri": "https://localhost:8080/"
        },
        "id": "wVYExYuMHKK1",
        "outputId": "baccfec9-b643-483c-8d5a-5770de50bd7e"
      },
      "execution_count": null,
      "outputs": [
        {
          "output_type": "stream",
          "name": "stdout",
          "text": [
            "Enter total marks : 100\n",
            "C :  37.77777777777778\n"
          ]
        }
      ]
    },
    {
      "cell_type": "code",
      "source": [
        "# Conditions\n",
        "\n",
        "# if condition:  (Boolean) t/f\n",
        "#   statement"
      ],
      "metadata": {
        "id": "K10UuQ7aIdTF"
      },
      "execution_count": null,
      "outputs": []
    },
    {
      "cell_type": "code",
      "source": [
        "\n",
        "user = int(input(\"Enter time : \"))\n",
        "\n",
        "if user == 9:\n",
        "  print(\"temple\")\n",
        "\n",
        "if user == 12:\n",
        "  print(\"Movie\")\n",
        "\n",
        "if user == 6:\n",
        "  print(\"Party\")"
      ],
      "metadata": {
        "colab": {
          "base_uri": "https://localhost:8080/"
        },
        "id": "WZb05K4jKGDt",
        "outputId": "eebb471f-01e9-44d0-b122-919760030163"
      },
      "execution_count": null,
      "outputs": [
        {
          "output_type": "stream",
          "name": "stdout",
          "text": [
            "Enter time : 12\n",
            "Movie\n"
          ]
        }
      ]
    },
    {
      "cell_type": "code",
      "source": [
        "if condition:\n",
        "  statement\n",
        "else:\n",
        "  statement"
      ],
      "metadata": {
        "id": "gFZEPREbKWyO"
      },
      "execution_count": null,
      "outputs": []
    },
    {
      "cell_type": "code",
      "source": [
        "user = int(input(\"Enter time : \"))\n",
        "\n",
        "if user == 9:\n",
        "  print(\"temple\")\n",
        "else:\n",
        "  print(\"Buy Cake\")"
      ],
      "metadata": {
        "colab": {
          "base_uri": "https://localhost:8080/"
        },
        "id": "FmW_gKc9KyxL",
        "outputId": "2fcc26e8-982d-4c9f-f65d-e460e6181306"
      },
      "execution_count": null,
      "outputs": [
        {
          "output_type": "stream",
          "name": "stdout",
          "text": [
            "Enter time : 5\n",
            "Buy Cake\n"
          ]
        }
      ]
    },
    {
      "cell_type": "code",
      "source": [
        "# take user input --> num\n",
        "# num is +ve or -ve\n",
        "\n",
        "num = int(input(\"Enter number : \"))\n",
        "if num > 0:\n",
        "  print(num , \" is +ve\")\n",
        "else:\n",
        "  print(num , \" is -ve\")"
      ],
      "metadata": {
        "id": "oaZsOZ4GLAYm",
        "colab": {
          "base_uri": "https://localhost:8080/"
        },
        "outputId": "6fd99138-72f4-4745-abd8-27932fd129a9"
      },
      "execution_count": null,
      "outputs": [
        {
          "output_type": "stream",
          "name": "stdout",
          "text": [
            "Enter number : 0\n",
            "0  is -ve\n"
          ]
        }
      ]
    },
    {
      "cell_type": "code",
      "source": [
        "# take user input --> num\n",
        "# num is +ve or -ve\n",
        "\n",
        "num = int(input(\"Enter number : \"))\n",
        "if num > 0:\n",
        "  print(num , \" is +ve\")\n",
        "elif num == 0:\n",
        "  print(num , \" is zero\")\n",
        "else:\n",
        "  print(num , \" is -ve\")"
      ],
      "metadata": {
        "colab": {
          "base_uri": "https://localhost:8080/"
        },
        "id": "70GFG0epeDGc",
        "outputId": "d95d11a4-5e7a-4d18-efff-929cb5022ad2"
      },
      "execution_count": null,
      "outputs": [
        {
          "output_type": "stream",
          "name": "stdout",
          "text": [
            "Enter number : 0\n",
            "0  is zero\n"
          ]
        }
      ]
    },
    {
      "cell_type": "code",
      "source": [
        "# 5 inputs from user\n",
        "# 40 >= pass\n",
        "# 60 >= distinct\n",
        "# 85 >= merit\n",
        "# 40 < fail\n",
        "\n",
        "# display --> percentage and class"
      ],
      "metadata": {
        "id": "T22B22gHgXON"
      },
      "execution_count": null,
      "outputs": []
    },
    {
      "cell_type": "code",
      "source": [
        "and --> when all is needed\n",
        "or --> when any one is needed"
      ],
      "metadata": {
        "id": "06pk0548mqgm"
      },
      "execution_count": null,
      "outputs": []
    },
    {
      "cell_type": "code",
      "source": [
        "a, b, c, d, e = int(input(\"Enter Marks : \")), int(input(\"Enter Marks : \")), int(input(\"Enter Marks : \")), int(input(\"Enter Marks : \")), int(input(\"Enter Marks : \"))\n",
        "\n",
        "per = ((a + b + c + d +e )*100) // 500\n",
        "\n",
        "if per <= 40:\n",
        "  print(fail)\n",
        "elif per <= 60:\n",
        "  print(pass)\n",
        "elif per < 85:\n",
        "  print(distinct)\n",
        "elif per <= 100:\n",
        "  print(merit)"
      ],
      "metadata": {
        "id": "A5Civ8fujD9Z"
      },
      "execution_count": null,
      "outputs": []
    },
    {
      "cell_type": "code",
      "source": [
        "a, b, c, d, e = int(input(\"Enter Marks : \")), int(input(\"Enter Marks : \")), int(input(\"Enter Marks : \")), int(input(\"Enter Marks : \")), int(input(\"Enter Marks : \"))\n",
        "\n",
        "if a >= 40 and b >= 40 and c >= 40 and d >= 40 and e >= 40:\n",
        "  per = ((a + b + c + d +e )*100) // 500\n",
        "\n",
        "  if per >= 0 and per <= 100:\n",
        "\n",
        "    if per <= 40:\n",
        "      print(\"Percentage : \", per, \"fail\")\n",
        "    elif per <= 60:\n",
        "      print(\"Percentage : \", per, \"pass\")\n",
        "    elif per < 85:\n",
        "      print(\"Percentage : \", per, \"distinct\")\n",
        "    elif per <= 100:\n",
        "      print(\"Percentage : \", per, \"merit\")\n",
        "  else:\n",
        "    print(\"Something went wrong\")\n",
        "\n",
        "else:\n",
        "  print(\"Tum se naa ho payee...\")"
      ],
      "metadata": {
        "colab": {
          "base_uri": "https://localhost:8080/"
        },
        "id": "3K1ZLPjAmjgx",
        "outputId": "4b7341e4-0dc5-4291-ab71-62793a2d317b"
      },
      "execution_count": null,
      "outputs": [
        {
          "output_type": "stream",
          "name": "stdout",
          "text": [
            "Enter Marks : 100\n",
            "Enter Marks : 100\n",
            "Enter Marks : 100\n",
            "Enter Marks : 100\n",
            "Enter Marks : 100\n",
            "Percentage :  100 merit\n"
          ]
        }
      ]
    },
    {
      "cell_type": "code",
      "source": [
        "# yera is leap or not\n",
        "# year is perfectly divisible by 4 but not 100 or can by 400\n",
        "\n",
        "year = int(input(\"Enter Year : \"))\n",
        "\n",
        "if (year%4==0 and year%100 != 0) or year%400==0:\n",
        "  print(year, \" is leap year\")\n",
        "else:\n",
        "  print(year, \" is not a leap year\")"
      ],
      "metadata": {
        "colab": {
          "base_uri": "https://localhost:8080/"
        },
        "id": "8eAtkOnBnhW-",
        "outputId": "3de6fbee-6731-4674-d8f2-e39f0da08b06"
      },
      "execution_count": null,
      "outputs": [
        {
          "output_type": "stream",
          "name": "stdout",
          "text": [
            "Enter Year : 2024\n",
            "2024  is leap year\n"
          ]
        }
      ]
    },
    {
      "cell_type": "code",
      "source": [
        "# take a number from user\n",
        "# if num is perfectly divisible by 3 and 5 then num is accepted otherwise rejected\n",
        "\n",
        "num = int(input(\"enter number : \"))\n",
        "\n",
        "if num % 3 == 0 and num % 5 == 0:\n",
        "  print(num, \"is accepted\")\n",
        "else:\n",
        "  print(num, \"is rejected\")"
      ],
      "metadata": {
        "colab": {
          "base_uri": "https://localhost:8080/"
        },
        "id": "6oFD1_HTp0Zk",
        "outputId": "20b4c3bc-c5a1-4098-ef19-aec1dacaca1a"
      },
      "execution_count": null,
      "outputs": [
        {
          "output_type": "stream",
          "name": "stdout",
          "text": [
            "enter number : 15\n",
            "15 is accepted\n"
          ]
        }
      ]
    },
    {
      "cell_type": "code",
      "source": [
        "# loops\n",
        "# 1. while\n",
        "# 2. for loop"
      ],
      "metadata": {
        "id": "_KZRlF2Uq7sL"
      },
      "execution_count": null,
      "outputs": []
    },
    {
      "cell_type": "code",
      "source": [
        "# 1 . while loop --> menu driven, digit separation\n",
        "# 1, 2,..., 10\n",
        "\n",
        "while condition(boolean):\n",
        "  statement"
      ],
      "metadata": {
        "id": "iWt_8YRcrLsT"
      },
      "execution_count": null,
      "outputs": []
    },
    {
      "cell_type": "code",
      "source": [
        "# 1, 2,..., 10\n",
        "start = 1\n",
        "end = 10\n",
        "while start <= end:\n",
        "  print(start)\n",
        "  start += 1  # start = start + 1\n"
      ],
      "metadata": {
        "colab": {
          "base_uri": "https://localhost:8080/"
        },
        "id": "5YO5-loEroNz",
        "outputId": "70caf7ac-887c-440a-b3ca-70b0b3cbb032"
      },
      "execution_count": null,
      "outputs": [
        {
          "output_type": "stream",
          "name": "stdout",
          "text": [
            "1\n",
            "2\n",
            "3\n",
            "4\n",
            "5\n",
            "6\n",
            "7\n",
            "8\n",
            "9\n",
            "10\n"
          ]
        }
      ]
    },
    {
      "cell_type": "code",
      "source": [
        "# 10, 9, 8,.....1\n",
        "\n",
        "start = 10\n",
        "end = 1\n",
        "while start >= end:\n",
        "  print(start)\n",
        "  start -= 1  # start = start + 1\n"
      ],
      "metadata": {
        "colab": {
          "base_uri": "https://localhost:8080/"
        },
        "id": "_ma3UEzismMp",
        "outputId": "fe85be8f-a052-475e-ed22-c676cf01dd85"
      },
      "execution_count": null,
      "outputs": [
        {
          "output_type": "stream",
          "name": "stdout",
          "text": [
            "10\n",
            "9\n",
            "8\n",
            "7\n",
            "6\n",
            "5\n",
            "4\n",
            "3\n",
            "2\n",
            "1\n"
          ]
        }
      ]
    },
    {
      "cell_type": "code",
      "source": [
        "-> 1, 3, 5, 7, 9, 11\n",
        "-> 2, 4, 6, 8, 10, 12\n",
        "-> 5, 2, 7, 4, 9, 6, 11\n",
        "\n",
        "-> take input from user --> start and end\n",
        "    print series"
      ],
      "metadata": {
        "id": "IoTfaNjNs0LR"
      },
      "execution_count": null,
      "outputs": []
    },
    {
      "cell_type": "code",
      "source": [
        "# -> 1, 3, 5, 7, 9, 11\n",
        "\n",
        "start = 1\n",
        "end = 11\n",
        "\n",
        "while start <= end:\n",
        "  print(start)\n",
        "  start += 2"
      ],
      "metadata": {
        "colab": {
          "base_uri": "https://localhost:8080/"
        },
        "id": "0neDXGDJuN66",
        "outputId": "4d4796e2-d09a-4530-8edc-6aa8ff15f4f4"
      },
      "execution_count": null,
      "outputs": [
        {
          "output_type": "stream",
          "name": "stdout",
          "text": [
            "1\n",
            "3\n",
            "5\n",
            "7\n",
            "9\n",
            "11\n"
          ]
        }
      ]
    },
    {
      "cell_type": "code",
      "source": [
        "# -> 1, 3, 5, 7, 9, 11\n",
        "\n",
        "start = 1\n",
        "end = 11\n",
        "\n",
        "while start <= end:\n",
        "  if start % 2 == 1:\n",
        "    print(start)\n",
        "  start += 1"
      ],
      "metadata": {
        "colab": {
          "base_uri": "https://localhost:8080/"
        },
        "id": "i8cPBe1FucmI",
        "outputId": "7eb3d0ce-bc0c-4ca4-de0b-bdc9eea9dd7e"
      },
      "execution_count": null,
      "outputs": [
        {
          "output_type": "stream",
          "name": "stdout",
          "text": [
            "1\n",
            "3\n",
            "5\n",
            "7\n",
            "9\n",
            "11\n"
          ]
        }
      ]
    },
    {
      "cell_type": "code",
      "source": [
        "# -> 1, 3, 5, 7, 9, 11\n",
        "\n",
        "start = 1\n",
        "end = 11\n",
        "\n",
        "while start <= end:\n",
        "  if start % 2 == 0:\n",
        "    print(start)\n",
        "  start += 1"
      ],
      "metadata": {
        "colab": {
          "base_uri": "https://localhost:8080/"
        },
        "id": "MKeB88XZund3",
        "outputId": "0d059a3a-c660-49a5-8ef1-b856f47a8f9a"
      },
      "execution_count": null,
      "outputs": [
        {
          "output_type": "stream",
          "name": "stdout",
          "text": [
            "2\n",
            "4\n",
            "6\n",
            "8\n",
            "10\n"
          ]
        }
      ]
    },
    {
      "cell_type": "code",
      "source": [
        "# -> 5, 2, 7, 4, 9, 6, 11\n",
        "\n",
        "start = 1\n",
        "end = 11\n",
        "\n",
        "while start <= end:\n",
        "  if start % 2 == 1:\n",
        "    print(start+4)\n",
        "  else:\n",
        "    print(start)\n",
        "  start += 1"
      ],
      "metadata": {
        "colab": {
          "base_uri": "https://localhost:8080/"
        },
        "id": "KxYdj3_6uqlf",
        "outputId": "245d995a-44c4-4aee-dfcf-a534d01c32a6"
      },
      "execution_count": null,
      "outputs": [
        {
          "output_type": "stream",
          "name": "stdout",
          "text": [
            "5\n",
            "2\n",
            "7\n",
            "4\n",
            "9\n",
            "6\n",
            "11\n",
            "8\n",
            "13\n",
            "10\n",
            "15\n"
          ]
        }
      ]
    },
    {
      "cell_type": "code",
      "source": [
        "-> take input from user --> start and end\n",
        "    print series"
      ],
      "metadata": {
        "id": "AFegyZpDwL7i"
      },
      "execution_count": null,
      "outputs": []
    },
    {
      "cell_type": "code",
      "source": [
        "# sample input --> 123450\n",
        "# expecteed output --> 6\n",
        "\n",
        "user_num = int(input(\"Enter a number : \"))\n",
        "count = 0\n",
        "while user_num > 0:\n",
        "  count += 1\n",
        "  user_num //= 10\n",
        "\n",
        "print(\"Digit : \", count)"
      ],
      "metadata": {
        "colab": {
          "base_uri": "https://localhost:8080/"
        },
        "id": "_uXoCAlPwvff",
        "outputId": "ee915f12-aaa3-4e09-ea1d-c875dcd1dd0b"
      },
      "execution_count": null,
      "outputs": [
        {
          "output_type": "stream",
          "name": "stdout",
          "text": [
            "Enter a number : 12\n",
            "Digit :  2\n"
          ]
        }
      ]
    },
    {
      "cell_type": "code",
      "source": [
        "# for loop\n",
        "\n",
        "# form-1\n",
        "a = range(10)\n",
        "print(type(a), a)"
      ],
      "metadata": {
        "colab": {
          "base_uri": "https://localhost:8080/"
        },
        "id": "TCt6o4KWyrHy",
        "outputId": "0044e253-1763-4e11-fea8-2c1c5b701114"
      },
      "execution_count": null,
      "outputs": [
        {
          "output_type": "stream",
          "name": "stdout",
          "text": [
            "<class 'range'> range(0, 10)\n"
          ]
        }
      ]
    },
    {
      "cell_type": "code",
      "source": [
        "# form-2\n",
        "range(1, 10)"
      ],
      "metadata": {
        "colab": {
          "base_uri": "https://localhost:8080/"
        },
        "id": "zytkgD9jzYn7",
        "outputId": "d896afd7-9f2b-41de-d9b2-0652e3bcc5f6"
      },
      "execution_count": null,
      "outputs": [
        {
          "output_type": "execute_result",
          "data": {
            "text/plain": [
              "range(1, 10)"
            ]
          },
          "metadata": {},
          "execution_count": 32
        }
      ]
    },
    {
      "cell_type": "code",
      "source": [
        "# form-3\n",
        "range(1, 10, 2)"
      ],
      "metadata": {
        "colab": {
          "base_uri": "https://localhost:8080/"
        },
        "id": "TsUb8_aQzqRU",
        "outputId": "eee6e29b-79d7-481c-df60-8c060e9231c5"
      },
      "execution_count": null,
      "outputs": [
        {
          "output_type": "execute_result",
          "data": {
            "text/plain": [
              "range(1, 10, 2)"
            ]
          },
          "metadata": {},
          "execution_count": 33
        }
      ]
    },
    {
      "cell_type": "code",
      "source": [
        "for x in collection datatype:\n",
        "  statement\n",
        "\n",
        "\n",
        "range(start, condition, increment/decrement)\n",
        "\n",
        "start --> 0 --> optional  -> included\n",
        "condition --> mandatory -> excluded +1\n",
        "increment/decrement --> +1 --> optional"
      ],
      "metadata": {
        "id": "HQJX2yCGzuIj"
      },
      "execution_count": null,
      "outputs": []
    },
    {
      "cell_type": "code",
      "source": [
        "for x in range(0, 1):\n",
        "  print(x)"
      ],
      "metadata": {
        "colab": {
          "base_uri": "https://localhost:8080/"
        },
        "id": "GOsr_ZO7z6Wh",
        "outputId": "b7194050-0d03-4a3d-dc4f-cd651c8eb412"
      },
      "execution_count": null,
      "outputs": [
        {
          "output_type": "stream",
          "name": "stdout",
          "text": [
            "0\n"
          ]
        }
      ]
    },
    {
      "cell_type": "code",
      "source": [
        "for x in range(1, 10+1, 1):\n",
        "  print(x)"
      ],
      "metadata": {
        "colab": {
          "base_uri": "https://localhost:8080/"
        },
        "id": "bcNTF7QFz_In",
        "outputId": "d7085f2e-70ee-4351-997f-bdc38d7aaa20"
      },
      "execution_count": null,
      "outputs": [
        {
          "output_type": "stream",
          "name": "stdout",
          "text": [
            "1\n",
            "2\n",
            "3\n",
            "4\n",
            "5\n",
            "6\n",
            "7\n",
            "8\n",
            "9\n",
            "10\n"
          ]
        }
      ]
    },
    {
      "cell_type": "code",
      "source": [
        "for x in range(10, 0, -1):\n",
        "  print(x)"
      ],
      "metadata": {
        "colab": {
          "base_uri": "https://localhost:8080/"
        },
        "id": "t9-v5XER09yN",
        "outputId": "73647941-77c2-4ebd-ba4e-931aff86a92e"
      },
      "execution_count": null,
      "outputs": [
        {
          "output_type": "stream",
          "name": "stdout",
          "text": [
            "10\n",
            "9\n",
            "8\n",
            "7\n",
            "6\n",
            "5\n",
            "4\n",
            "3\n",
            "2\n",
            "1\n"
          ]
        }
      ]
    },
    {
      "cell_type": "code",
      "source": [
        "# 1, 3, 5, 7, 9\n",
        "\n",
        "for x in range(1, 10, 2):\n",
        "  print(x)"
      ],
      "metadata": {
        "colab": {
          "base_uri": "https://localhost:8080/"
        },
        "id": "poM-6k0w1GBa",
        "outputId": "4c88bbd7-ddbe-4d32-b0c0-8c8bc98e470a"
      },
      "execution_count": null,
      "outputs": [
        {
          "output_type": "stream",
          "name": "stdout",
          "text": [
            "1\n",
            "3\n",
            "5\n",
            "7\n",
            "9\n"
          ]
        }
      ]
    },
    {
      "cell_type": "code",
      "source": [
        "# 2, 4, 6, 8, 10\n",
        "for x in range(2, 10+1, 2):\n",
        "  print(x)"
      ],
      "metadata": {
        "colab": {
          "base_uri": "https://localhost:8080/"
        },
        "id": "TDCjIZS11uN_",
        "outputId": "11e2c03d-3aae-4c08-8441-bb7af81f8330"
      },
      "execution_count": null,
      "outputs": [
        {
          "output_type": "stream",
          "name": "stdout",
          "text": [
            "2\n",
            "4\n",
            "6\n",
            "8\n",
            "10\n"
          ]
        }
      ]
    },
    {
      "cell_type": "code",
      "source": [
        "start --> 1\n",
        "end --> 5\n",
        "o/p --> 1, 2, 3, 4, 5\n",
        "\n",
        "start --> 5\n",
        "end --> 1\n",
        "o/p --> 5, 4, 3, 2, 1"
      ],
      "metadata": {
        "id": "ID8QxJjS188A"
      },
      "execution_count": null,
      "outputs": []
    },
    {
      "cell_type": "code",
      "source": [
        "start = int(input(\"enter number \"))\n",
        "end = int(input(\"enter number \"))\n",
        "\n",
        "if start > end:\n",
        "\n",
        "  for  x in range(start, end-1, -1):\n",
        "    print(x)\n",
        "else:\n",
        "  for  x in range(start, end+1, 1):\n",
        "    print(x)"
      ],
      "metadata": {
        "colab": {
          "base_uri": "https://localhost:8080/"
        },
        "id": "yYKHKbVq26mh",
        "outputId": "543d2637-d6eb-4066-ec02-85945323cdfe"
      },
      "execution_count": null,
      "outputs": [
        {
          "output_type": "stream",
          "name": "stdout",
          "text": [
            "enter number 1\n",
            "enter number 6\n",
            "1\n",
            "2\n",
            "3\n",
            "4\n",
            "5\n",
            "6\n"
          ]
        }
      ]
    },
    {
      "cell_type": "code",
      "source": [
        "# # patterns\n",
        "\n",
        "# * * *\n",
        "# * * *\n",
        "# * * *\n",
        "# * * *\n",
        "\n",
        "for row in range(4):\n",
        "  for col in range(4):\n",
        "    print(\"*\", end = \" \")\n",
        "  print()"
      ],
      "metadata": {
        "colab": {
          "base_uri": "https://localhost:8080/"
        },
        "id": "3tfOCYMF3Rkm",
        "outputId": "2c6c7c29-5ead-46bb-d7f5-94e15860c7cd"
      },
      "execution_count": null,
      "outputs": [
        {
          "output_type": "stream",
          "name": "stdout",
          "text": [
            "* * * * \n",
            "* * * * \n",
            "* * * * \n",
            "* * * * \n"
          ]
        }
      ]
    },
    {
      "cell_type": "code",
      "source": [
        "for row in range(1, 5):\n",
        "  for col in range(1, 5):\n",
        "    print(row,col , end = \"   \")\n",
        "  print()"
      ],
      "metadata": {
        "colab": {
          "base_uri": "https://localhost:8080/"
        },
        "id": "h2TM447M327d",
        "outputId": "515b4645-f1c8-4006-cfac-709824c3e45b"
      },
      "execution_count": null,
      "outputs": [
        {
          "output_type": "stream",
          "name": "stdout",
          "text": [
            "1 1   1 2   1 3   1 4   \n",
            "2 1   2 2   2 3   2 4   \n",
            "3 1   3 2   3 3   3 4   \n",
            "4 1   4 2   4 3   4 4   \n"
          ]
        }
      ]
    },
    {
      "cell_type": "code",
      "source": [
        "for row in range(1, 5):\n",
        "  for col in range(1, 5):\n",
        "    print(row*10+col , end = \"   \")\n",
        "  print()"
      ],
      "metadata": {
        "colab": {
          "base_uri": "https://localhost:8080/"
        },
        "id": "R2_JKATc5kuK",
        "outputId": "4beda769-da55-470b-bda1-c8ee0ff67b24"
      },
      "execution_count": null,
      "outputs": [
        {
          "output_type": "stream",
          "name": "stdout",
          "text": [
            "11   12   13   14   \n",
            "21   22   23   24   \n",
            "31   32   33   34   \n",
            "41   42   43   44   \n"
          ]
        }
      ]
    },
    {
      "cell_type": "code",
      "source": [
        "# *\n",
        "# * *\n",
        "# * * *\n",
        "# * * * *\n",
        "\n",
        "for row in range(1, 5):\n",
        "  for col in range(1, row+1):\n",
        "    print(\"*\" , end = \" \")\n",
        "  print()"
      ],
      "metadata": {
        "colab": {
          "base_uri": "https://localhost:8080/"
        },
        "id": "Ef_ECWRV6p5H",
        "outputId": "7affd33b-70b9-4c14-d345-3769d9ac1c25"
      },
      "execution_count": null,
      "outputs": [
        {
          "output_type": "stream",
          "name": "stdout",
          "text": [
            "* \n",
            "* * \n",
            "* * * \n",
            "* * * * \n"
          ]
        }
      ]
    },
    {
      "cell_type": "code",
      "source": [
        "# 1 1 1 1\n",
        "# 0 0 0 0\n",
        "# 1 1 1 1\n",
        "# 0 0 0 0\n",
        "\n",
        "\n",
        "for row in range(1, 4+1):\n",
        "  for col in range(4):\n",
        "    print(row%2, end = \" \")\n",
        "  print()"
      ],
      "metadata": {
        "colab": {
          "base_uri": "https://localhost:8080/"
        },
        "id": "VuQohedb7uzi",
        "outputId": "621a52a7-7f65-4152-c64a-33a5e24ee1ba"
      },
      "execution_count": null,
      "outputs": [
        {
          "output_type": "stream",
          "name": "stdout",
          "text": [
            "1 1 1 1 \n",
            "0 0 0 0 \n",
            "1 1 1 1 \n",
            "0 0 0 0 \n"
          ]
        }
      ]
    },
    {
      "cell_type": "code",
      "source": [
        "# 1 0 1 0\n",
        "# 1 0 1 0\n",
        "# 1 0 1 0\n",
        "# 1 0 1 0\n",
        "\n",
        "\n",
        "for row in range(4):\n",
        "  for col in range(1, 4+1):\n",
        "    print(col%2, end = \" \")\n",
        "  print()"
      ],
      "metadata": {
        "colab": {
          "base_uri": "https://localhost:8080/"
        },
        "id": "4L_o84DA8nkx",
        "outputId": "8e91ce27-d943-4f3d-b05e-79ec806c0b65"
      },
      "execution_count": null,
      "outputs": [
        {
          "output_type": "stream",
          "name": "stdout",
          "text": [
            "1 0 1 0 \n",
            "1 0 1 0 \n",
            "1 0 1 0 \n",
            "1 0 1 0 \n"
          ]
        }
      ]
    },
    {
      "cell_type": "code",
      "source": [
        "* * *\n",
        "* *\n",
        "*"
      ],
      "metadata": {
        "id": "MZ2T9HVI9GL9"
      },
      "execution_count": null,
      "outputs": []
    }
  ]
}